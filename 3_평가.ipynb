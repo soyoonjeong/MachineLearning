{
  "nbformat": 4,
  "nbformat_minor": 0,
  "metadata": {
    "colab": {
      "provenance": [],
      "collapsed_sections": [],
      "toc_visible": true,
      "mount_file_id": "1kJ61i0lU9VDl0Y12URnzv-sEMR_11Esc",
      "authorship_tag": "ABX9TyOIz7bXJNv161NjWEIbuD6J",
      "include_colab_link": true
    },
    "kernelspec": {
      "name": "python3",
      "display_name": "Python 3"
    },
    "language_info": {
      "name": "python"
    }
  },
  "cells": [
    {
      "cell_type": "markdown",
      "metadata": {
        "id": "view-in-github",
        "colab_type": "text"
      },
      "source": [
        "<a href=\"https://colab.research.google.com/github/soyoonjeong/MachineLearning/blob/main/3_%ED%8F%89%EA%B0%80.ipynb\" target=\"_parent\"><img src=\"https://colab.research.google.com/assets/colab-badge.svg\" alt=\"Open In Colab\"/></a>"
      ]
    },
    {
      "cell_type": "markdown",
      "source": [
        "성능 평가 지표\n",
        "- 회귀 : 실제값과 예측값의 오차 평균값 기반\n",
        "- 분류 : 정확도, 오차행렬, 정밀도, 재현율, ...<BR>\n",
        "이번 챕터에서는 분류의 성능 평가 지표에 대해 알아봄 !"
      ],
      "metadata": {
        "id": "6PMgiO01Piqs"
      }
    },
    {
      "cell_type": "markdown",
      "source": [
        "# 정확도\n",
        ": 실제 데이터에서 예측 데이터가 얼마나 같은지를 판단<BR>\n",
        "PROBLEM : 이진 분류에서 데이터 구성에 따라 ML 모델 성능을 왜곡할 수 있음 \n"
      ],
      "metadata": {
        "id": "hV4czJZnP6Iw"
      }
    },
    {
      "cell_type": "markdown",
      "source": [
        "### 예시 1 : 타이타닉 데이터에서 여자는 생존, 남자는 사망으로 예측"
      ],
      "metadata": {
        "id": "qPNuvDziQNPA"
      }
    },
    {
      "cell_type": "code",
      "source": [
        "import numpy as np\n",
        "import pandas as pd"
      ],
      "metadata": {
        "id": "DApB2SiqQ5af"
      },
      "execution_count": 1,
      "outputs": []
    },
    {
      "cell_type": "code",
      "execution_count": 2,
      "metadata": {
        "id": "D0wcBk5HPeKt"
      },
      "outputs": [],
      "source": [
        "from sklearn.base import BaseEstimator\n",
        "\n",
        "class MyDummyClassifier(BaseEstimator):\n",
        "  def fit(self, X, y = None):\n",
        "    pass\n",
        "  def predict(self, X):\n",
        "    pred = np.zeros((X.shape[0],1))\n",
        "    for i in range(X.shape[0]):\n",
        "      if X['Sex'].iloc[i]==1:\n",
        "        pred[i] = 0\n",
        "      else:\n",
        "        pred[i] = 1\n",
        "    return pred"
      ]
    },
    {
      "cell_type": "code",
      "source": [
        "import pandas as pd\n",
        "from sklearn.preprocessing import LabelEncoder\n",
        "\n",
        "# Null 처리 함수\n",
        "def fillna(df):\n",
        "    df['Age'].fillna(df['Age'].mean(),inplace=True)\n",
        "    df['Cabin'].fillna('N',inplace=True)\n",
        "    df['Embarked'].fillna('N',inplace=True)\n",
        "    df['Fare'].fillna(0,inplace=True)\n",
        "    return df\n",
        "\n",
        "# 머신러닝 알고리즘에 불필요한 속성 제거\n",
        "def drop_features(df):\n",
        "    df.drop(['PassengerId','Name','Ticket'],axis=1,inplace=True)\n",
        "    return df\n",
        "\n",
        "# 레이블 인코딩 수행. \n",
        "def format_features(df):\n",
        "    df['Cabin'] = df['Cabin'].str[:1]\n",
        "    features = ['Cabin','Sex','Embarked']\n",
        "    for feature in features:\n",
        "        le = LabelEncoder()\n",
        "        le = le.fit(df[feature])\n",
        "        df[feature] = le.transform(df[feature])\n",
        "    return df\n",
        "\n",
        "# 앞에서 설정한 Data Preprocessing 함수 호출\n",
        "def transform_features(df):\n",
        "    df = fillna(df)\n",
        "    df = drop_features(df)\n",
        "    df = format_features(df)\n",
        "    return df"
      ],
      "metadata": {
        "id": "wFPKRTp3QtCw"
      },
      "execution_count": 3,
      "outputs": []
    },
    {
      "cell_type": "code",
      "source": [
        "from sklearn.model_selection import train_test_split\n",
        "from sklearn.metrics import accuracy_score\n",
        "\n",
        "titanic_df = pd.read_csv(\"/content/drive/MyDrive/datasets/타이타닉/train.csv\")\n",
        "y_titanic_df = titanic_df['Survived']\n",
        "X_titanic_df = titanic_df.drop('Survived', axis = 1)\n",
        "X_titanic_df = transform_features(X_titanic_df)\n",
        "X_train, X_test, y_train, y_test = train_test_split(X_titanic_df, y_titanic_df, test_size = 0.2, random_state = 49)\n",
        "\n",
        "myclf = MyDummyClassifier()\n",
        "myclf.fit(X_train, y_train)\n",
        "mypredictions = myclf.predict(X_test)\n",
        "print('Dummy Classfier의 정확도 : {0:.4f}'.format(accuracy_score(y_test, mypredictions)))"
      ],
      "metadata": {
        "colab": {
          "base_uri": "https://localhost:8080/"
        },
        "id": "FAJSPFDDRbvX",
        "outputId": "c8931fb5-1f78-4164-e796-bc0d77dbe4cd"
      },
      "execution_count": 4,
      "outputs": [
        {
          "output_type": "stream",
          "name": "stdout",
          "text": [
            "Dummy Classfier의 정확도 : 0.7765\n"
          ]
        }
      ]
    },
    {
      "cell_type": "markdown",
      "source": [
        "성별에 따라 단순하게 예측한 결과도 0.7765라는 높은 정확도를 보이고 있음 -> 문제"
      ],
      "metadata": {
        "id": "bhj8aM2cTgtz"
      }
    },
    {
      "cell_type": "markdown",
      "source": [
        "### 예시 2 MNIST 데이터 : 레이블 분포가 불균형한 경우 \n",
        "- 데이터 : MNIST 데이터셋\n",
        "- 분류 : 7과 7이 아닌 것 \n",
        "- 데이터 분포 : 7이 아닌 것이 90%\n",
        "- 예측 : 다 7이 아니라고 예측"
      ],
      "metadata": {
        "id": "Yiv7nrxhTsSN"
      }
    },
    {
      "cell_type": "code",
      "source": [
        "from sklearn.datasets import load_digits\n",
        "from sklearn.model_selection import train_test_split\n",
        "from sklearn.base import BaseEstimator\n",
        "from sklearn.metrics import accuracy_score\n",
        "import numpy as np\n",
        "import pandas as pd\n",
        "\n",
        "class myFakeClassifier(BaseEstimator):\n",
        "  def fit(self, X, y):\n",
        "    pass\n",
        "  def predict(self, X):\n",
        "    return np.zeros((len(X),1), dtype = bool)\n",
        "\n",
        "digits = load_digits()\n",
        "print('### digits.data.shape :', digits.data.shape)\n",
        "print('### digits.target.shape :', digits.target.shape)\n",
        "y = (digits.target==7).astype(int)\n",
        "X_train, X_test, y_train, y_test = train_test_split(digits.data, y, random_state = 49)"
      ],
      "metadata": {
        "colab": {
          "base_uri": "https://localhost:8080/"
        },
        "id": "LckMr52DUFJP",
        "outputId": "3e73498c-6f19-461a-9fc5-35669fb7a5f4"
      },
      "execution_count": 5,
      "outputs": [
        {
          "output_type": "stream",
          "name": "stdout",
          "text": [
            "### digits.data.shape : (1797, 64)\n",
            "### digits.target.shape : (1797,)\n"
          ]
        }
      ]
    },
    {
      "cell_type": "code",
      "source": [
        "# 불균형한 레이블 데이터 분포도 확인\n",
        "print('레이블 테스트 세트 크기 : ', y_test.shape)\n",
        "print('테스트 세트 레이블 0과 1의 분포도 : ', pd.Series(y_test).value_counts())\n",
        "\n",
        "# DummyClassifier로 학습/예측/정확도 평가\n",
        "fakeclf = myFakeClassifier()\n",
        "fakeclf.fit(X_train, y_train)\n",
        "pred = fakeclf.predict(X_test)\n",
        "print('모든 예측을 0으로 하여도 정확도 : {0:.4f}'.format(accuracy_score(y_test, pred)))"
      ],
      "metadata": {
        "colab": {
          "base_uri": "https://localhost:8080/"
        },
        "id": "hH5P8eRLYGOJ",
        "outputId": "e3119e89-237c-47e8-9301-d70e953666ce"
      },
      "execution_count": 6,
      "outputs": [
        {
          "output_type": "stream",
          "name": "stdout",
          "text": [
            "레이블 테스트 세트 크기 :  (450,)\n",
            "테스트 세트 레이블 0과 1의 분포도 :  0    410\n",
            "1     40\n",
            "dtype: int64\n",
            "모든 예측을 0으로 하여도 정확도 : 0.9111\n"
          ]
        }
      ]
    },
    {
      "cell_type": "markdown",
      "source": [
        "# 오차 행렬\n",
        "Classifier 성능의 여러 면모를 판단할 수 있는 기반 정보 제공 "
      ],
      "metadata": {
        "id": "DOZ4ESaeYy1j"
      }
    },
    {
      "cell_type": "markdown",
      "source": [
        "![image.png](data:image/png;base64,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)"
      ],
      "metadata": {
        "id": "5AfPtR23Y5RC"
      }
    },
    {
      "cell_type": "code",
      "source": [
        "from sklearn.metrics import confusion_matrix\n",
        "confusion_matrix(y_test, pred) # 앞 MNIST 데이터 예시"
      ],
      "metadata": {
        "colab": {
          "base_uri": "https://localhost:8080/"
        },
        "id": "DwfZKD1XYu_I",
        "outputId": "7fec747d-3d1c-45c3-8d4a-7474c8657643"
      },
      "execution_count": 7,
      "outputs": [
        {
          "output_type": "execute_result",
          "data": {
            "text/plain": [
              "array([[410,   0],\n",
              "       [ 40,   0]])"
            ]
          },
          "metadata": {},
          "execution_count": 7
        }
      ]
    },
    {
      "cell_type": "markdown",
      "source": [
        "# 정밀도와 재현율"
      ],
      "metadata": {
        "id": "K2S25_F0fLTW"
      }
    },
    {
      "cell_type": "markdown",
      "source": [
        "Positive 데이터 세트의 예측 성능에 좀 더 초점을 맞춘 평가 지표 \n",
        "- 정밀도(precision) : 예측을 positive로 한 것들 중 예측과 실제값이 positive로 일치한 데이터의 비율 (예측 중 실제)<br>\n",
        "TP / (TP+FP)<BR>\n",
        "- 재현율(recall) : 실제값이 positive인 대상 중에 예측과 실제 값이 positive로 일치한 데이터의 비율(실제 중 예측)<br>\n",
        "TP / (TP+FN)<BR>"
      ],
      "metadata": {
        "id": "eH30KtH3fNm9"
      }
    },
    {
      "cell_type": "markdown",
      "source": [
        "- 정밀도가 더 중요한 지표인 경우 : positive를 신중하게 예측해야 하는 경우 ex) 스팸 메일 분류 <br>\n",
        "실제 negative인 데이터를 positive로 예측하면 큰일\n",
        "- 재현율이 더 중요한 지표인 경우 : positive를 놓치면 안되는 경우 ex) 암 판단 모델, 금융 사기 적발 모델<br>\n",
        "실제 positive인 데이터를 negative로 예측하면 큰일"
      ],
      "metadata": {
        "id": "3OubXu3tgD6S"
      }
    },
    {
      "cell_type": "code",
      "source": [
        "from sklearn.metrics import accuracy_score, precision_score, recall_score, confusion_matrix\n",
        "\n",
        "def get_clf_eval(y_test, pred):\n",
        "  confusion = confusion_matrix(y_test, pred)\n",
        "  accuracy = accuracy_score(y_test, pred)\n",
        "  precision = precision_score(y_test, pred)\n",
        "  recall = recall_score(y_test, pred)\n",
        "  print(\"오차 행렬 :\")\n",
        "  print(confusion)\n",
        "  print(\"정확도 : {0:.4f}, 정밀도 : {1:.4f}, 재현율 : {2:.4f}\".format(accuracy,precision,recall))"
      ],
      "metadata": {
        "id": "nEkwPKjOg3fk"
      },
      "execution_count": 8,
      "outputs": []
    },
    {
      "cell_type": "code",
      "source": [
        "import numpy as np\n",
        "import pandas as pd\n",
        "\n",
        "from sklearn.model_selection import train_test_split\n",
        "from sklearn.linear_model import LogisticRegression\n",
        "\n",
        "titanic_df = pd.read_csv(\"/content/drive/MyDrive/datasets/타이타닉/train.csv\")\n",
        "y_titanic_df = titanic_df['Survived']\n",
        "X_titanic_df = titanic_df.drop('Survived', axis = 1)\n",
        "X_titanic_df = transform_features(X_titanic_df)\n",
        "X_train, X_test, y_train, y_test = train_test_split(X_titanic_df, y_titanic_df, test_size = 0.2, random_state = 49)\n",
        "\n",
        "lr_clf = LogisticRegression()\n",
        "lr_clf.fit(X_train, y_train)\n",
        "pred = lr_clf.predict(X_test)\n",
        "get_clf_eval(y_test, pred)"
      ],
      "metadata": {
        "colab": {
          "base_uri": "https://localhost:8080/"
        },
        "id": "sm2vWTj2hpYf",
        "outputId": "789c20ac-a4b8-4f76-d4db-c849cb2cdee4"
      },
      "execution_count": 9,
      "outputs": [
        {
          "output_type": "stream",
          "name": "stdout",
          "text": [
            "오차 행렬 :\n",
            "[[97 17]\n",
            " [14 51]]\n",
            "정확도 : 0.8268, 정밀도 : 0.7500, 재현율 : 0.7846\n"
          ]
        },
        {
          "output_type": "stream",
          "name": "stderr",
          "text": [
            "/usr/local/lib/python3.7/dist-packages/sklearn/linear_model/_logistic.py:818: ConvergenceWarning: lbfgs failed to converge (status=1):\n",
            "STOP: TOTAL NO. of ITERATIONS REACHED LIMIT.\n",
            "\n",
            "Increase the number of iterations (max_iter) or scale the data as shown in:\n",
            "    https://scikit-learn.org/stable/modules/preprocessing.html\n",
            "Please also refer to the documentation for alternative solver options:\n",
            "    https://scikit-learn.org/stable/modules/linear_model.html#logistic-regression\n",
            "  extra_warning_msg=_LOGISTIC_SOLVER_CONVERGENCE_MSG,\n"
          ]
        }
      ]
    },
    {
      "cell_type": "markdown",
      "source": [
        "## 정밀도/재현율 트레이드오프"
      ],
      "metadata": {
        "id": "4SsncCgYiPIp"
      }
    },
    {
      "cell_type": "markdown",
      "source": [
        "분류의 결정 임곗값을 조정해 정밀도 또는 재현율의 수치를 높힐 수 있음 "
      ],
      "metadata": {
        "id": "IJejH78OIi_p"
      }
    },
    {
      "cell_type": "markdown",
      "source": [
        "#### predict_proba() 메소드 확인"
      ],
      "metadata": {
        "id": "O4rObX0aI1Pu"
      }
    },
    {
      "cell_type": "code",
      "source": [
        "pred_proba = lr_clf.predict_proba(X_test)\n",
        "pred = lr_clf.predict(X_test)\n",
        "\n",
        "print('pred_proba() 결과 shape : ', pred_proba.shape)\n",
        "# 예측 확률 array와 예측 결과값 array를 concatenate 하여 예측 확률과 결과값을 한눈에\n",
        "pred_proba_result = np.concatenate([pred_proba, pred.reshape(-1,1)], axis = 1) # pred : 1차원->2차원\n",
        "print(\"두개의 class 중에서 더 큰 확률을 클래스 값으로 예측\")\n",
        "print(pred_proba_result[:10])\n"
      ],
      "metadata": {
        "colab": {
          "base_uri": "https://localhost:8080/"
        },
        "id": "8xNLdDg8Ib0T",
        "outputId": "77a2fde2-eeb2-44de-ba9b-4e3c1334d72c"
      },
      "execution_count": 10,
      "outputs": [
        {
          "output_type": "stream",
          "name": "stdout",
          "text": [
            "pred_proba() 결과 shape :  (179, 2)\n",
            "두개의 class 중에서 더 큰 확률을 클래스 값으로 예측\n",
            "[[0.87229936 0.12770064 0.        ]\n",
            " [0.85554841 0.14445159 0.        ]\n",
            " [0.8761385  0.1238615  0.        ]\n",
            " [0.78361667 0.21638333 0.        ]\n",
            " [0.19121293 0.80878707 1.        ]\n",
            " [0.87233662 0.12766338 0.        ]\n",
            " [0.92877655 0.07122345 0.        ]\n",
            " [0.35652991 0.64347009 1.        ]\n",
            " [0.47961    0.52039    1.        ]\n",
            " [0.7711604  0.2288396  0.        ]]\n"
          ]
        }
      ]
    },
    {
      "cell_type": "markdown",
      "source": [
        "#### Binarizer 활용"
      ],
      "metadata": {
        "id": "B6JM2Zv5J5zZ"
      }
    },
    {
      "cell_type": "code",
      "source": [
        "from sklearn.preprocessing import Binarizer\n",
        "\n",
        "X = [[1,-1,2],\n",
        "     [2,0,0],\n",
        "     [0,1.1,1.2]]\n",
        "binarizer = Binarizer(threshold = 1.1) # threshold 이하 0, 초과 1\n",
        "print(binarizer.fit_transform(X))"
      ],
      "metadata": {
        "colab": {
          "base_uri": "https://localhost:8080/"
        },
        "id": "fb_KM5vhJ8W5",
        "outputId": "373bdf52-4063-4eea-c705-74234e606f2b"
      },
      "execution_count": 11,
      "outputs": [
        {
          "output_type": "stream",
          "name": "stdout",
          "text": [
            "[[0. 0. 1.]\n",
            " [1. 0. 0.]\n",
            " [0. 0. 1.]]\n"
          ]
        }
      ]
    },
    {
      "cell_type": "markdown",
      "source": [
        "#### 여러 개의 분류 결정 임곗값을 변경하면서 Binarizer를 이용하여 예측값 변환"
      ],
      "metadata": {
        "id": "9RgTzqF0JwhL"
      }
    },
    {
      "cell_type": "code",
      "source": [
        "threshold = [0.4, 0.45, 0.5, 0.55, 0.6]\n",
        "\n",
        "def get_eval_by_threshold(y_test, pred_proba_c1, thresholds):\n",
        "  for custom_threshold in thresholds:\n",
        "    binarizer = Binarizer(threshold = custom_threshold)\n",
        "    custom_predict = binarizer.fit_transform(pred_proba_c1)\n",
        "    print(\"임곗값 : \", custom_threshold)\n",
        "    get_clf_eval(y_test, custom_predict)\n",
        "    print(\"----------------------------------------------\")\n",
        "\n",
        "get_eval_by_threshold(y_test, pred_proba[:,1].reshape(-1,1), threshold) # reshape(-1,1)로 2차원으로 변환"
      ],
      "metadata": {
        "colab": {
          "base_uri": "https://localhost:8080/"
        },
        "id": "3midCZqXJ3xr",
        "outputId": "8f1126d5-e333-49a8-e9d8-a7dc196324b0"
      },
      "execution_count": 12,
      "outputs": [
        {
          "output_type": "stream",
          "name": "stdout",
          "text": [
            "임곗값 :  0.4\n",
            "오차 행렬 :\n",
            "[[91 23]\n",
            " [14 51]]\n",
            "정확도 : 0.7933, 정밀도 : 0.6892, 재현율 : 0.7846\n",
            "----------------------------------------------\n",
            "임곗값 :  0.45\n",
            "오차 행렬 :\n",
            "[[95 19]\n",
            " [14 51]]\n",
            "정확도 : 0.8156, 정밀도 : 0.7286, 재현율 : 0.7846\n",
            "----------------------------------------------\n",
            "임곗값 :  0.5\n",
            "오차 행렬 :\n",
            "[[97 17]\n",
            " [14 51]]\n",
            "정확도 : 0.8268, 정밀도 : 0.7500, 재현율 : 0.7846\n",
            "----------------------------------------------\n",
            "임곗값 :  0.55\n",
            "오차 행렬 :\n",
            "[[99 15]\n",
            " [16 49]]\n",
            "정확도 : 0.8268, 정밀도 : 0.7656, 재현율 : 0.7538\n",
            "----------------------------------------------\n",
            "임곗값 :  0.6\n",
            "오차 행렬 :\n",
            "[[105   9]\n",
            " [ 19  46]]\n",
            "정확도 : 0.8436, 정밀도 : 0.8364, 재현율 : 0.7077\n",
            "----------------------------------------------\n"
          ]
        }
      ]
    },
    {
      "cell_type": "markdown",
      "source": [
        "임곗값이 올라갈수록 정밀도 증가, 재현율 감소"
      ],
      "metadata": {
        "id": "3_h7sHhnLVZp"
      }
    },
    {
      "cell_type": "markdown",
      "source": [
        "#### precision_recall_curve()를 이용하여 임곗값에 따른 정밀도-재현율 값 추출\n",
        "정밀도와 재현율의 임곗값에 따른 값 변화를 곡선 형태의 그래프로 시각화 "
      ],
      "metadata": {
        "id": "xAs2qFmvLf9D"
      }
    },
    {
      "cell_type": "code",
      "source": [
        "from sklearn.metrics import precision_recall_curve\n",
        "\n",
        "# 레이블이 1일 때의 확률 추출\n",
        "pred_proba_class1 = lr_clf.predict_proba(X_test)[:,1]\n",
        "\n",
        "# 실제값 데이터 셋과 레이블 값이 1일 떄의 예측 확률을 precision_recall_curve 인자로 입력\n",
        "precisions, recalls, thresholds = precision_recall_curve(y_test, pred_proba_class1)\n",
        "print(\"반환된 분류 결정 임곗값 배열의 shape : \", thresholds.shape)\n",
        "print(\"반환된 precisions 배열의 shape : \", precisions.shape)\n",
        "print(\"반환된 recalls 임곗값 배열의 shape : \", recalls.shape)\n",
        "\n",
        "# 반환된 임곗값 배열 로우가 147건이므로 샘플로 10건만 추출하되 15 step으로 \n",
        "thr_idx = np.arange(0, thresholds.shape[0], 15)\n",
        "print(\"샘플 추출을 위한 임곗값 배열의 index 10개 : \", thr_idx)\n",
        "print(\"샘플용 10개의 임곗값 : \", np.round(thresholds[thr_idx],3))\n",
        "print(\"샘플 임계값별 정밀도 : \", np.round(precisions[thr_idx],3))\n",
        "print(\"샘플 임계값별 재현율 : \", np.round(recalls[thr_idx],3))"
      ],
      "metadata": {
        "colab": {
          "base_uri": "https://localhost:8080/"
        },
        "id": "oTh8fpVMLk5A",
        "outputId": "27984246-7eef-4b3f-95f0-450a58d7ca69"
      },
      "execution_count": 13,
      "outputs": [
        {
          "output_type": "stream",
          "name": "stdout",
          "text": [
            "반환된 분류 결정 임곗값 배열의 shape :  (144,)\n",
            "반환된 precisions 배열의 shape :  (145,)\n",
            "반환된 recalls 임곗값 배열의 shape :  (145,)\n",
            "샘플 추출을 위한 임곗값 배열의 index 10개 :  [  0  15  30  45  60  75  90 105 120 135]\n",
            "샘플용 10개의 임곗값 :  [0.101 0.128 0.157 0.215 0.313 0.499 0.612 0.691 0.846 0.935]\n",
            "샘플 임계값별 정밀도 :  [0.43  0.477 0.53  0.586 0.655 0.739 0.833 0.923 1.    1.   ]\n",
            "샘플 임계값별 재현율 :  [1.    0.954 0.938 0.892 0.846 0.785 0.692 0.554 0.369 0.138]\n"
          ]
        }
      ]
    },
    {
      "cell_type": "markdown",
      "source": [
        "임계값이 증가할수록 정밀도 증가, 재현율 감소"
      ],
      "metadata": {
        "id": "uTdrGJA_N-7Z"
      }
    },
    {
      "cell_type": "code",
      "source": [
        "import matplotlib.pyplot as plt\n",
        "import matplotlib.ticker as ticker\n",
        "%matplotlib inline\n",
        "\n",
        "def precision_recall_curve_plot(y_test, pred_proba_c1):\n",
        "  precisions, recalls, thresholds = precision_recall_curve(y_test, pred_proba_c1)\n",
        "\n",
        "  plt.figure(figsize = (8,6))\n",
        "  threshold_boundary = thresholds.shape[0]\n",
        "  plt.plot(thresholds, precisions[0:threshold_boundary], linestyle = '--', label = 'precision')\n",
        "  plt.plot(thresholds, recalls[0:threshold_boundary], label = 'recall')\n",
        "\n",
        "  start,end = plt.xlim()\n",
        "  plt.xticks(np.round(np.arange(start,end,0.1),2))\n",
        "\n",
        "  plt.xlabel('threshold value')\n",
        "  plt.ylabel('precision and recall value')\n",
        "  plt.legend()\n",
        "  plt.grid()\n",
        "  plt.show()\n",
        "\n",
        "precision_recall_curve_plot(y_test, pred_proba_class1)"
      ],
      "metadata": {
        "colab": {
          "base_uri": "https://localhost:8080/",
          "height": 388
        },
        "id": "EMOB8pVJOEVZ",
        "outputId": "75c63867-0c6a-4b2c-b06b-0373707588a5"
      },
      "execution_count": 14,
      "outputs": [
        {
          "output_type": "display_data",
          "data": {
            "text/plain": [
              "<Figure size 576x432 with 1 Axes>"
            ],
            "image/png": "[encoded data removed]"
          },
          "metadata": {
            "needs_background": "light"
          }
        }
      ]
    },
    {
      "cell_type": "markdown",
      "source": [
        "## 정밀도와 재현율의 맹점"
      ],
      "metadata": {
        "id": "4V5TYTBMaU97"
      }
    },
    {
      "cell_type": "markdown",
      "source": [
        "임계값은 업무 환경에 맞게 정밀도와 재현율을 상호 보완할 수 있는 수준에서 적용되어야 함\n",
        "- 정밀도 100% 되는 법 : threshold 극단적으로 높힘<br>\n",
        "확실한 기준이 되는 경우만 positive로 예측\n",
        "- 재현율 100% 되는 법 : threshold 극단적으로 낮춤<br>\n",
        "모든 환자를 positive로 예측<BR>\n",
        "PROBLEM : 정밀도 또는 재현율이 하나만 높고 하나만 낮은 분류는 좋은 분류가 아님"
      ],
      "metadata": {
        "id": "JBhCNSVraa2y"
      }
    },
    {
      "cell_type": "markdown",
      "source": [
        "# F1 스코어"
      ],
      "metadata": {
        "id": "gb84MWvAc-e4"
      }
    },
    {
      "cell_type": "markdown",
      "source": [
        "SOLUTION : F1 스코어 <BR>\n",
        "정밀도와 재현율 어느 한쪽으로 치우치지 않는 수치를 나타낼 때 상대적으로 높은 값을 가짐"
      ],
      "metadata": {
        "id": "K_cfiKA5dBGD"
      }
    },
    {
      "cell_type": "markdown",
      "source": [
        "![image.png](data:image/png;base64,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)"
      ],
      "metadata": {
        "id": "cS2Kuy9ldWEP"
      }
    },
    {
      "cell_type": "code",
      "source": [
        "from sklearn.metrics import accuracy_score, precision_score, recall_score, confusion_matrix, f1_score\n",
        "\n",
        "def get_clf_eval(y_test, pred):\n",
        "  confusion = confusion_matrix(y_test, pred)\n",
        "  accuracy = accuracy_score(y_test, pred)\n",
        "  precision = precision_score(y_test, pred)\n",
        "  recall = recall_score(y_test, pred)\n",
        "  f1 = f1_score(y_test, pred)\n",
        "  print(\"오차 행렬 :\")\n",
        "  print(confusion)\n",
        "  print(\"정확도 : {0:.4f}, 정밀도 : {1:.4f}, 재현율 : {2:.4f}, F1 :{3:.4f}\".format(accuracy,precision,recall, f1))\n",
        "threshold = [0.4, 0.45, 0.5, 0.55, 0.6]\n",
        "pred_proba = lr_clf.predict_proba(X_test)\n",
        "get_eval_by_threshold(y_test, pred_proba[:,1].reshape(-1,1), threshold) # reshape(-1,1)로 2차원으로 변환"
      ],
      "metadata": {
        "colab": {
          "base_uri": "https://localhost:8080/"
        },
        "id": "r4_PLeOSdYwf",
        "outputId": "8ee41c83-2536-453c-d061-ec6d446288dc"
      },
      "execution_count": 15,
      "outputs": [
        {
          "output_type": "stream",
          "name": "stdout",
          "text": [
            "임곗값 :  0.4\n",
            "오차 행렬 :\n",
            "[[91 23]\n",
            " [14 51]]\n",
            "정확도 : 0.7933, 정밀도 : 0.6892, 재현율 : 0.7846, F1 :0.7338\n",
            "----------------------------------------------\n",
            "임곗값 :  0.45\n",
            "오차 행렬 :\n",
            "[[95 19]\n",
            " [14 51]]\n",
            "정확도 : 0.8156, 정밀도 : 0.7286, 재현율 : 0.7846, F1 :0.7556\n",
            "----------------------------------------------\n",
            "임곗값 :  0.5\n",
            "오차 행렬 :\n",
            "[[97 17]\n",
            " [14 51]]\n",
            "정확도 : 0.8268, 정밀도 : 0.7500, 재현율 : 0.7846, F1 :0.7669\n",
            "----------------------------------------------\n",
            "임곗값 :  0.55\n",
            "오차 행렬 :\n",
            "[[99 15]\n",
            " [16 49]]\n",
            "정확도 : 0.8268, 정밀도 : 0.7656, 재현율 : 0.7538, F1 :0.7597\n",
            "----------------------------------------------\n",
            "임곗값 :  0.6\n",
            "오차 행렬 :\n",
            "[[105   9]\n",
            " [ 19  46]]\n",
            "정확도 : 0.8436, 정밀도 : 0.8364, 재현율 : 0.7077, F1 :0.7667\n",
            "----------------------------------------------\n"
          ]
        }
      ]
    },
    {
      "cell_type": "markdown",
      "source": [
        "# ROC 곡선과 AUC"
      ],
      "metadata": {
        "id": "-CEKC0u3eD8l"
      }
    },
    {
      "cell_type": "markdown",
      "source": [
        "- ROC 곡선 : FPR이 변할 때 TPR이 어떻게 변하는지를 나타내는 곡선\n",
        "  - FPR : FP/(FP+TN)\n",
        "  - TPR : TP/(TP+FN) = 재현율\n",
        "  - FPR = 0 : 임곗값 = 1 (positive로 예측하지 못하도록)\n",
        "  - FPR = 1: 임곗값 = 0 (negative로 예측하지 못하도록)"
      ],
      "metadata": {
        "id": "cKnP9CrBeJJh"
      }
    },
    {
      "cell_type": "code",
      "source": [
        "from sklearn.metrics import roc_curve\n",
        "\n",
        "pred_proba_class1 = lr_clf.predict_proba(X_test)[:,1]\n",
        "\n",
        "fprs, tprs, thresholds = roc_curve(y_test, pred_proba_class1)\n",
        "\n",
        "# 반환된 임곗값 배열에서 샘플로 데이터를 추출하되, 임곗값을 5 step으로 추출\n",
        "# thresholds[0]은 max(예측확률)+1로 임의 설정됨, 이를 제외하기 위해 1부터 시작\n",
        "thr_idx = np.arange(1, thresholds.shape[0], 5)\n",
        "print(\"샘플 추출을 위한 임곗값 배열의 index 10개 : \", thr_idx)\n",
        "print(\"샘플용 10개의 임곗값 : \", np.round(thresholds[thr_idx],3))\n",
        "print(\"샘플 임계값별 FPR : \", np.round(fprs[thr_idx],3))\n",
        "print(\"샘플 임계값별 TPR : \", np.round(tprs[thr_idx],3))"
      ],
      "metadata": {
        "colab": {
          "base_uri": "https://localhost:8080/"
        },
        "id": "xcig77gufUSf",
        "outputId": "f457d253-2df9-4338-9635-aa7ea67243ed"
      },
      "execution_count": 16,
      "outputs": [
        {
          "output_type": "stream",
          "name": "stdout",
          "text": [
            "샘플 추출을 위한 임곗값 배열의 index 10개 :  [ 1  6 11 16 21 26 31 36 41 46]\n",
            "샘플용 10개의 임곗값 :  [0.969 0.724 0.625 0.589 0.405 0.26  0.193 0.149 0.116 0.106]\n",
            "샘플 임계값별 FPR :  [0.    0.018 0.07  0.088 0.202 0.289 0.395 0.5   0.675 0.754]\n",
            "샘플 임계값별 TPR :  [0.015 0.538 0.646 0.723 0.785 0.877 0.908 0.938 0.969 0.985]\n"
          ]
        }
      ]
    },
    {
      "cell_type": "code",
      "source": [
        "def roc_curve_plot(y_test, pred_proba_c1):\n",
        "  fprs, tprs, thresholds = roc_curve(y_test, pred_proba_c1)\n",
        "\n",
        "  plt.plot(fprs, tprs, label = 'ROC')\n",
        "  plt.plot([0,1],[0,1], 'k--',label = 'Random')\n",
        "\n",
        "  start,end = plt.xlim()\n",
        "  plt.xticks(np.round(np.arange(start, end, 0.1),2))\n",
        "  plt.xlim(0,1)\n",
        "  plt.ylim(0,1)\n",
        "  plt.xlabel('FPR')\n",
        "  plt.ylabel('TPR')\n",
        "  plt.legend()\n",
        "  plt.show()\n",
        "\n",
        "roc_curve_plot(y_test, pred_proba_class1)"
      ],
      "metadata": {
        "colab": {
          "base_uri": "https://localhost:8080/",
          "height": 283
        },
        "id": "JHr7-uSlgCNG",
        "outputId": "330f7997-61f3-4250-9ad3-fca8b09c0835"
      },
      "execution_count": 17,
      "outputs": [
        {
          "output_type": "display_data",
          "data": {
            "text/plain": [
              "<Figure size 432x288 with 1 Axes>"
            ],
            "image/png": "[encoded data removed]"
          },
          "metadata": {
            "needs_background": "light"
          }
        }
      ]
    },
    {
      "cell_type": "markdown",
      "source": [
        "- AUC : ROC 곡선의 아래 면적 넓이<BR>\n",
        "일반적으로 1에 가까울수록 좋은 수치\n"
      ],
      "metadata": {
        "id": "P73rZHk4hAZX"
      }
    },
    {
      "cell_type": "code",
      "source": [
        "from sklearn.metrics import roc_auc_score\n",
        "\n",
        "pred_proba = lr_clf.predict_proba(X_test)[:,1]\n",
        "roc_score = roc_auc_score(y_test, pred_proba)\n",
        "print('ROC AUC 값 :', roc_score)"
      ],
      "metadata": {
        "colab": {
          "base_uri": "https://localhost:8080/"
        },
        "id": "FaCltERwhOL1",
        "outputId": "3bc556ac-9385-4492-fee0-7ce0d06f992f"
      },
      "execution_count": 18,
      "outputs": [
        {
          "output_type": "stream",
          "name": "stdout",
          "text": [
            "ROC AUC 값 : 0.8943319838056681\n"
          ]
        }
      ]
    },
    {
      "cell_type": "code",
      "source": [
        "from sklearn.metrics import accuracy_score, precision_score, recall_score, confusion_matrix, f1_score, roc_auc_score\n",
        "\n",
        "def get_clf_eval(y_test, pred=None, pred_proba= None):\n",
        "  confusion = confusion_matrix(y_test, pred)\n",
        "  accuracy = accuracy_score(y_test, pred)\n",
        "  precision = precision_score(y_test, pred)\n",
        "  recall = recall_score(y_test, pred)\n",
        "  f1 = f1_score(y_test, pred)\n",
        "  auc = roc_auc_score(y_test, pred_proba)\n",
        "  print(\"오차 행렬 :\")\n",
        "  print(confusion)\n",
        "  print(\"정확도 : {0:.4f}, 정밀도 : {1:.4f}, 재현율 : {2:.4f}, F1 :{3:.4f}, AUC : {4:.4f}\".format(accuracy,precision,recall, f1, auc))\n",
        "  print(\"---------------------------------------------------------------------------------\")"
      ],
      "metadata": {
        "id": "N_53a2mEiFQs"
      },
      "execution_count": 31,
      "outputs": []
    },
    {
      "cell_type": "markdown",
      "source": [
        "# 피마 인디언 당뇨병 예측"
      ],
      "metadata": {
        "id": "3JChuIqLQny0"
      }
    },
    {
      "cell_type": "markdown",
      "source": [
        "## 데이터 로드 및 확인, 전처리"
      ],
      "metadata": {
        "id": "1lmBQ27cSJZL"
      }
    },
    {
      "cell_type": "code",
      "source": [
        "import numpy as np\n",
        "import pandas as pd\n",
        "import matplotlib.pyplot as plt\n",
        "%matplotlib inline\n",
        "\n",
        "from sklearn.model_selection import train_test_split\n",
        "from sklearn.metrics import accuracy_score, precision_score, recall_score, roc_auc_score\n",
        "from sklearn.metrics import f1_score, confusion_matrix, precision_recall_curve, roc_auc_score\n",
        "from sklearn.preprocessing import StandardScaler\n",
        "from sklearn.linear_model import LogisticRegression\n",
        "\n",
        "diabetes_data = pd.read_csv(\"/content/drive/MyDrive/datasets/diabetes.csv\")\n",
        "print(diabetes_data['Outcome'].value_counts())\n",
        "diabetes_data.head()"
      ],
      "metadata": {
        "colab": {
          "base_uri": "https://localhost:8080/",
          "height": 325
        },
        "id": "w8st8zJzQqAO",
        "outputId": "091a7dd7-39ba-4476-884f-7188294d8c45"
      },
      "execution_count": 20,
      "outputs": [
        {
          "output_type": "stream",
          "name": "stdout",
          "text": [
            "0    500\n",
            "1    268\n",
            "Name: Outcome, dtype: int64\n"
          ]
        },
        {
          "output_type": "execute_result",
          "data": {
            "text/plain": [
              "   Pregnancies  Glucose  BloodPressure  SkinThickness  Insulin   BMI  \\\n",
              "0            6      148             72             35        0  33.6   \n",
              "1            1       85             66             29        0  26.6   \n",
              "2            8      183             64              0        0  23.3   \n",
              "3            1       89             66             23       94  28.1   \n",
              "4            0      137             40             35      168  43.1   \n",
              "\n",
              "   DiabetesPedigreeFunction  Age  Outcome  \n",
              "0                     0.627   50        1  \n",
              "1                     0.351   31        0  \n",
              "2                     0.672   32        1  \n",
              "3                     0.167   21        0  \n",
              "4                     2.288   33        1  "
            ],
            "text/html": [
              "\n",
              "  <div id=\"df-5813a6cc-e507-46e1-8926-e905668b357f\">\n",
              "    <div class=\"colab-df-container\">\n",
              "      <div>\n",
              "<style scoped>\n",
              "    .dataframe tbody tr th:only-of-type {\n",
              "        vertical-align: middle;\n",
              "    }\n",
              "\n",
              "    .dataframe tbody tr th {\n",
              "        vertical-align: top;\n",
              "    }\n",
              "\n",
              "    .dataframe thead th {\n",
              "        text-align: right;\n",
              "    }\n",
              "</style>\n",
              "<table border=\"1\" class=\"dataframe\">\n",
              "  <thead>\n",
              "    <tr style=\"text-align: right;\">\n",
              "      <th></th>\n",
              "      <th>Pregnancies</th>\n",
              "      <th>Glucose</th>\n",
              "      <th>BloodPressure</th>\n",
              "      <th>SkinThickness</th>\n",
              "      <th>Insulin</th>\n",
              "      <th>BMI</th>\n",
              "      <th>DiabetesPedigreeFunction</th>\n",
              "      <th>Age</th>\n",
              "      <th>Outcome</th>\n",
              "    </tr>\n",
              "  </thead>\n",
              "  <tbody>\n",
              "    <tr>\n",
              "      <th>0</th>\n",
              "      <td>6</td>\n",
              "      <td>148</td>\n",
              "      <td>72</td>\n",
              "      <td>35</td>\n",
              "      <td>0</td>\n",
              "      <td>33.6</td>\n",
              "      <td>0.627</td>\n",
              "      <td>50</td>\n",
              "      <td>1</td>\n",
              "    </tr>\n",
              "    <tr>\n",
              "      <th>1</th>\n",
              "      <td>1</td>\n",
              "      <td>85</td>\n",
              "      <td>66</td>\n",
              "      <td>29</td>\n",
              "      <td>0</td>\n",
              "      <td>26.6</td>\n",
              "      <td>0.351</td>\n",
              "      <td>31</td>\n",
              "      <td>0</td>\n",
              "    </tr>\n",
              "    <tr>\n",
              "      <th>2</th>\n",
              "      <td>8</td>\n",
              "      <td>183</td>\n",
              "      <td>64</td>\n",
              "      <td>0</td>\n",
              "      <td>0</td>\n",
              "      <td>23.3</td>\n",
              "      <td>0.672</td>\n",
              "      <td>32</td>\n",
              "      <td>1</td>\n",
              "    </tr>\n",
              "    <tr>\n",
              "      <th>3</th>\n",
              "      <td>1</td>\n",
              "      <td>89</td>\n",
              "      <td>66</td>\n",
              "      <td>23</td>\n",
              "      <td>94</td>\n",
              "      <td>28.1</td>\n",
              "      <td>0.167</td>\n",
              "      <td>21</td>\n",
              "      <td>0</td>\n",
              "    </tr>\n",
              "    <tr>\n",
              "      <th>4</th>\n",
              "      <td>0</td>\n",
              "      <td>137</td>\n",
              "      <td>40</td>\n",
              "      <td>35</td>\n",
              "      <td>168</td>\n",
              "      <td>43.1</td>\n",
              "      <td>2.288</td>\n",
              "      <td>33</td>\n",
              "      <td>1</td>\n",
              "    </tr>\n",
              "  </tbody>\n",
              "</table>\n",
              "</div>\n",
              "      <button class=\"colab-df-convert\" onclick=\"convertToInteractive('df-5813a6cc-e507-46e1-8926-e905668b357f')\"\n",
              "              title=\"Convert this dataframe to an interactive table.\"\n",
              "              style=\"display:none;\">\n",
              "        \n",
              "  <svg xmlns=\"http://www.w3.org/2000/svg\" height=\"24px\"viewBox=\"0 0 24 24\"\n",
              "       width=\"24px\">\n",
              "    <path d=\"M0 0h24v24H0V0z\" fill=\"none\"/>\n",
              "    <path d=\"M18.56 5.44l.94 2.06.94-2.06 2.06-.94-2.06-.94-.94-2.06-.94 2.06-2.06.94zm-11 1L8.5 8.5l.94-2.06 2.06-.94-2.06-.94L8.5 2.5l-.94 2.06-2.06.94zm10 10l.94 2.06.94-2.06 2.06-.94-2.06-.94-.94-2.06-.94 2.06-2.06.94z\"/><path d=\"M17.41 7.96l-1.37-1.37c-.4-.4-.92-.59-1.43-.59-.52 0-1.04.2-1.43.59L10.3 9.45l-7.72 7.72c-.78.78-.78 2.05 0 2.83L4 21.41c.39.39.9.59 1.41.59.51 0 1.02-.2 1.41-.59l7.78-7.78 2.81-2.81c.8-.78.8-2.07 0-2.86zM5.41 20L4 18.59l7.72-7.72 1.47 1.35L5.41 20z\"/>\n",
              "  </svg>\n",
              "      </button>\n",
              "      \n",
              "  <style>\n",
              "    .colab-df-container {\n",
              "      display:flex;\n",
              "      flex-wrap:wrap;\n",
              "      gap: 12px;\n",
              "    }\n",
              "\n",
              "    .colab-df-convert {\n",
              "      background-color: #E8F0FE;\n",
              "      border: none;\n",
              "      border-radius: 50%;\n",
              "      cursor: pointer;\n",
              "      display: none;\n",
              "      fill: #1967D2;\n",
              "      height: 32px;\n",
              "      padding: 0 0 0 0;\n",
              "      width: 32px;\n",
              "    }\n",
              "\n",
              "    .colab-df-convert:hover {\n",
              "      background-color: #E2EBFA;\n",
              "      box-shadow: 0px 1px 2px rgba(60, 64, 67, 0.3), 0px 1px 3px 1px rgba(60, 64, 67, 0.15);\n",
              "      fill: #174EA6;\n",
              "    }\n",
              "\n",
              "    [theme=dark] .colab-df-convert {\n",
              "      background-color: #3B4455;\n",
              "      fill: #D2E3FC;\n",
              "    }\n",
              "\n",
              "    [theme=dark] .colab-df-convert:hover {\n",
              "      background-color: #434B5C;\n",
              "      box-shadow: 0px 1px 3px 1px rgba(0, 0, 0, 0.15);\n",
              "      filter: drop-shadow(0px 1px 2px rgba(0, 0, 0, 0.3));\n",
              "      fill: #FFFFFF;\n",
              "    }\n",
              "  </style>\n",
              "\n",
              "      <script>\n",
              "        const buttonEl =\n",
              "          document.querySelector('#df-5813a6cc-e507-46e1-8926-e905668b357f button.colab-df-convert');\n",
              "        buttonEl.style.display =\n",
              "          google.colab.kernel.accessAllowed ? 'block' : 'none';\n",
              "\n",
              "        async function convertToInteractive(key) {\n",
              "          const element = document.querySelector('#df-5813a6cc-e507-46e1-8926-e905668b357f');\n",
              "          const dataTable =\n",
              "            await google.colab.kernel.invokeFunction('convertToInteractive',\n",
              "                                                     [key], {});\n",
              "          if (!dataTable) return;\n",
              "\n",
              "          const docLinkHtml = 'Like what you see? Visit the ' +\n",
              "            '<a target=\"_blank\" href=https://colab.research.google.com/notebooks/data_table.ipynb>data table notebook</a>'\n",
              "            + ' to learn more about interactive tables.';\n",
              "          element.innerHTML = '';\n",
              "          dataTable['output_type'] = 'display_data';\n",
              "          await google.colab.output.renderOutput(dataTable, element);\n",
              "          const docLink = document.createElement('div');\n",
              "          docLink.innerHTML = docLinkHtml;\n",
              "          element.appendChild(docLink);\n",
              "        }\n",
              "      </script>\n",
              "    </div>\n",
              "  </div>\n",
              "  "
            ]
          },
          "metadata": {},
          "execution_count": 20
        }
      ]
    },
    {
      "cell_type": "markdown",
      "source": [
        "레이블 데이터 불균형 있음"
      ],
      "metadata": {
        "id": "NRBPoqkjSOgV"
      }
    },
    {
      "cell_type": "code",
      "source": [
        "diabetes_data.info()"
      ],
      "metadata": {
        "colab": {
          "base_uri": "https://localhost:8080/"
        },
        "id": "Zl1Cmd5fSReO",
        "outputId": "46e28d13-5566-47c5-f155-7398a881eab2"
      },
      "execution_count": 21,
      "outputs": [
        {
          "output_type": "stream",
          "name": "stdout",
          "text": [
            "<class 'pandas.core.frame.DataFrame'>\n",
            "RangeIndex: 768 entries, 0 to 767\n",
            "Data columns (total 9 columns):\n",
            " #   Column                    Non-Null Count  Dtype  \n",
            "---  ------                    --------------  -----  \n",
            " 0   Pregnancies               768 non-null    int64  \n",
            " 1   Glucose                   768 non-null    int64  \n",
            " 2   BloodPressure             768 non-null    int64  \n",
            " 3   SkinThickness             768 non-null    int64  \n",
            " 4   Insulin                   768 non-null    int64  \n",
            " 5   BMI                       768 non-null    float64\n",
            " 6   DiabetesPedigreeFunction  768 non-null    float64\n",
            " 7   Age                       768 non-null    int64  \n",
            " 8   Outcome                   768 non-null    int64  \n",
            "dtypes: float64(2), int64(7)\n",
            "memory usage: 54.1 KB\n"
          ]
        }
      ]
    },
    {
      "cell_type": "code",
      "source": [
        "diabetes_data.describe()"
      ],
      "metadata": {
        "colab": {
          "base_uri": "https://localhost:8080/",
          "height": 364
        },
        "id": "D2jmpHLfSWLk",
        "outputId": "2cf45479-976d-432b-973a-9603d31f5cdb"
      },
      "execution_count": 22,
      "outputs": [
        {
          "output_type": "execute_result",
          "data": {
            "text/plain": [
              "       Pregnancies     Glucose  BloodPressure  SkinThickness     Insulin  \\\n",
              "count   768.000000  768.000000     768.000000     768.000000  768.000000   \n",
              "mean      3.845052  120.894531      69.105469      20.536458   79.799479   \n",
              "std       3.369578   31.972618      19.355807      15.952218  115.244002   \n",
              "min       0.000000    0.000000       0.000000       0.000000    0.000000   \n",
              "25%       1.000000   99.000000      62.000000       0.000000    0.000000   \n",
              "50%       3.000000  117.000000      72.000000      23.000000   30.500000   \n",
              "75%       6.000000  140.250000      80.000000      32.000000  127.250000   \n",
              "max      17.000000  199.000000     122.000000      99.000000  846.000000   \n",
              "\n",
              "              BMI  DiabetesPedigreeFunction         Age     Outcome  \n",
              "count  768.000000                768.000000  768.000000  768.000000  \n",
              "mean    31.992578                  0.471876   33.240885    0.348958  \n",
              "std      7.884160                  0.331329   11.760232    0.476951  \n",
              "min      0.000000                  0.078000   21.000000    0.000000  \n",
              "25%     27.300000                  0.243750   24.000000    0.000000  \n",
              "50%     32.000000                  0.372500   29.000000    0.000000  \n",
              "75%     36.600000                  0.626250   41.000000    1.000000  \n",
              "max     67.100000                  2.420000   81.000000    1.000000  "
            ],
            "text/html": [
              "\n",
              "  <div id=\"df-51c8dfad-5e56-4a1f-8b32-2498235c35d0\">\n",
              "    <div class=\"colab-df-container\">\n",
              "      <div>\n",
              "<style scoped>\n",
              "    .dataframe tbody tr th:only-of-type {\n",
              "        vertical-align: middle;\n",
              "    }\n",
              "\n",
              "    .dataframe tbody tr th {\n",
              "        vertical-align: top;\n",
              "    }\n",
              "\n",
              "    .dataframe thead th {\n",
              "        text-align: right;\n",
              "    }\n",
              "</style>\n",
              "<table border=\"1\" class=\"dataframe\">\n",
              "  <thead>\n",
              "    <tr style=\"text-align: right;\">\n",
              "      <th></th>\n",
              "      <th>Pregnancies</th>\n",
              "      <th>Glucose</th>\n",
              "      <th>BloodPressure</th>\n",
              "      <th>SkinThickness</th>\n",
              "      <th>Insulin</th>\n",
              "      <th>BMI</th>\n",
              "      <th>DiabetesPedigreeFunction</th>\n",
              "      <th>Age</th>\n",
              "      <th>Outcome</th>\n",
              "    </tr>\n",
              "  </thead>\n",
              "  <tbody>\n",
              "    <tr>\n",
              "      <th>count</th>\n",
              "      <td>768.000000</td>\n",
              "      <td>768.000000</td>\n",
              "      <td>768.000000</td>\n",
              "      <td>768.000000</td>\n",
              "      <td>768.000000</td>\n",
              "      <td>768.000000</td>\n",
              "      <td>768.000000</td>\n",
              "      <td>768.000000</td>\n",
              "      <td>768.000000</td>\n",
              "    </tr>\n",
              "    <tr>\n",
              "      <th>mean</th>\n",
              "      <td>3.845052</td>\n",
              "      <td>120.894531</td>\n",
              "      <td>69.105469</td>\n",
              "      <td>20.536458</td>\n",
              "      <td>79.799479</td>\n",
              "      <td>31.992578</td>\n",
              "      <td>0.471876</td>\n",
              "      <td>33.240885</td>\n",
              "      <td>0.348958</td>\n",
              "    </tr>\n",
              "    <tr>\n",
              "      <th>std</th>\n",
              "      <td>3.369578</td>\n",
              "      <td>31.972618</td>\n",
              "      <td>19.355807</td>\n",
              "      <td>15.952218</td>\n",
              "      <td>115.244002</td>\n",
              "      <td>7.884160</td>\n",
              "      <td>0.331329</td>\n",
              "      <td>11.760232</td>\n",
              "      <td>0.476951</td>\n",
              "    </tr>\n",
              "    <tr>\n",
              "      <th>min</th>\n",
              "      <td>0.000000</td>\n",
              "      <td>0.000000</td>\n",
              "      <td>0.000000</td>\n",
              "      <td>0.000000</td>\n",
              "      <td>0.000000</td>\n",
              "      <td>0.000000</td>\n",
              "      <td>0.078000</td>\n",
              "      <td>21.000000</td>\n",
              "      <td>0.000000</td>\n",
              "    </tr>\n",
              "    <tr>\n",
              "      <th>25%</th>\n",
              "      <td>1.000000</td>\n",
              "      <td>99.000000</td>\n",
              "      <td>62.000000</td>\n",
              "      <td>0.000000</td>\n",
              "      <td>0.000000</td>\n",
              "      <td>27.300000</td>\n",
              "      <td>0.243750</td>\n",
              "      <td>24.000000</td>\n",
              "      <td>0.000000</td>\n",
              "    </tr>\n",
              "    <tr>\n",
              "      <th>50%</th>\n",
              "      <td>3.000000</td>\n",
              "      <td>117.000000</td>\n",
              "      <td>72.000000</td>\n",
              "      <td>23.000000</td>\n",
              "      <td>30.500000</td>\n",
              "      <td>32.000000</td>\n",
              "      <td>0.372500</td>\n",
              "      <td>29.000000</td>\n",
              "      <td>0.000000</td>\n",
              "    </tr>\n",
              "    <tr>\n",
              "      <th>75%</th>\n",
              "      <td>6.000000</td>\n",
              "      <td>140.250000</td>\n",
              "      <td>80.000000</td>\n",
              "      <td>32.000000</td>\n",
              "      <td>127.250000</td>\n",
              "      <td>36.600000</td>\n",
              "      <td>0.626250</td>\n",
              "      <td>41.000000</td>\n",
              "      <td>1.000000</td>\n",
              "    </tr>\n",
              "    <tr>\n",
              "      <th>max</th>\n",
              "      <td>17.000000</td>\n",
              "      <td>199.000000</td>\n",
              "      <td>122.000000</td>\n",
              "      <td>99.000000</td>\n",
              "      <td>846.000000</td>\n",
              "      <td>67.100000</td>\n",
              "      <td>2.420000</td>\n",
              "      <td>81.000000</td>\n",
              "      <td>1.000000</td>\n",
              "    </tr>\n",
              "  </tbody>\n",
              "</table>\n",
              "</div>\n",
              "      <button class=\"colab-df-convert\" onclick=\"convertToInteractive('df-51c8dfad-5e56-4a1f-8b32-2498235c35d0')\"\n",
              "              title=\"Convert this dataframe to an interactive table.\"\n",
              "              style=\"display:none;\">\n",
              "        \n",
              "  <svg xmlns=\"http://www.w3.org/2000/svg\" height=\"24px\"viewBox=\"0 0 24 24\"\n",
              "       width=\"24px\">\n",
              "    <path d=\"M0 0h24v24H0V0z\" fill=\"none\"/>\n",
              "    <path d=\"M18.56 5.44l.94 2.06.94-2.06 2.06-.94-2.06-.94-.94-2.06-.94 2.06-2.06.94zm-11 1L8.5 8.5l.94-2.06 2.06-.94-2.06-.94L8.5 2.5l-.94 2.06-2.06.94zm10 10l.94 2.06.94-2.06 2.06-.94-2.06-.94-.94-2.06-.94 2.06-2.06.94z\"/><path d=\"M17.41 7.96l-1.37-1.37c-.4-.4-.92-.59-1.43-.59-.52 0-1.04.2-1.43.59L10.3 9.45l-7.72 7.72c-.78.78-.78 2.05 0 2.83L4 21.41c.39.39.9.59 1.41.59.51 0 1.02-.2 1.41-.59l7.78-7.78 2.81-2.81c.8-.78.8-2.07 0-2.86zM5.41 20L4 18.59l7.72-7.72 1.47 1.35L5.41 20z\"/>\n",
              "  </svg>\n",
              "      </button>\n",
              "      \n",
              "  <style>\n",
              "    .colab-df-container {\n",
              "      display:flex;\n",
              "      flex-wrap:wrap;\n",
              "      gap: 12px;\n",
              "    }\n",
              "\n",
              "    .colab-df-convert {\n",
              "      background-color: #E8F0FE;\n",
              "      border: none;\n",
              "      border-radius: 50%;\n",
              "      cursor: pointer;\n",
              "      display: none;\n",
              "      fill: #1967D2;\n",
              "      height: 32px;\n",
              "      padding: 0 0 0 0;\n",
              "      width: 32px;\n",
              "    }\n",
              "\n",
              "    .colab-df-convert:hover {\n",
              "      background-color: #E2EBFA;\n",
              "      box-shadow: 0px 1px 2px rgba(60, 64, 67, 0.3), 0px 1px 3px 1px rgba(60, 64, 67, 0.15);\n",
              "      fill: #174EA6;\n",
              "    }\n",
              "\n",
              "    [theme=dark] .colab-df-convert {\n",
              "      background-color: #3B4455;\n",
              "      fill: #D2E3FC;\n",
              "    }\n",
              "\n",
              "    [theme=dark] .colab-df-convert:hover {\n",
              "      background-color: #434B5C;\n",
              "      box-shadow: 0px 1px 3px 1px rgba(0, 0, 0, 0.15);\n",
              "      filter: drop-shadow(0px 1px 2px rgba(0, 0, 0, 0.3));\n",
              "      fill: #FFFFFF;\n",
              "    }\n",
              "  </style>\n",
              "\n",
              "      <script>\n",
              "        const buttonEl =\n",
              "          document.querySelector('#df-51c8dfad-5e56-4a1f-8b32-2498235c35d0 button.colab-df-convert');\n",
              "        buttonEl.style.display =\n",
              "          google.colab.kernel.accessAllowed ? 'block' : 'none';\n",
              "\n",
              "        async function convertToInteractive(key) {\n",
              "          const element = document.querySelector('#df-51c8dfad-5e56-4a1f-8b32-2498235c35d0');\n",
              "          const dataTable =\n",
              "            await google.colab.kernel.invokeFunction('convertToInteractive',\n",
              "                                                     [key], {});\n",
              "          if (!dataTable) return;\n",
              "\n",
              "          const docLinkHtml = 'Like what you see? Visit the ' +\n",
              "            '<a target=\"_blank\" href=https://colab.research.google.com/notebooks/data_table.ipynb>data table notebook</a>'\n",
              "            + ' to learn more about interactive tables.';\n",
              "          element.innerHTML = '';\n",
              "          dataTable['output_type'] = 'display_data';\n",
              "          await google.colab.output.renderOutput(dataTable, element);\n",
              "          const docLink = document.createElement('div');\n",
              "          docLink.innerHTML = docLinkHtml;\n",
              "          element.appendChild(docLink);\n",
              "        }\n",
              "      </script>\n",
              "    </div>\n",
              "  </div>\n",
              "  "
            ]
          },
          "metadata": {},
          "execution_count": 22
        }
      ]
    },
    {
      "cell_type": "code",
      "source": [
        "zero_features = ['Glucose','BloodPressure','SkinThickness','Insulin','BMI']\n",
        "\n",
        "total_count = diabetes_data['Glucose'].count()\n",
        "\n",
        "for feature in zero_features:\n",
        "  zero_count = diabetes_data[diabetes_data[feature]==0][feature].count()\n",
        "  print(\"{0} 0 건수는 {1}, 퍼센트는 {2:.2f}%\".format(feature, zero_count, 100*zero_count/total_count))"
      ],
      "metadata": {
        "colab": {
          "base_uri": "https://localhost:8080/"
        },
        "id": "395Fz2PtStAm",
        "outputId": "c51c57e8-85c2-4488-ae8e-648d9622c40f"
      },
      "execution_count": 23,
      "outputs": [
        {
          "output_type": "stream",
          "name": "stdout",
          "text": [
            "Glucose 0 건수는 5, 퍼센트는 0.65%\n",
            "BloodPressure 0 건수는 35, 퍼센트는 4.56%\n",
            "SkinThickness 0 건수는 227, 퍼센트는 29.56%\n",
            "Insulin 0 건수는 374, 퍼센트는 48.70%\n",
            "BMI 0 건수는 11, 퍼센트는 1.43%\n"
          ]
        }
      ]
    },
    {
      "cell_type": "markdown",
      "source": [
        "Glucose, BloodPressure, SkinThickness, Insulin, BMI의 min이 0인 것이 이상해서 평균으로 대체 "
      ],
      "metadata": {
        "id": "yYD4jhsbSffd"
      }
    },
    {
      "cell_type": "code",
      "source": [
        "diabetes_data[zero_features] = diabetes_data[zero_features].replace(0, diabetes_data[zero_features].mean())"
      ],
      "metadata": {
        "id": "9s5-1ltMTTN1"
      },
      "execution_count": 24,
      "outputs": []
    },
    {
      "cell_type": "markdown",
      "source": [
        "## 로지스틱회귀 모델 생성, 평가"
      ],
      "metadata": {
        "id": "yEezI5koVezc"
      }
    },
    {
      "cell_type": "code",
      "source": [
        "X = diabetes_data.iloc[:,:-1]\n",
        "y = diabetes_data.iloc[:,-1]\n",
        "\n",
        "# StandardScaler 클래스를 이용하여 피처 데이터 세트에 일괄적으로 스케일링 적용\n",
        "# 표준화 : 데이터 피처 각각의 평균이 0이고 분산이 1인 가우시안 정규 분포를 가진 값으로 변환 \n",
        "# 표준화는 서포트벡터머신, 선형회귀, 로지스틱회귀에서 성능향상에 중요한 요소 \n",
        "scaler = StandardScaler()\n",
        "X_scaled = scaler.fit_transform(X)\n",
        "\n",
        "X_train, X_test, y_train, y_test = train_test_split(X_scaled, y, test_size = 0.2, random_state = 49)\n",
        "\n",
        "lr_clf = LogisticRegression()\n",
        "lr_clf.fit(X_train, y_train)\n",
        "pred = lr_clf.predict(X_test)\n",
        "pred_proba = lr_clf.predict_proba(X_test)[:,1]\n",
        "\n",
        "get_clf_eval(y_test, pred, pred_proba)"
      ],
      "metadata": {
        "colab": {
          "base_uri": "https://localhost:8080/"
        },
        "id": "B_GO3oSVTmcn",
        "outputId": "9fe56239-a00f-497b-af1b-e175e8747868"
      },
      "execution_count": 27,
      "outputs": [
        {
          "output_type": "stream",
          "name": "stdout",
          "text": [
            "오차 행렬 :\n",
            "[[83  8]\n",
            " [27 36]]\n",
            "정확도 : 0.7727, 정밀도 : 0.8182, 재현율 : 0.5714, F1 :0.6729, AUC : 0.8577\n"
          ]
        }
      ]
    },
    {
      "cell_type": "markdown",
      "source": [
        "## 재현율을 위해 임계값 조정"
      ],
      "metadata": {
        "id": "LhqrYbeLVjib"
      }
    },
    {
      "cell_type": "code",
      "source": [
        "from sklearn.preprocessing import Binarizer\n",
        "\n",
        "def get_eval_by_thresholds(y_test, pred_proba_c1, thresholds):\n",
        "  for custom_threshold in thresholds:\n",
        "    binarizer = Binarizer(threshold = custom_threshold)\n",
        "    custom_pred = binarizer.fit_transform(pred_proba_c1)\n",
        "    print(\"임곗값 :\", custom_threshold)\n",
        "    get_clf_eval(y_test, custom_pred, pred_proba_c1)"
      ],
      "metadata": {
        "id": "HYXCin99VpGG"
      },
      "execution_count": 28,
      "outputs": []
    },
    {
      "cell_type": "code",
      "source": [
        "thresholds = [0.3, 0.33, 0.36,0.39,0.42,0.45,0.48,0.50]\n",
        "pred_proba = lr_clf.predict_proba(X_test)[:,1].reshape(-1,1)\n",
        "get_eval_by_thresholds(y_test, pred_proba, thresholds)"
      ],
      "metadata": {
        "colab": {
          "base_uri": "https://localhost:8080/"
        },
        "id": "i9Rk2D0ZWJHo",
        "outputId": "e12ea171-66f3-46cb-d978-51e23cd294c8"
      },
      "execution_count": 32,
      "outputs": [
        {
          "output_type": "stream",
          "name": "stdout",
          "text": [
            "임곗값 : 0.3\n",
            "오차 행렬 :\n",
            "[[68 23]\n",
            " [16 47]]\n",
            "정확도 : 0.7468, 정밀도 : 0.6714, 재현율 : 0.7460, F1 :0.7068, AUC : 0.8577\n",
            "---------------------------------------------------------------------------------\n",
            "임곗값 : 0.33\n",
            "오차 행렬 :\n",
            "[[72 19]\n",
            " [17 46]]\n",
            "정확도 : 0.7662, 정밀도 : 0.7077, 재현율 : 0.7302, F1 :0.7188, AUC : 0.8577\n",
            "---------------------------------------------------------------------------------\n",
            "임곗값 : 0.36\n",
            "오차 행렬 :\n",
            "[[76 15]\n",
            " [21 42]]\n",
            "정확도 : 0.7662, 정밀도 : 0.7368, 재현율 : 0.6667, F1 :0.7000, AUC : 0.8577\n",
            "---------------------------------------------------------------------------------\n",
            "임곗값 : 0.39\n",
            "오차 행렬 :\n",
            "[[79 12]\n",
            " [23 40]]\n",
            "정확도 : 0.7727, 정밀도 : 0.7692, 재현율 : 0.6349, F1 :0.6957, AUC : 0.8577\n",
            "---------------------------------------------------------------------------------\n",
            "임곗값 : 0.42\n",
            "오차 행렬 :\n",
            "[[80 11]\n",
            " [23 40]]\n",
            "정확도 : 0.7792, 정밀도 : 0.7843, 재현율 : 0.6349, F1 :0.7018, AUC : 0.8577\n",
            "---------------------------------------------------------------------------------\n",
            "임곗값 : 0.45\n",
            "오차 행렬 :\n",
            "[[82  9]\n",
            " [24 39]]\n",
            "정확도 : 0.7857, 정밀도 : 0.8125, 재현율 : 0.6190, F1 :0.7027, AUC : 0.8577\n",
            "---------------------------------------------------------------------------------\n",
            "임곗값 : 0.48\n",
            "오차 행렬 :\n",
            "[[83  8]\n",
            " [26 37]]\n",
            "정확도 : 0.7792, 정밀도 : 0.8222, 재현율 : 0.5873, F1 :0.6852, AUC : 0.8577\n",
            "---------------------------------------------------------------------------------\n",
            "임곗값 : 0.5\n",
            "오차 행렬 :\n",
            "[[83  8]\n",
            " [27 36]]\n",
            "정확도 : 0.7727, 정밀도 : 0.8182, 재현율 : 0.5714, F1 :0.6729, AUC : 0.8577\n",
            "---------------------------------------------------------------------------------\n"
          ]
        }
      ]
    },
    {
      "cell_type": "code",
      "source": [
        "def precision_recall_curve_plot(y_test=None, pred_proba_c1 = None):\n",
        "  precisions, recalls, thresholds = precision_recall_curve(y_test, pred_proba_c1)\n",
        "  \n",
        "  plt.figure(figsize = (8,6))\n",
        "  threshold_boundary = thresholds.shape[0]\n",
        "  plt.plot(thresholds, precisions[0:threshold_boundary], linestyle = '--', label = 'precision')\n",
        "  plt.plot(thresholds, recalls[0:threshold_boundary], label = 'recall')\n",
        "\n",
        "  start,end = plt.xlim()\n",
        "  plt.xticks(np.round(np.arange(start, end, 0.1),2))\n",
        "\n",
        "  plt.xlabel('threshold value')\n",
        "  plt.ylabel('precision and recall value')\n",
        "  plt.legend()\n",
        "  plt.grid()\n",
        "  plt.show()\n",
        "\n",
        "precision_recall_curve_plot(y_test, pred_proba)"
      ],
      "metadata": {
        "colab": {
          "base_uri": "https://localhost:8080/",
          "height": 388
        },
        "id": "-0r50bZGXS2W",
        "outputId": "eee623bc-f95d-4cd2-91bb-33c70e99307d"
      },
      "execution_count": 34,
      "outputs": [
        {
          "output_type": "display_data",
          "data": {
            "text/plain": [
              "<Figure size 576x432 with 1 Axes>"
            ],
            "image/png": "[encoded data removed]"
          },
          "metadata": {
            "needs_background": "light"
          }
        }
      ]
    },
    {
      "cell_type": "code",
      "source": [
        "binarizer = Binarizer(threshold = 0.3)\n",
        "pred_thr_03 = binarizer.fit_transform(pred_proba)\n",
        "get_clf_eval(y_test, pred_thr_03, pred_proba)"
      ],
      "metadata": {
        "colab": {
          "base_uri": "https://localhost:8080/"
        },
        "id": "DtX66oKuYPuT",
        "outputId": "18390dcd-a1b5-48b2-c46d-618e697a3c14"
      },
      "execution_count": 35,
      "outputs": [
        {
          "output_type": "stream",
          "name": "stdout",
          "text": [
            "오차 행렬 :\n",
            "[[68 23]\n",
            " [16 47]]\n",
            "정확도 : 0.7468, 정밀도 : 0.6714, 재현율 : 0.7460, F1 :0.7068, AUC : 0.8577\n",
            "---------------------------------------------------------------------------------\n"
          ]
        }
      ]
    }
  ]
}