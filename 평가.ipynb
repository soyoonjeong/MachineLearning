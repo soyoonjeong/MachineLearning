{
 "cells": [
  {
   "cell_type": "markdown",
   "metadata": {},
   "source": [
    "# Precision(정확도)"
   ]
  },
  {
   "cell_type": "markdown",
   "metadata": {},
   "source": [
    ": 직관적으로 모델 예측 성능을 나타내는 평가지표\n",
    "   - 이진분류에서 데이터 구성에 따라 성능을 왜곡할 수 있기에 정확도 하나만 사용 x\n",
    "   - 불균형한 레이블 값 분포에서 모델 성능을 평가하기에 적합하지 않음\n",
    "       - ex)레이블 테스트 데이터셋 값이 90%가 1이면 다 1로 예측해도 정확도 0.9 나옴"
   ]
  },
  {
   "cell_type": "markdown",
   "metadata": {},
   "source": [
    "### 타이타닉 생존자 예측에서 여성은 모두 생존으로 판별"
   ]
  },
  {
   "cell_type": "markdown",
   "metadata": {},
   "source": [
    "- Dummy Estimator 만들기\n",
    "    - 남자면 사망, 여자면 생존으로 예측"
   ]
  },
  {
   "cell_type": "code",
   "execution_count": 1,
   "metadata": {},
   "outputs": [],
   "source": [
    "import numpy as np\n",
    "from sklearn.base import BaseEstimator\n",
    "\n",
    "class MyDummyEstimator(BaseEstimator):\n",
    "    def fit(self, X, y):\n",
    "        pass\n",
    "    # 남자면 사망, 여자면 생존으로 예측\n",
    "    def predict(self, X):\n",
    "        pred = np.zeros(X.shape[0])\n",
    "        for i in range(X.shape[0]):\n",
    "            if X['Sex'].iloc[i]==1:\n",
    "                pred[i] = 0\n",
    "            else:\n",
    "                pred[i]=1\n",
    "        return pred"
   ]
  },
  {
   "cell_type": "markdown",
   "metadata": {},
   "source": [
    "- 데이터 전처리 함수들"
   ]
  },
  {
   "cell_type": "code",
   "execution_count": 2,
   "metadata": {},
   "outputs": [],
   "source": [
    "import pandas as pd\n",
    "from sklearn.preprocessing import LabelEncoder\n",
    "\n",
    "# NULL 처리 함수\n",
    "def fillna(df):\n",
    "    df[\"Age\"].fillna(df[\"Age\"].mean(), inplace=True)\n",
    "    df[\"Cabin\"].fillna('N', inplace=True)\n",
    "    df[\"Embarked\"].fillna('N', inplace=True)\n",
    "    df[\"Fare\"].fillna(0, inplace=True)\n",
    "    return df\n",
    "\n",
    "# 불필요한 칼럼 삭제\n",
    "def drop_features(df):\n",
    "    df.drop([\"Name\",\"Ticket\",\"PassengerId\"], axis=1, inplace=True)\n",
    "    return df\n",
    "\n",
    "# 레이블 인코딩 \n",
    "def format_features(df):\n",
    "    df[\"Cabin\"] = df[\"Cabin\"].str[:1]\n",
    "    features = [\"Sex\",\"Cabin\",\"Embarked\"]\n",
    "    for feature in features:\n",
    "        encoder = LabelEncoder()\n",
    "        encoder.fit(df[feature])\n",
    "        df[feature] = encoder.transform(df[feature])\n",
    "    return df\n",
    "\n",
    "# 위 세 함수 한꺼번에 실행\n",
    "def transform_features(df):\n",
    "    df = fillna(df)\n",
    "    df = drop_features(df)\n",
    "    df = format_features(df)\n",
    "    return df"
   ]
  },
  {
   "cell_type": "markdown",
   "metadata": {},
   "source": [
    "- Dummy Estimator로 학습/예측/평가"
   ]
  },
  {
   "cell_type": "code",
   "execution_count": 3,
   "metadata": {},
   "outputs": [
    {
     "name": "stdout",
     "output_type": "stream",
     "text": [
      "Dummy Classifier의 정확도는 0.7765\n"
     ]
    }
   ],
   "source": [
    "from sklearn.model_selection import train_test_split\n",
    "from sklearn.metrics import accuracy_score\n",
    "\n",
    "titanic_df = pd.read_csv(\"titanic_train.csv\")\n",
    "X_titanic_df = titanic_df.drop(\"Survived\",axis=1)\n",
    "X_titanic_df = transform_features(X_titanic_df)\n",
    "y_titanic_df = titanic_df[\"Survived\"]\n",
    "\n",
    "X_train,X_test,y_train,y_test = train_test_split(X_titanic_df, y_titanic_df, \n",
    "                                                test_size=0.2,random_state=49)\n",
    "\n",
    "myclf = MyDummyEstimator()\n",
    "myclf.fit(X_train,y_train)\n",
    "pred = myclf.predict(X_test)\n",
    "print(\"Dummy Classifier의 정확도는 {0:.4f}\".format(accuracy_score(pred, y_test)))"
   ]
  },
  {
   "cell_type": "markdown",
   "metadata": {},
   "source": [
    "### MNIST 데이터를 다중분류에서 이진분류로 변경"
   ]
  },
  {
   "cell_type": "markdown",
   "metadata": {},
   "source": [
    "- Fake Classifier 만들기\n",
    "    - 모두 0으로 예측"
   ]
  },
  {
   "cell_type": "code",
   "execution_count": 4,
   "metadata": {},
   "outputs": [],
   "source": [
    "import numpy as np\n",
    "from sklearn.base import BaseEstimator\n",
    "\n",
    "class MyFakeClassifier(BaseEstimator):\n",
    "    def fit(self, X,y):\n",
    "        pass\n",
    "    # 모두 0으로 예측\n",
    "    def predict(self, X):\n",
    "        return np.zeros(X.shape[0], dtype=bool)"
   ]
  },
  {
   "cell_type": "markdown",
   "metadata": {},
   "source": [
    "- feature, label 데이터셋 추출"
   ]
  },
  {
   "cell_type": "code",
   "execution_count": 5,
   "metadata": {},
   "outputs": [
    {
     "name": "stdout",
     "output_type": "stream",
     "text": [
      "[[ 0.  0.  5. ...  0.  0.  0.]\n",
      " [ 0.  0.  0. ... 10.  0.  0.]\n",
      " [ 0.  0.  0. ... 16.  9.  0.]\n",
      " ...\n",
      " [ 0.  0.  1. ...  6.  0.  0.]\n",
      " [ 0.  0.  2. ... 12.  0.  0.]\n",
      " [ 0.  0. 10. ... 12.  1.  0.]]\n",
      "digits.data의 shape :  (1797, 64)\n",
      "[0 1 2 ... 8 9 8]\n",
      "digits.target의 shape :  (1797,)\n"
     ]
    }
   ],
   "source": [
    "from sklearn.datasets import load_digits\n",
    "from sklearn.model_selection import train_test_split\n",
    "from sklearn.metrics import accuracy_score\n",
    "import pandas as pd\n",
    "\n",
    "digits = load_digits()\n",
    "print(digits.data)\n",
    "print(\"digits.data의 shape : \",digits.data.shape)\n",
    "print(digits.target)\n",
    "print(\"digits.target의 shape : \",digits.target.shape)"
   ]
  },
  {
   "cell_type": "markdown",
   "metadata": {},
   "source": [
    "1797개의 그림들을 8 * 8 해서 64개의 픽셀로 나눴구나 "
   ]
  },
  {
   "cell_type": "code",
   "execution_count": 6,
   "metadata": {},
   "outputs": [
    {
     "data": {
      "text/plain": [
       "array([False, False, False, ..., False, False, False])"
      ]
     },
     "execution_count": 6,
     "metadata": {},
     "output_type": "execute_result"
    }
   ],
   "source": [
    "digits.target==7"
   ]
  },
  {
   "cell_type": "markdown",
   "metadata": {},
   "source": [
    "- Fake Classifier로 학습/예측/평가"
   ]
  },
  {
   "cell_type": "code",
   "execution_count": 7,
   "metadata": {},
   "outputs": [
    {
     "name": "stdout",
     "output_type": "stream",
     "text": [
      "레이블 테스트 세트 크기 : (450,)\n",
      "레이브 테스트 세트 0과 1의 분포도\n",
      "0    410\n",
      "1     40\n",
      "dtype: int64\n",
      "모든 예측을 0으로 하여도 정확도는 0.9111\n"
     ]
    }
   ],
   "source": [
    "y = (digits.target==7).astype(int)\n",
    "X_train, X_test, y_train, y_test = train_test_split(digits.data, y, random_state = 49)\n",
    "\n",
    "print(\"레이블 테스트 세트 크기 :\",y_test.shape)\n",
    "print(\"레이브 테스트 세트 0과 1의 분포도\")\n",
    "print(pd.Series(y_test).value_counts())\n",
    "\n",
    "clf = MyFakeClassifier()\n",
    "clf.fit(X_train, y_train)\n",
    "pred = clf.predict(X_test)\n",
    "print(\"모든 예측을 0으로 하여도 정확도는 {0:.4f}\".format(accuracy_score(pred,y_test)))"
   ]
  },
  {
   "cell_type": "markdown",
   "metadata": {},
   "source": [
    "# Confusion Matrix (오차행렬)"
   ]
  },
  {
   "cell_type": "code",
   "execution_count": 8,
   "metadata": {},
   "outputs": [
    {
     "data": {
      "text/html": [
       "<div>\n",
       "<style scoped>\n",
       "    .dataframe tbody tr th:only-of-type {\n",
       "        vertical-align: middle;\n",
       "    }\n",
       "\n",
       "    .dataframe tbody tr th {\n",
       "        vertical-align: top;\n",
       "    }\n",
       "\n",
       "    .dataframe thead th {\n",
       "        text-align: right;\n",
       "    }\n",
       "</style>\n",
       "<table border=\"1\" class=\"dataframe\">\n",
       "  <thead>\n",
       "    <tr style=\"text-align: right;\">\n",
       "      <th></th>\n",
       "      <th>예측 negative</th>\n",
       "      <th>예측 positive</th>\n",
       "    </tr>\n",
       "  </thead>\n",
       "  <tbody>\n",
       "    <tr>\n",
       "      <th>실제 negative</th>\n",
       "      <td>TN</td>\n",
       "      <td>FP</td>\n",
       "    </tr>\n",
       "    <tr>\n",
       "      <th>실제 positive</th>\n",
       "      <td>FN</td>\n",
       "      <td>TP</td>\n",
       "    </tr>\n",
       "  </tbody>\n",
       "</table>\n",
       "</div>"
      ],
      "text/plain": [
       "            예측 negative 예측 positive\n",
       "실제 negative          TN          FP\n",
       "실제 positive          FN          TP"
      ]
     },
     "execution_count": 8,
     "metadata": {},
     "output_type": "execute_result"
    }
   ],
   "source": [
    "array = np.array([[\"TN\",\"FP\"],[\"FN\",\"TP\"]])\n",
    "matrix= pd.DataFrame({\"예측 negative\":[\"TN\",\"FN\"],\"예측 positive\":[\"FP\",\"TP\"]})\n",
    "matrix.index = np.array([\"실제 negative\",\"실제 positive\"])\n",
    "matrix"
   ]
  },
  {
   "cell_type": "code",
   "execution_count": 9,
   "metadata": {},
   "outputs": [
    {
     "data": {
      "text/plain": [
       "array([[410,   0],\n",
       "       [ 40,   0]], dtype=int64)"
      ]
     },
     "execution_count": 9,
     "metadata": {},
     "output_type": "execute_result"
    }
   ],
   "source": [
    "from sklearn.metrics import confusion_matrix\n",
    "\n",
    "confusion_matrix(y_test, pred)"
   ]
  },
  {
   "cell_type": "markdown",
   "metadata": {},
   "source": [
    "- 오차행렬을 통한 정확도 지표의 문제점 인지 \n",
    "    - TP와 FP가 0인 걸로 보아 positive로는 예측을 안했음을 알 수 있다. \n",
    "    - 그럼에도 불균일한 데이터로 인해 정확도가 0.9가 나온다."
   ]
  },
  {
   "cell_type": "markdown",
   "metadata": {},
   "source": [
    "# Precision(정밀도) & Recall(재현율)"
   ]
  },
  {
   "cell_type": "code",
   "execution_count": 10,
   "metadata": {},
   "outputs": [
    {
     "data": {
      "text/html": [
       "<div>\n",
       "<style scoped>\n",
       "    .dataframe tbody tr th:only-of-type {\n",
       "        vertical-align: middle;\n",
       "    }\n",
       "\n",
       "    .dataframe tbody tr th {\n",
       "        vertical-align: top;\n",
       "    }\n",
       "\n",
       "    .dataframe thead th {\n",
       "        text-align: right;\n",
       "    }\n",
       "</style>\n",
       "<table border=\"1\" class=\"dataframe\">\n",
       "  <thead>\n",
       "    <tr style=\"text-align: right;\">\n",
       "      <th></th>\n",
       "      <th>예측 negative</th>\n",
       "      <th>예측 positive</th>\n",
       "    </tr>\n",
       "  </thead>\n",
       "  <tbody>\n",
       "    <tr>\n",
       "      <th>실제 negative</th>\n",
       "      <td>TN</td>\n",
       "      <td>FP</td>\n",
       "    </tr>\n",
       "    <tr>\n",
       "      <th>실제 positive</th>\n",
       "      <td>FN</td>\n",
       "      <td>TP</td>\n",
       "    </tr>\n",
       "  </tbody>\n",
       "</table>\n",
       "</div>"
      ],
      "text/plain": [
       "            예측 negative 예측 positive\n",
       "실제 negative          TN          FP\n",
       "실제 positive          FN          TP"
      ]
     },
     "execution_count": 10,
     "metadata": {},
     "output_type": "execute_result"
    }
   ],
   "source": [
    "matrix"
   ]
  },
  {
   "cell_type": "markdown",
   "metadata": {},
   "source": [
    "## 정밀도 \n",
    "    - 예측을 positive로 한 대상 중에 예측과 실제값이 positive로 일치한 데이터의 비율\n",
    "    - TP / (FP+TP)\n",
    "    - 실제 negative인 데이터 예측을 positive로 잘못 판단하게 되면 업무상 큰 영향이 발생하는 경우(FP이 증가하면 정밀도 감소)\n",
    "    - ex) 암 진단, 금융 사기 판별\n",
    "## 재현율 \n",
    "    - 실제값이 positive인 대상 중에 예측과 실제값이 positive로 일치한 데이터의 비율\n",
    "    - TP / (FN+TP)\n",
    "    - 실제 positive인 데이터 예측을 negative로 잘못 판단하게 되면 업무상 큰 영향이 발생하는 경우(FN이 증가하면 정밀도 감소)\n",
    "    - ex) 스팸 메일"
   ]
  },
  {
   "cell_type": "code",
   "execution_count": 11,
   "metadata": {},
   "outputs": [
    {
     "name": "stdout",
     "output_type": "stream",
     "text": [
      "정밀도 : 0.0000\n",
      "재현율 : 0.0000\n"
     ]
    },
    {
     "name": "stderr",
     "output_type": "stream",
     "text": [
      "C:\\Users\\soyunjung\\anaconda3\\lib\\site-packages\\sklearn\\metrics\\_classification.py:1221: UndefinedMetricWarning: Precision is ill-defined and being set to 0.0 due to no predicted samples. Use `zero_division` parameter to control this behavior.\n",
      "  _warn_prf(average, modifier, msg_start, len(result))\n"
     ]
    }
   ],
   "source": [
    "from sklearn.metrics import precision_score, recall_score\n",
    "\n",
    "print(\"정밀도 : {0:.4f}\".format(precision_score(y_test, pred)))\n",
    "print(\"재현율 : {0:.4f}\".format(recall_score(y_test, pred)))"
   ]
  },
  {
   "cell_type": "code",
   "execution_count": 12,
   "metadata": {},
   "outputs": [],
   "source": [
    "from sklearn.metrics import accuracy_score, precision_score, recall_score, confusion_matrix\n",
    "\n",
    "def get_clf_eval(y_test, pred):\n",
    "    accuracy = accuracy_score(y_test, pred)\n",
    "    precision = precision_score(y_test, pred)\n",
    "    recall = recall_score(y_test, pred)\n",
    "    confusion = confusion_matrix(y_test, pred)\n",
    "    \n",
    "    print(\"오차 행렬\")\n",
    "    print(confusion)\n",
    "    print(\"정확도 : {0:.4f}, 정밀도 : {1:.4f}, 재현율 : {2:.4f}\"\n",
    "         .format(accuracy, precision, recall))"
   ]
  },
  {
   "cell_type": "code",
   "execution_count": 13,
   "metadata": {},
   "outputs": [
    {
     "name": "stdout",
     "output_type": "stream",
     "text": [
      "오차 행렬\n",
      "[[97 17]\n",
      " [14 51]]\n",
      "정확도 : 0.8268, 정밀도 : 0.7500, 재현율 : 0.7846\n"
     ]
    },
    {
     "name": "stderr",
     "output_type": "stream",
     "text": [
      "C:\\Users\\soyunjung\\anaconda3\\lib\\site-packages\\sklearn\\linear_model\\_logistic.py:762: ConvergenceWarning: lbfgs failed to converge (status=1):\n",
      "STOP: TOTAL NO. of ITERATIONS REACHED LIMIT.\n",
      "\n",
      "Increase the number of iterations (max_iter) or scale the data as shown in:\n",
      "    https://scikit-learn.org/stable/modules/preprocessing.html\n",
      "Please also refer to the documentation for alternative solver options:\n",
      "    https://scikit-learn.org/stable/modules/linear_model.html#logistic-regression\n",
      "  n_iter_i = _check_optimize_result(\n"
     ]
    }
   ],
   "source": [
    "from sklearn.model_selection import train_test_split\n",
    "from sklearn.linear_model import LogisticRegression\n",
    "\n",
    "titanic_df = pd.read_csv(\"titanic_train.csv\")\n",
    "y_titanic_df = titanic_df[\"Survived\"]\n",
    "X_titanic_df = titanic_df.drop(\"Survived\", axis = 1)\n",
    "X_titanic_df = transform_features(X_titanic_df)\n",
    "\n",
    "X_train, X_test, y_train, y_test = train_test_split(X_titanic_df, y_titanic_df, \n",
    "                                                   test_size=0.2, random_state=49)\n",
    "\n",
    "lr_clf = LogisticRegression()\n",
    "lr_clf.fit(X_train, y_train)\n",
    "lr_pred = lr_clf.predict(X_test)\n",
    "get_clf_eval(y_test,lr_pred)"
   ]
  },
  {
   "cell_type": "markdown",
   "metadata": {},
   "source": [
    "## 정밀도와 재현율의 트레이드 오프\n",
    "    - 정밀도와 재현율은 상호 보완적 평가 지표\n",
    "    - 어느 한쪽을 강제로 높이면 다른 하나의 수치는 떨어지기 쉽습니다.\n",
    "    - 분류 결정 임곗값이 낮아질수록 positive로 예측할 확률이 높아짐, 재현율 증가, 정밀도 감소"
   ]
  },
  {
   "cell_type": "markdown",
   "metadata": {},
   "source": [
    "### predict_proba() 메소드 확인"
   ]
  },
  {
   "cell_type": "code",
   "execution_count": 18,
   "metadata": {},
   "outputs": [
    {
     "name": "stdout",
     "output_type": "stream",
     "text": [
      "pred_proba()의 결과 shape : (179, 2)\n",
      "[[0.87216382 0.12783618]\n",
      " [0.85554957 0.14445043]\n",
      " [0.87600574 0.12399426]]\n",
      "[[0.87216382 0.12783618 0.        ]\n",
      " [0.85554957 0.14445043 0.        ]\n",
      " [0.87600574 0.12399426 0.        ]]\n"
     ]
    }
   ],
   "source": [
    "# negative(0)일 확률과 positive(1)일 확률을 np.array 형태로 반환\n",
    "pred_proba = lr_clf.predict_proba(X_test)\n",
    "pred = lr_clf.predict(X_test)\n",
    "print(\"pred_proba()의 결과 shape :\", pred_proba.shape)\n",
    "print(pred_proba[:3])\n",
    "\n",
    "pred_proba_result = np.concatenate([pred_proba, pred.reshape(-1,1)], axis = 1)\n",
    "print(pred_proba_result[:3])"
   ]
  },
  {
   "cell_type": "markdown",
   "metadata": {},
   "source": [
    "### Binarizer활용"
   ]
  },
  {
   "cell_type": "code",
   "execution_count": 20,
   "metadata": {},
   "outputs": [
    {
     "name": "stdout",
     "output_type": "stream",
     "text": [
      "[[0. 0. 1.]\n",
      " [1. 0. 0.]\n",
      " [0. 0. 1.]]\n"
     ]
    }
   ],
   "source": [
    "from sklearn.preprocessing import Binarizer\n",
    "\n",
    "X = [[1,-1,2],\n",
    "    [2,0,0],\n",
    "    [0,1.1,1.2]]\n",
    "# threshold 보다 크면 1, 작으면 0 반환\n",
    "\n",
    "binarizer = Binarizer(threshold=1.1)\n",
    "print(binarizer.fit_transform(X))"
   ]
  },
  {
   "cell_type": "markdown",
   "metadata": {},
   "source": [
    "### Binarizer를 이용해 분류 결정 임계값 조정해 예측값 변환"
   ]
  },
  {
   "cell_type": "code",
   "execution_count": 28,
   "metadata": {},
   "outputs": [
    {
     "name": "stdout",
     "output_type": "stream",
     "text": [
      "오차 행렬\n",
      "[[97 17]\n",
      " [14 51]]\n",
      "정확도 : 0.8268, 정밀도 : 0.7500, 재현율 : 0.7846\n"
     ]
    },
    {
     "name": "stderr",
     "output_type": "stream",
     "text": [
      "C:\\Users\\soyunjung\\anaconda3\\lib\\site-packages\\sklearn\\utils\\validation.py:67: FutureWarning: Pass threshold=0.5 as keyword args. From version 0.25 passing these as positional arguments will result in an error\n",
      "  warnings.warn(\"Pass {} as keyword args. From version 0.25 \"\n"
     ]
    }
   ],
   "source": [
    "# 분류 결정 임계값 0.5 설정\n",
    "custom_threshold = 0.5\n",
    "\n",
    "pred_proba_1 = lr_clf.predict_proba(X_test)[:,1].reshape(-1,1)\n",
    "\n",
    "binarizer = Binarizer(custom_threshold)\n",
    "binarizer.fit(pred_proba_1)\n",
    "custom_predict = binarizer.transform(pred_proba_1)\n",
    "\n",
    "get_clf_eval(y_test, custom_predict)"
   ]
  },
  {
   "cell_type": "code",
   "execution_count": 29,
   "metadata": {},
   "outputs": [
    {
     "name": "stdout",
     "output_type": "stream",
     "text": [
      "오차 행렬\n",
      "[[91 23]\n",
      " [14 51]]\n",
      "정확도 : 0.7933, 정밀도 : 0.6892, 재현율 : 0.7846\n"
     ]
    },
    {
     "name": "stderr",
     "output_type": "stream",
     "text": [
      "C:\\Users\\soyunjung\\anaconda3\\lib\\site-packages\\sklearn\\utils\\validation.py:67: FutureWarning: Pass threshold=0.4 as keyword args. From version 0.25 passing these as positional arguments will result in an error\n",
      "  warnings.warn(\"Pass {} as keyword args. From version 0.25 \"\n"
     ]
    }
   ],
   "source": [
    "# 분류 결정 임계값 0.4 설정\n",
    "custom_threshold = 0.4\n",
    "\n",
    "pred_proba_1 = lr_clf.predict_proba(X_test)[:,1].reshape(-1,1)\n",
    "\n",
    "binarizer = Binarizer(custom_threshold)\n",
    "binarizer.fit(pred_proba_1)\n",
    "custom_predict = binarizer.transform(pred_proba_1)\n",
    "\n",
    "get_clf_eval(y_test, custom_predict)"
   ]
  },
  {
   "cell_type": "markdown",
   "metadata": {},
   "source": [
    "임계값을 감소시키니 정밀도가 감소하였음을 알 수 있다."
   ]
  },
  {
   "cell_type": "code",
   "execution_count": 32,
   "metadata": {},
   "outputs": [
    {
     "name": "stdout",
     "output_type": "stream",
     "text": [
      "임곗값 : 0.4\n",
      "오차 행렬\n",
      "[[91 23]\n",
      " [14 51]]\n",
      "정확도 : 0.7933, 정밀도 : 0.6892, 재현율 : 0.7846\n",
      "임곗값 : 0.45\n",
      "오차 행렬\n",
      "[[95 19]\n",
      " [14 51]]\n",
      "정확도 : 0.8156, 정밀도 : 0.7286, 재현율 : 0.7846\n",
      "임곗값 : 0.5\n",
      "오차 행렬\n",
      "[[97 17]\n",
      " [14 51]]\n",
      "정확도 : 0.8268, 정밀도 : 0.7500, 재현율 : 0.7846\n",
      "임곗값 : 0.55\n",
      "오차 행렬\n",
      "[[99 15]\n",
      " [16 49]]\n",
      "정확도 : 0.8268, 정밀도 : 0.7656, 재현율 : 0.7538\n",
      "임곗값 : 0.6\n",
      "오차 행렬\n",
      "[[105   9]\n",
      " [ 19  46]]\n",
      "정확도 : 0.8436, 정밀도 : 0.8364, 재현율 : 0.7077\n"
     ]
    },
    {
     "name": "stderr",
     "output_type": "stream",
     "text": [
      "C:\\Users\\soyunjung\\anaconda3\\lib\\site-packages\\sklearn\\utils\\validation.py:67: FutureWarning: Pass threshold=0.4 as keyword args. From version 0.25 passing these as positional arguments will result in an error\n",
      "  warnings.warn(\"Pass {} as keyword args. From version 0.25 \"\n",
      "C:\\Users\\soyunjung\\anaconda3\\lib\\site-packages\\sklearn\\utils\\validation.py:67: FutureWarning: Pass threshold=0.45 as keyword args. From version 0.25 passing these as positional arguments will result in an error\n",
      "  warnings.warn(\"Pass {} as keyword args. From version 0.25 \"\n",
      "C:\\Users\\soyunjung\\anaconda3\\lib\\site-packages\\sklearn\\utils\\validation.py:67: FutureWarning: Pass threshold=0.5 as keyword args. From version 0.25 passing these as positional arguments will result in an error\n",
      "  warnings.warn(\"Pass {} as keyword args. From version 0.25 \"\n",
      "C:\\Users\\soyunjung\\anaconda3\\lib\\site-packages\\sklearn\\utils\\validation.py:67: FutureWarning: Pass threshold=0.55 as keyword args. From version 0.25 passing these as positional arguments will result in an error\n",
      "  warnings.warn(\"Pass {} as keyword args. From version 0.25 \"\n",
      "C:\\Users\\soyunjung\\anaconda3\\lib\\site-packages\\sklearn\\utils\\validation.py:67: FutureWarning: Pass threshold=0.6 as keyword args. From version 0.25 passing these as positional arguments will result in an error\n",
      "  warnings.warn(\"Pass {} as keyword args. From version 0.25 \"\n"
     ]
    }
   ],
   "source": [
    "# 여러 개의 임곗값 설정\n",
    "custom_threshold = [0.4,0.45,0.5,0.55,0.6]\n",
    "\n",
    "pred_proba_1 = lr_clf.predict_proba(X_test)[:,1].reshape(-1,1)\n",
    "\n",
    "for threshold in custom_threshold:\n",
    "    binarizer = Binarizer(threshold)\n",
    "    binarizer.fit(pred_proba_1)\n",
    "    custom_predict = binarizer.transform(pred_proba_1)\n",
    "    \n",
    "    print(\"임곗값 :\", threshold)\n",
    "    get_clf_eval(y_test, custom_predict)"
   ]
  },
  {
   "cell_type": "markdown",
   "metadata": {},
   "source": [
    "    - 임곗값이 증가할수록 FP가 감소하고 FN이 증가하기 때문에\n",
    "    - TP/(FP+TP)인 정밀도가 증가\n",
    "    - TP/(FN+TP)인 재현율이 감소"
   ]
  },
  {
   "cell_type": "code",
   "execution_count": 35,
   "metadata": {},
   "outputs": [
    {
     "name": "stdout",
     "output_type": "stream",
     "text": [
      "반환된 분류 결정 임곗값 배열의 shape : (144,)\n",
      "반환된 정밀도 배열의 shape : (145,)\n",
      "반환된 재현율 배열의 shape : (145,)\n",
      "thresholds 5 sample : [0.10141062 0.10570935 0.10573328 0.10635856 0.11023893]\n",
      "precisions 5 sample : [0.43046358 0.42666667 0.4295302  0.42567568 0.42857143]\n",
      "recalls 5 sample : [1.         0.98461538 0.98461538 0.96923077 0.96923077]\n",
      "샘플 추출을 위한 임곗값 배열의 index 10개 : [  0  15  30  45  60  75  90 105 120 135]\n",
      "샘플용 10개의 임곗값 : [0.1  0.13 0.16 0.21 0.31 0.5  0.61 0.69 0.85 0.93]\n",
      "샘플 임곗값별 정밀도 : [0.43 0.48 0.53 0.59 0.65 0.74 0.83 0.92 1.   1.  ]\n",
      "샘플 임곗값별 재현율 : [1.   0.95 0.94 0.89 0.85 0.78 0.69 0.55 0.37 0.14]\n"
     ]
    }
   ],
   "source": [
    "from sklearn.metrics import precision_recall_curve\n",
    "\n",
    "# 레이블 값이 1일 때의 예측 확률 추출\n",
    "pred_proba_class1 = lr_clf.predict_proba(X_test)[:,1]\n",
    "\n",
    "# 실제값 데이터 셋과 레이블 값이 1일 때의 예측 확률을 precision_recall_curve 인자로 입력\n",
    "precisions, recalls, thresholds = precision_recall_curve(y_test, pred_proba_class1)\n",
    "print(\"반환된 분류 결정 임곗값 배열의 shape :\", thresholds.shape)\n",
    "print(\"반환된 정밀도 배열의 shape :\", precisions.shape)\n",
    "print(\"반환된 재현율 배열의 shape :\", recalls.shape)\n",
    "\n",
    "print(\"thresholds 5 sample :\", thresholds[:5])\n",
    "print(\"precisions 5 sample :\", precisions[:5])\n",
    "print(\"recalls 5 sample :\", recalls[:5])\n",
    "\n",
    "thr_index =  np.arange(0, thresholds.shape[0],15)\n",
    "print(\"샘플 추출을 위한 임곗값 배열의 index 10개 :\", thr_index)\n",
    "\n",
    "print(\"샘플용 10개의 임곗값 :\", np.round(thresholds[thr_index],2))\n",
    "print(\"샘플 임곗값별 정밀도 :\", np.round(precisions[thr_index],2))\n",
    "print(\"샘플 임곗값별 재현율 :\", np.round(recalls[thr_index],2))"
   ]
  },
  {
   "cell_type": "markdown",
   "metadata": {},
   "source": [
    "### 임곗값 증가할수록 정밀도 증가, 재현율 감소"
   ]
  },
  {
   "cell_type": "code",
   "execution_count": 37,
   "metadata": {},
   "outputs": [
    {
     "data": {
      "image/png": "[encoded data removed]",
      "text/plain": [
       "<Figure size 576x432 with 1 Axes>"
      ]
     },
     "metadata": {
      "needs_background": "light"
     },
     "output_type": "display_data"
    }
   ],
   "source": [
    "import matplotlib.pyplot as plt\n",
    "import matplotlib.ticker as ticker\n",
    "%matplotlib inline\n",
    "\n",
    "def precision_recall_curve_plot(y_test, pred_proba_c1):\n",
    "    # threshold ndarray와 이 threshold에 따른 정밀도, 재현율 ndarray 추출.\n",
    "    precisions, recalls, thresholds = precision_recall_curve(y_test, pred_proba_c1)\n",
    "    \n",
    "    # X축을 threshold값으로, Y축은 정밀도, 재현율 값으로 각각 Plot 수행. \n",
    "    # 정밀도는 점선으로 표시\n",
    "    plt.figure(figsize=(8,6))\n",
    "    threshold_boundary = thresholds.shape[0]\n",
    "    plt.plot(thresholds, precisions[0:threshold_boundary], linestyle='--', \n",
    "             label=\"precision\")\n",
    "    plt.plot(thresholds, recalls[0:threshold_boundary], label=\"recall\")\n",
    "    \n",
    "    # threshold 값 X 축의 Scale을 0.1 단위로 변경\n",
    "    start,end = plt.xlim()\n",
    "    plt.xticks(np.round(np.arange(start,end,0.1),2))\n",
    "    \n",
    "    # x축, y축 label과 legend, 그리고 grid 설정\n",
    "    plt.xlabel(\"threshold value\")\n",
    "    plt.ylabel(\"precision and recall value\")\n",
    "    plt.legend()\n",
    "    plt.grid()\n",
    "    plt.show()\n",
    "    \n",
    "precision_recall_curve_plot(y_test, pred_proba_class1)"
   ]
  },
  {
   "cell_type": "code",
   "execution_count": null,
   "metadata": {},
   "outputs": [],
   "source": []
  }
 ],
 "metadata": {
  "kernelspec": {
   "display_name": "Python 3",
   "language": "python",
   "name": "python3"
  },
  "language_info": {
   "codemirror_mode": {
    "name": "ipython",
    "version": 3
   },
   "file_extension": ".py",
   "mimetype": "text/x-python",
   "name": "python",
   "nbconvert_exporter": "python",
   "pygments_lexer": "ipython3",
   "version": "3.8.5"
  }
 },
 "nbformat": 4,
 "nbformat_minor": 4
}
