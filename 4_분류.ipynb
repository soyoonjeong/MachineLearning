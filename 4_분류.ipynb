{
  "cells": [
    {
      "cell_type": "markdown",
      "metadata": {
        "id": "view-in-github",
        "colab_type": "text"
      },
      "source": [
        "<a href=\"https://colab.research.google.com/github/soyoonjeong/MachineLearning/blob/main/4_%EB%B6%84%EB%A5%98.ipynb\" target=\"_parent\"><img src=\"https://colab.research.google.com/assets/colab-badge.svg\" alt=\"Open In Colab\"/></a>"
      ]
    },
    {
      "cell_type": "code",
      "execution_count": null,
      "metadata": {
        "id": "fEcMAfiJIPTX"
      },
      "outputs": [],
      "source": [
        "import numpy as np\n",
        "import pandas as pd\n",
        "import matplotlib.pyplot as plt\n",
        "%matplotlib inline"
      ]
    },
    {
      "cell_type": "markdown",
      "metadata": {
        "id": "JVyyQqILepih"
      },
      "source": [
        "# 01. 분류의 개요\n",
        "\n",
        "**분류** : 학습 데이터를 머신러닝 알고리즘으로 **학습**(모델생성) → 미지의 레이블 값 **예측** \n",
        "\n",
        "알고리즘 : 나이브 베이즈, 로지스틱 회귀, 결정 트리, 서포트 벡터 머신, 최소 근접 알고리즘, 신경망, 앙상블(배깅, 부스팅)"
      ]
    },
    {
      "cell_type": "markdown",
      "metadata": {
        "id": "tvX8nR_vw_r9"
      },
      "source": [
        "# 02. 결정 트리\n",
        "데이터에 있는 규칙을 학습을 통해 자동으로 찾아내 트리 기반의 분류 규칙 만듦\n",
        "\n",
        "PROBLEM : 트리의 깊이가 깊어질수록 결정 트리의 예측 성능 저하될 가능성 높음\n",
        "\n",
        "SOLUTION : 최대한 많은 데이터 세트가 해당 분류에 속할 수 있도록 **정보 균일도**가 높은 데이터 세트를 먼저 선택할 수 있도록 규칙 조건을 만듦 \n",
        "\n",
        "- **정보 이득** = 1 - 엔트로피 지수(혼잡도), 정보 이득이 높을수록 엔트로피 낮고 혼잡도 낮음\n",
        "- **지니 계수** = 불평등 지수, 지니 계수가 낮을 수록 데이터 균일도 높음\n",
        "\n",
        "⭐ 정보 이득이 높거나 지니 계수가 낮은 속성을 기준으로 분할\n",
        "\n",
        "- 의사결정나무를 이용한 분류 학습 (정보 이득, 지니 계수)\n",
        "    1. 여러가지 독립 변수 중 하나의 독립 변수를 선택하고 그 독립 변수에 대한 기준값(threshold)를 정함 ( 정보 획득량, 즉 균일도가 가장 높은 독립 변수와 기준값 )\n",
        "    2. 전체 학습 데이터 집합(부모노드)를 해당 독립 변수의 값보다 작은 데이터 그룹(자식노드1), 해당 독립 변수의 값보다 큰 데이터 그룹(자식노드2)로 나눔\n",
        "    3. 각각의 자식 노드에 대해 1~2의 단계를 반복해 하위의 자식노드를 만듦"
      ]
    },
    {
      "cell_type": "markdown",
      "metadata": {
        "id": "RegPaObrxa5f"
      },
      "source": [
        "## 결정 트리 모델의 특징\n",
        "\n",
        "장점 \n",
        "\n",
        "- 균일도 기반이어서 쉽고 직관적임\n",
        "- 피처의 스케일링이나 정규화 등의 사전 가공의 영향도가 크지 않음\n",
        "\n",
        "단점\n",
        "\n",
        "- 트리의 깊이가 깊어지면 과적합으로 알고리즘 성능 떨어짐\n",
        "- → 트리의 크기를 사전에 제한하는 튜닝 필요(완벽한 규칙은 만들 수 없다!)"
      ]
    },
    {
      "cell_type": "markdown",
      "metadata": {
        "id": "owC5BnxlxWy9"
      },
      "source": [
        "## 결정 트리 파라미터\n",
        "\n",
        "- min_samples_split : 노드를 분할하기 위한 최소 샘플 데이터 수, 작게 설정할수록 과적합\n",
        "- min_samples_leaf : 리프 노드가 되기 위한 최소한의 샘플 데이터 수, 비대칭 데이터 경우 생각\n",
        "- max_features : 최적의 분할을 위해 고려할 최대 피처 개수\n",
        "- max_depth : 트리의 최대 깊이 규정\n",
        "- max_leaf_nodes : 리프 노드의 최대 개수"
      ]
    },
    {
      "cell_type": "markdown",
      "metadata": {
        "id": "BSnuLwPnxRaM"
      },
      "source": [
        "## 결정 트리 모델의 시각화\n",
        "\n",
        "graphiz 패키지 사용"
      ]
    },
    {
      "cell_type": "code",
      "execution_count": null,
      "metadata": {
        "colab": {
          "base_uri": "https://localhost:8080/"
        },
        "id": "VAFrz4XQxdbu",
        "outputId": "654f97e8-5a30-4ed8-cab9-c0b1fb517504"
      },
      "outputs": [
        {
          "data": {
            "text/plain": [
              "DecisionTreeClassifier(random_state=49)"
            ]
          },
          "execution_count": 2,
          "metadata": {},
          "output_type": "execute_result"
        }
      ],
      "source": [
        "from sklearn.tree import DecisionTreeClassifier\n",
        "from sklearn.datasets import load_iris\n",
        "from sklearn.model_selection import train_test_split\n",
        "import warnings\n",
        "warnings.filterwarnings('ignore')\n",
        "\n",
        "# DecisionTree Classifier 생성\n",
        "dt_clf = DecisionTreeClassifier(random_state=49)\n",
        "\n",
        "# 붓꽃 데이터 로딩 후 학습과 테스트 데이터 세트로 분리\n",
        "iris_data = load_iris()\n",
        "X_train, X_test, y_train, y_test = train_test_split(iris_data.data, iris_data.target, test_size = 0.2, random_state = 100)\n",
        "\n",
        "# DecisionTreeClassifier 학습\n",
        "dt_clf.fit(X_train, y_train)"
      ]
    },
    {
      "cell_type": "code",
      "execution_count": null,
      "metadata": {
        "id": "iYovWLOwyK5Y"
      },
      "outputs": [],
      "source": [
        "from sklearn.tree import export_graphviz\n",
        "\n",
        "# export_graphviz()의 호출 결과로 out_file로 지정된 tree.dot 파일을 생성\n",
        "export_graphviz(dt_clf, out_file='tree.dot',class_names = iris_data.target_names,feature_names = iris_data.feature_names, impurity = True,filled =True)\n"
      ]
    },
    {
      "cell_type": "code",
      "execution_count": null,
      "metadata": {
        "colab": {
          "base_uri": "https://localhost:8080/",
          "height": 915
        },
        "id": "dupWfR6ty48P",
        "outputId": "09f68c9d-79a8-42e0-ef41-43c88381e3c4"
      },
      "outputs": [
        {
          "data": {
            "image/svg+xml": "<?xml version=\"1.0\" encoding=\"UTF-8\" standalone=\"no\"?>\n<!DOCTYPE svg PUBLIC \"-//W3C//DTD SVG 1.1//EN\"\n \"http://www.w3.org/Graphics/SVG/1.1/DTD/svg11.dtd\">\n<!-- Generated by graphviz version 2.40.1 (20161225.0304)\n -->\n<!-- Title: Tree Pages: 1 -->\n<svg width=\"707pt\" height=\"671pt\"\n viewBox=\"0.00 0.00 707.00 671.00\" xmlns=\"http://www.w3.org/2000/svg\" xmlns:xlink=\"http://www.w3.org/1999/xlink\">\n<g id=\"graph0\" class=\"graph\" transform=\"scale(1 1) rotate(0) translate(4 667)\">\n<title>Tree</title>\n<polygon fill=\"#ffffff\" stroke=\"transparent\" points=\"-4,4 -4,-667 703,-667 703,4 -4,4\"/>\n<!-- 0 -->\n<g id=\"node1\" class=\"node\">\n<title>0</title>\n<polygon fill=\"#f3fdf7\" stroke=\"#000000\" points=\"383.5,-663 207.5,-663 207.5,-580 383.5,-580 383.5,-663\"/>\n<text text-anchor=\"middle\" x=\"295.5\" y=\"-647.8\" font-family=\"Helvetica,sans-Serif\" font-size=\"14.00\" fill=\"#000000\">petal length (cm) &lt;= 2.45</text>\n<text text-anchor=\"middle\" x=\"295.5\" y=\"-632.8\" font-family=\"Helvetica,sans-Serif\" font-size=\"14.00\" fill=\"#000000\">gini = 0.665</text>\n<text text-anchor=\"middle\" x=\"295.5\" y=\"-617.8\" font-family=\"Helvetica,sans-Serif\" font-size=\"14.00\" fill=\"#000000\">samples = 120</text>\n<text text-anchor=\"middle\" x=\"295.5\" y=\"-602.8\" font-family=\"Helvetica,sans-Serif\" font-size=\"14.00\" fill=\"#000000\">value = [39, 44, 37]</text>\n<text text-anchor=\"middle\" x=\"295.5\" y=\"-587.8\" font-family=\"Helvetica,sans-Serif\" font-size=\"14.00\" fill=\"#000000\">class = versicolor</text>\n</g>\n<!-- 1 -->\n<g id=\"node2\" class=\"node\">\n<title>1</title>\n<polygon fill=\"#e58139\" stroke=\"#000000\" points=\"275,-536.5 152,-536.5 152,-468.5 275,-468.5 275,-536.5\"/>\n<text text-anchor=\"middle\" x=\"213.5\" y=\"-521.3\" font-family=\"Helvetica,sans-Serif\" font-size=\"14.00\" fill=\"#000000\">gini = 0.0</text>\n<text text-anchor=\"middle\" x=\"213.5\" y=\"-506.3\" font-family=\"Helvetica,sans-Serif\" font-size=\"14.00\" fill=\"#000000\">samples = 39</text>\n<text text-anchor=\"middle\" x=\"213.5\" y=\"-491.3\" font-family=\"Helvetica,sans-Serif\" font-size=\"14.00\" fill=\"#000000\">value = [39, 0, 0]</text>\n<text text-anchor=\"middle\" x=\"213.5\" y=\"-476.3\" font-family=\"Helvetica,sans-Serif\" font-size=\"14.00\" fill=\"#000000\">class = setosa</text>\n</g>\n<!-- 0&#45;&gt;1 -->\n<g id=\"edge1\" class=\"edge\">\n<title>0&#45;&gt;1</title>\n<path fill=\"none\" stroke=\"#000000\" d=\"M266.8204,-579.8796C259.0917,-568.6636 250.7191,-556.5131 242.9492,-545.2372\"/>\n<polygon fill=\"#000000\" stroke=\"#000000\" points=\"245.7018,-543.0634 237.1456,-536.8149 239.9377,-547.0353 245.7018,-543.0634\"/>\n<text text-anchor=\"middle\" x=\"232.6196\" y=\"-557.7018\" font-family=\"Helvetica,sans-Serif\" font-size=\"14.00\" fill=\"#000000\">True</text>\n</g>\n<!-- 2 -->\n<g id=\"node3\" class=\"node\">\n<title>2</title>\n<polygon fill=\"#e0fbeb\" stroke=\"#000000\" points=\"463.5,-544 293.5,-544 293.5,-461 463.5,-461 463.5,-544\"/>\n<text text-anchor=\"middle\" x=\"378.5\" y=\"-528.8\" font-family=\"Helvetica,sans-Serif\" font-size=\"14.00\" fill=\"#000000\">petal width (cm) &lt;= 1.65</text>\n<text text-anchor=\"middle\" x=\"378.5\" y=\"-513.8\" font-family=\"Helvetica,sans-Serif\" font-size=\"14.00\" fill=\"#000000\">gini = 0.496</text>\n<text text-anchor=\"middle\" x=\"378.5\" y=\"-498.8\" font-family=\"Helvetica,sans-Serif\" font-size=\"14.00\" fill=\"#000000\">samples = 81</text>\n<text text-anchor=\"middle\" x=\"378.5\" y=\"-483.8\" font-family=\"Helvetica,sans-Serif\" font-size=\"14.00\" fill=\"#000000\">value = [0, 44, 37]</text>\n<text text-anchor=\"middle\" x=\"378.5\" y=\"-468.8\" font-family=\"Helvetica,sans-Serif\" font-size=\"14.00\" fill=\"#000000\">class = versicolor</text>\n</g>\n<!-- 0&#45;&gt;2 -->\n<g id=\"edge2\" class=\"edge\">\n<title>0&#45;&gt;2</title>\n<path fill=\"none\" stroke=\"#000000\" d=\"M324.5294,-579.8796C330.6855,-571.0534 337.2451,-561.6485 343.5936,-552.5466\"/>\n<polygon fill=\"#000000\" stroke=\"#000000\" points=\"346.4967,-554.5024 349.3467,-544.2981 340.7552,-550.4978 346.4967,-554.5024\"/>\n<text text-anchor=\"middle\" x=\"353.7331\" y=\"-565.2103\" font-family=\"Helvetica,sans-Serif\" font-size=\"14.00\" fill=\"#000000\">False</text>\n</g>\n<!-- 3 -->\n<g id=\"node4\" class=\"node\">\n<title>3</title>\n<polygon fill=\"#4be78d\" stroke=\"#000000\" points=\"369.5,-425 193.5,-425 193.5,-342 369.5,-342 369.5,-425\"/>\n<text text-anchor=\"middle\" x=\"281.5\" y=\"-409.8\" font-family=\"Helvetica,sans-Serif\" font-size=\"14.00\" fill=\"#000000\">petal length (cm) &lt;= 4.95</text>\n<text text-anchor=\"middle\" x=\"281.5\" y=\"-394.8\" font-family=\"Helvetica,sans-Serif\" font-size=\"14.00\" fill=\"#000000\">gini = 0.156</text>\n<text text-anchor=\"middle\" x=\"281.5\" y=\"-379.8\" font-family=\"Helvetica,sans-Serif\" font-size=\"14.00\" fill=\"#000000\">samples = 47</text>\n<text text-anchor=\"middle\" x=\"281.5\" y=\"-364.8\" font-family=\"Helvetica,sans-Serif\" font-size=\"14.00\" fill=\"#000000\">value = [0, 43, 4]</text>\n<text text-anchor=\"middle\" x=\"281.5\" y=\"-349.8\" font-family=\"Helvetica,sans-Serif\" font-size=\"14.00\" fill=\"#000000\">class = versicolor</text>\n</g>\n<!-- 2&#45;&gt;3 -->\n<g id=\"edge3\" class=\"edge\">\n<title>2&#45;&gt;3</title>\n<path fill=\"none\" stroke=\"#000000\" d=\"M344.5741,-460.8796C337.3062,-451.9633 329.557,-442.4565 322.0672,-433.268\"/>\n<polygon fill=\"#000000\" stroke=\"#000000\" points=\"324.6018,-430.8379 315.5707,-425.2981 319.176,-435.2606 324.6018,-430.8379\"/>\n</g>\n<!-- 10 -->\n<g id=\"node11\" class=\"node\">\n<title>10</title>\n<polygon fill=\"#853fe6\" stroke=\"#000000\" points=\"563.5,-425 387.5,-425 387.5,-342 563.5,-342 563.5,-425\"/>\n<text text-anchor=\"middle\" x=\"475.5\" y=\"-409.8\" font-family=\"Helvetica,sans-Serif\" font-size=\"14.00\" fill=\"#000000\">petal length (cm) &lt;= 4.85</text>\n<text text-anchor=\"middle\" x=\"475.5\" y=\"-394.8\" font-family=\"Helvetica,sans-Serif\" font-size=\"14.00\" fill=\"#000000\">gini = 0.057</text>\n<text text-anchor=\"middle\" x=\"475.5\" y=\"-379.8\" font-family=\"Helvetica,sans-Serif\" font-size=\"14.00\" fill=\"#000000\">samples = 34</text>\n<text text-anchor=\"middle\" x=\"475.5\" y=\"-364.8\" font-family=\"Helvetica,sans-Serif\" font-size=\"14.00\" fill=\"#000000\">value = [0, 1, 33]</text>\n<text text-anchor=\"middle\" x=\"475.5\" y=\"-349.8\" font-family=\"Helvetica,sans-Serif\" font-size=\"14.00\" fill=\"#000000\">class = virginica</text>\n</g>\n<!-- 2&#45;&gt;10 -->\n<g id=\"edge10\" class=\"edge\">\n<title>2&#45;&gt;10</title>\n<path fill=\"none\" stroke=\"#000000\" d=\"M412.4259,-460.8796C419.6938,-451.9633 427.443,-442.4565 434.9328,-433.268\"/>\n<polygon fill=\"#000000\" stroke=\"#000000\" points=\"437.824,-435.2606 441.4293,-425.2981 432.3982,-430.8379 437.824,-435.2606\"/>\n</g>\n<!-- 4 -->\n<g id=\"node5\" class=\"node\">\n<title>4</title>\n<polygon fill=\"#39e581\" stroke=\"#000000\" points=\"174.5,-298.5 46.5,-298.5 46.5,-230.5 174.5,-230.5 174.5,-298.5\"/>\n<text text-anchor=\"middle\" x=\"110.5\" y=\"-283.3\" font-family=\"Helvetica,sans-Serif\" font-size=\"14.00\" fill=\"#000000\">gini = 0.0</text>\n<text text-anchor=\"middle\" x=\"110.5\" y=\"-268.3\" font-family=\"Helvetica,sans-Serif\" font-size=\"14.00\" fill=\"#000000\">samples = 42</text>\n<text text-anchor=\"middle\" x=\"110.5\" y=\"-253.3\" font-family=\"Helvetica,sans-Serif\" font-size=\"14.00\" fill=\"#000000\">value = [0, 42, 0]</text>\n<text text-anchor=\"middle\" x=\"110.5\" y=\"-238.3\" font-family=\"Helvetica,sans-Serif\" font-size=\"14.00\" fill=\"#000000\">class = versicolor</text>\n</g>\n<!-- 3&#45;&gt;4 -->\n<g id=\"edge4\" class=\"edge\">\n<title>3&#45;&gt;4</title>\n<path fill=\"none\" stroke=\"#000000\" d=\"M221.6925,-341.8796C204.2285,-329.7263 185.188,-316.4759 167.878,-304.4297\"/>\n<polygon fill=\"#000000\" stroke=\"#000000\" points=\"169.7413,-301.4623 159.5339,-298.623 165.7428,-307.208 169.7413,-301.4623\"/>\n</g>\n<!-- 5 -->\n<g id=\"node6\" class=\"node\">\n<title>5</title>\n<polygon fill=\"#a06aec\" stroke=\"#000000\" points=\"372.5,-306 192.5,-306 192.5,-223 372.5,-223 372.5,-306\"/>\n<text text-anchor=\"middle\" x=\"282.5\" y=\"-290.8\" font-family=\"Helvetica,sans-Serif\" font-size=\"14.00\" fill=\"#000000\">sepal length (cm) &lt;= 6.05</text>\n<text text-anchor=\"middle\" x=\"282.5\" y=\"-275.8\" font-family=\"Helvetica,sans-Serif\" font-size=\"14.00\" fill=\"#000000\">gini = 0.32</text>\n<text text-anchor=\"middle\" x=\"282.5\" y=\"-260.8\" font-family=\"Helvetica,sans-Serif\" font-size=\"14.00\" fill=\"#000000\">samples = 5</text>\n<text text-anchor=\"middle\" x=\"282.5\" y=\"-245.8\" font-family=\"Helvetica,sans-Serif\" font-size=\"14.00\" fill=\"#000000\">value = [0, 1, 4]</text>\n<text text-anchor=\"middle\" x=\"282.5\" y=\"-230.8\" font-family=\"Helvetica,sans-Serif\" font-size=\"14.00\" fill=\"#000000\">class = virginica</text>\n</g>\n<!-- 3&#45;&gt;5 -->\n<g id=\"edge5\" class=\"edge\">\n<title>3&#45;&gt;5</title>\n<path fill=\"none\" stroke=\"#000000\" d=\"M281.8498,-341.8796C281.9186,-333.6838 281.9917,-324.9891 282.063,-316.5013\"/>\n<polygon fill=\"#000000\" stroke=\"#000000\" points=\"285.5645,-316.3272 282.1488,-306.2981 278.5648,-316.2683 285.5645,-316.3272\"/>\n</g>\n<!-- 6 -->\n<g id=\"node7\" class=\"node\">\n<title>6</title>\n<polygon fill=\"#ffffff\" stroke=\"#000000\" points=\"218.5,-187 42.5,-187 42.5,-104 218.5,-104 218.5,-187\"/>\n<text text-anchor=\"middle\" x=\"130.5\" y=\"-171.8\" font-family=\"Helvetica,sans-Serif\" font-size=\"14.00\" fill=\"#000000\">petal length (cm) &lt;= 5.05</text>\n<text text-anchor=\"middle\" x=\"130.5\" y=\"-156.8\" font-family=\"Helvetica,sans-Serif\" font-size=\"14.00\" fill=\"#000000\">gini = 0.5</text>\n<text text-anchor=\"middle\" x=\"130.5\" y=\"-141.8\" font-family=\"Helvetica,sans-Serif\" font-size=\"14.00\" fill=\"#000000\">samples = 2</text>\n<text text-anchor=\"middle\" x=\"130.5\" y=\"-126.8\" font-family=\"Helvetica,sans-Serif\" font-size=\"14.00\" fill=\"#000000\">value = [0, 1, 1]</text>\n<text text-anchor=\"middle\" x=\"130.5\" y=\"-111.8\" font-family=\"Helvetica,sans-Serif\" font-size=\"14.00\" fill=\"#000000\">class = versicolor</text>\n</g>\n<!-- 5&#45;&gt;6 -->\n<g id=\"edge6\" class=\"edge\">\n<title>5&#45;&gt;6</title>\n<path fill=\"none\" stroke=\"#000000\" d=\"M229.3378,-222.8796C217.1885,-213.368 204.1808,-203.1843 191.724,-193.432\"/>\n<polygon fill=\"#000000\" stroke=\"#000000\" points=\"193.6638,-190.5055 183.6322,-187.0969 189.3486,-196.0173 193.6638,-190.5055\"/>\n</g>\n<!-- 9 -->\n<g id=\"node10\" class=\"node\">\n<title>9</title>\n<polygon fill=\"#8139e5\" stroke=\"#000000\" points=\"356,-179.5 237,-179.5 237,-111.5 356,-111.5 356,-179.5\"/>\n<text text-anchor=\"middle\" x=\"296.5\" y=\"-164.3\" font-family=\"Helvetica,sans-Serif\" font-size=\"14.00\" fill=\"#000000\">gini = 0.0</text>\n<text text-anchor=\"middle\" x=\"296.5\" y=\"-149.3\" font-family=\"Helvetica,sans-Serif\" font-size=\"14.00\" fill=\"#000000\">samples = 3</text>\n<text text-anchor=\"middle\" x=\"296.5\" y=\"-134.3\" font-family=\"Helvetica,sans-Serif\" font-size=\"14.00\" fill=\"#000000\">value = [0, 0, 3]</text>\n<text text-anchor=\"middle\" x=\"296.5\" y=\"-119.3\" font-family=\"Helvetica,sans-Serif\" font-size=\"14.00\" fill=\"#000000\">class = virginica</text>\n</g>\n<!-- 5&#45;&gt;9 -->\n<g id=\"edge9\" class=\"edge\">\n<title>5&#45;&gt;9</title>\n<path fill=\"none\" stroke=\"#000000\" d=\"M287.3965,-222.8796C288.6514,-212.2134 290.0056,-200.7021 291.2763,-189.9015\"/>\n<polygon fill=\"#000000\" stroke=\"#000000\" points=\"294.7705,-190.1554 292.4629,-179.8149 287.8184,-189.3375 294.7705,-190.1554\"/>\n</g>\n<!-- 7 -->\n<g id=\"node8\" class=\"node\">\n<title>7</title>\n<polygon fill=\"#8139e5\" stroke=\"#000000\" points=\"119,-68 0,-68 0,0 119,0 119,-68\"/>\n<text text-anchor=\"middle\" x=\"59.5\" y=\"-52.8\" font-family=\"Helvetica,sans-Serif\" font-size=\"14.00\" fill=\"#000000\">gini = 0.0</text>\n<text text-anchor=\"middle\" x=\"59.5\" y=\"-37.8\" font-family=\"Helvetica,sans-Serif\" font-size=\"14.00\" fill=\"#000000\">samples = 1</text>\n<text text-anchor=\"middle\" x=\"59.5\" y=\"-22.8\" font-family=\"Helvetica,sans-Serif\" font-size=\"14.00\" fill=\"#000000\">value = [0, 0, 1]</text>\n<text text-anchor=\"middle\" x=\"59.5\" y=\"-7.8\" font-family=\"Helvetica,sans-Serif\" font-size=\"14.00\" fill=\"#000000\">class = virginica</text>\n</g>\n<!-- 6&#45;&gt;7 -->\n<g id=\"edge7\" class=\"edge\">\n<title>6&#45;&gt;7</title>\n<path fill=\"none\" stroke=\"#000000\" d=\"M104.0622,-103.9815C98.444,-95.1585 92.5012,-85.8258 86.8497,-76.9506\"/>\n<polygon fill=\"#000000\" stroke=\"#000000\" points=\"89.6416,-74.8188 81.3181,-68.2637 83.7371,-78.5787 89.6416,-74.8188\"/>\n</g>\n<!-- 8 -->\n<g id=\"node9\" class=\"node\">\n<title>8</title>\n<polygon fill=\"#39e581\" stroke=\"#000000\" points=\"265.5,-68 137.5,-68 137.5,0 265.5,0 265.5,-68\"/>\n<text text-anchor=\"middle\" x=\"201.5\" y=\"-52.8\" font-family=\"Helvetica,sans-Serif\" font-size=\"14.00\" fill=\"#000000\">gini = 0.0</text>\n<text text-anchor=\"middle\" x=\"201.5\" y=\"-37.8\" font-family=\"Helvetica,sans-Serif\" font-size=\"14.00\" fill=\"#000000\">samples = 1</text>\n<text text-anchor=\"middle\" x=\"201.5\" y=\"-22.8\" font-family=\"Helvetica,sans-Serif\" font-size=\"14.00\" fill=\"#000000\">value = [0, 1, 0]</text>\n<text text-anchor=\"middle\" x=\"201.5\" y=\"-7.8\" font-family=\"Helvetica,sans-Serif\" font-size=\"14.00\" fill=\"#000000\">class = versicolor</text>\n</g>\n<!-- 6&#45;&gt;8 -->\n<g id=\"edge8\" class=\"edge\">\n<title>6&#45;&gt;8</title>\n<path fill=\"none\" stroke=\"#000000\" d=\"M156.9378,-103.9815C162.556,-95.1585 168.4988,-85.8258 174.1503,-76.9506\"/>\n<polygon fill=\"#000000\" stroke=\"#000000\" points=\"177.2629,-78.5787 179.6819,-68.2637 171.3584,-74.8188 177.2629,-78.5787\"/>\n</g>\n<!-- 11 -->\n<g id=\"node12\" class=\"node\">\n<title>11</title>\n<polygon fill=\"#ab7bee\" stroke=\"#000000\" points=\"557.5,-306 391.5,-306 391.5,-223 557.5,-223 557.5,-306\"/>\n<text text-anchor=\"middle\" x=\"474.5\" y=\"-290.8\" font-family=\"Helvetica,sans-Serif\" font-size=\"14.00\" fill=\"#000000\">sepal width (cm) &lt;= 3.1</text>\n<text text-anchor=\"middle\" x=\"474.5\" y=\"-275.8\" font-family=\"Helvetica,sans-Serif\" font-size=\"14.00\" fill=\"#000000\">gini = 0.375</text>\n<text text-anchor=\"middle\" x=\"474.5\" y=\"-260.8\" font-family=\"Helvetica,sans-Serif\" font-size=\"14.00\" fill=\"#000000\">samples = 4</text>\n<text text-anchor=\"middle\" x=\"474.5\" y=\"-245.8\" font-family=\"Helvetica,sans-Serif\" font-size=\"14.00\" fill=\"#000000\">value = [0, 1, 3]</text>\n<text text-anchor=\"middle\" x=\"474.5\" y=\"-230.8\" font-family=\"Helvetica,sans-Serif\" font-size=\"14.00\" fill=\"#000000\">class = virginica</text>\n</g>\n<!-- 10&#45;&gt;11 -->\n<g id=\"edge11\" class=\"edge\">\n<title>10&#45;&gt;11</title>\n<path fill=\"none\" stroke=\"#000000\" d=\"M475.1502,-341.8796C475.0814,-333.6838 475.0083,-324.9891 474.937,-316.5013\"/>\n<polygon fill=\"#000000\" stroke=\"#000000\" points=\"478.4352,-316.2683 474.8512,-306.2981 471.4355,-316.3272 478.4352,-316.2683\"/>\n</g>\n<!-- 14 -->\n<g id=\"node15\" class=\"node\">\n<title>14</title>\n<polygon fill=\"#8139e5\" stroke=\"#000000\" points=\"699,-298.5 576,-298.5 576,-230.5 699,-230.5 699,-298.5\"/>\n<text text-anchor=\"middle\" x=\"637.5\" y=\"-283.3\" font-family=\"Helvetica,sans-Serif\" font-size=\"14.00\" fill=\"#000000\">gini = 0.0</text>\n<text text-anchor=\"middle\" x=\"637.5\" y=\"-268.3\" font-family=\"Helvetica,sans-Serif\" font-size=\"14.00\" fill=\"#000000\">samples = 30</text>\n<text text-anchor=\"middle\" x=\"637.5\" y=\"-253.3\" font-family=\"Helvetica,sans-Serif\" font-size=\"14.00\" fill=\"#000000\">value = [0, 0, 30]</text>\n<text text-anchor=\"middle\" x=\"637.5\" y=\"-238.3\" font-family=\"Helvetica,sans-Serif\" font-size=\"14.00\" fill=\"#000000\">class = virginica</text>\n</g>\n<!-- 10&#45;&gt;14 -->\n<g id=\"edge14\" class=\"edge\">\n<title>10&#45;&gt;14</title>\n<path fill=\"none\" stroke=\"#000000\" d=\"M532.1597,-341.8796C548.5541,-329.8368 566.4151,-316.7167 582.6942,-304.7586\"/>\n<polygon fill=\"#000000\" stroke=\"#000000\" points=\"585.0595,-307.3639 591.0468,-298.623 580.9154,-301.7224 585.0595,-307.3639\"/>\n</g>\n<!-- 12 -->\n<g id=\"node13\" class=\"node\">\n<title>12</title>\n<polygon fill=\"#8139e5\" stroke=\"#000000\" points=\"521,-179.5 402,-179.5 402,-111.5 521,-111.5 521,-179.5\"/>\n<text text-anchor=\"middle\" x=\"461.5\" y=\"-164.3\" font-family=\"Helvetica,sans-Serif\" font-size=\"14.00\" fill=\"#000000\">gini = 0.0</text>\n<text text-anchor=\"middle\" x=\"461.5\" y=\"-149.3\" font-family=\"Helvetica,sans-Serif\" font-size=\"14.00\" fill=\"#000000\">samples = 3</text>\n<text text-anchor=\"middle\" x=\"461.5\" y=\"-134.3\" font-family=\"Helvetica,sans-Serif\" font-size=\"14.00\" fill=\"#000000\">value = [0, 0, 3]</text>\n<text text-anchor=\"middle\" x=\"461.5\" y=\"-119.3\" font-family=\"Helvetica,sans-Serif\" font-size=\"14.00\" fill=\"#000000\">class = virginica</text>\n</g>\n<!-- 11&#45;&gt;12 -->\n<g id=\"edge12\" class=\"edge\">\n<title>11&#45;&gt;12</title>\n<path fill=\"none\" stroke=\"#000000\" d=\"M469.9532,-222.8796C468.788,-212.2134 467.5305,-200.7021 466.3506,-189.9015\"/>\n<polygon fill=\"#000000\" stroke=\"#000000\" points=\"469.8141,-189.3757 465.2487,-179.8149 462.8555,-190.1359 469.8141,-189.3757\"/>\n</g>\n<!-- 13 -->\n<g id=\"node14\" class=\"node\">\n<title>13</title>\n<polygon fill=\"#39e581\" stroke=\"#000000\" points=\"667.5,-179.5 539.5,-179.5 539.5,-111.5 667.5,-111.5 667.5,-179.5\"/>\n<text text-anchor=\"middle\" x=\"603.5\" y=\"-164.3\" font-family=\"Helvetica,sans-Serif\" font-size=\"14.00\" fill=\"#000000\">gini = 0.0</text>\n<text text-anchor=\"middle\" x=\"603.5\" y=\"-149.3\" font-family=\"Helvetica,sans-Serif\" font-size=\"14.00\" fill=\"#000000\">samples = 1</text>\n<text text-anchor=\"middle\" x=\"603.5\" y=\"-134.3\" font-family=\"Helvetica,sans-Serif\" font-size=\"14.00\" fill=\"#000000\">value = [0, 1, 0]</text>\n<text text-anchor=\"middle\" x=\"603.5\" y=\"-119.3\" font-family=\"Helvetica,sans-Serif\" font-size=\"14.00\" fill=\"#000000\">class = versicolor</text>\n</g>\n<!-- 11&#45;&gt;13 -->\n<g id=\"edge13\" class=\"edge\">\n<title>11&#45;&gt;13</title>\n<path fill=\"none\" stroke=\"#000000\" d=\"M519.6179,-222.8796C532.2533,-211.2237 545.9826,-198.5587 558.605,-186.9148\"/>\n<polygon fill=\"#000000\" stroke=\"#000000\" points=\"561.3244,-189.168 566.3015,-179.8149 556.578,-184.0228 561.3244,-189.168\"/>\n</g>\n</g>\n</svg>\n",
            "text/plain": [
              "<graphviz.files.Source at 0x7f98c63b3fd0>"
            ]
          },
          "execution_count": 4,
          "metadata": {},
          "output_type": "execute_result"
        }
      ],
      "source": [
        "import graphviz\n",
        "\n",
        "with open('tree.dot') as f:\n",
        "  dot_graph = f.read()\n",
        "graphviz.Source(dot_graph)"
      ]
    },
    {
      "cell_type": "code",
      "execution_count": null,
      "metadata": {
        "colab": {
          "base_uri": "https://localhost:8080/",
          "height": 393
        },
        "id": "KJIZVA8yzUqi",
        "outputId": "cedb3ab5-8999-4493-8d23-595a4f981c00"
      },
      "outputs": [
        {
          "name": "stdout",
          "output_type": "stream",
          "text": [
            "Feature importances:\n",
            "[0.008 0.019 0.586 0.388]\n",
            "sepal length (cm) : 0.008\n",
            "sepal width (cm) : 0.019\n",
            "petal length (cm) : 0.586\n",
            "petal width (cm) : 0.388\n"
          ]
        },
        {
          "data": {
            "text/plain": [
              "<matplotlib.axes._subplots.AxesSubplot at 0x7f98c5313410>"
            ]
          },
          "execution_count": 5,
          "metadata": {},
          "output_type": "execute_result"
        },
        {
          "data": {
            "image/png": "[encoded data removed]",
            "text/plain": [
              "<Figure size 432x288 with 1 Axes>"
            ]
          },
          "metadata": {},
          "output_type": "display_data"
        }
      ],
      "source": [
        "import seaborn as sns\n",
        "import numpy as np\n",
        "%matplotlib inline\n",
        "\n",
        "# feature importance 추출\n",
        "print(\"Feature importances:\\n{0}\".format(np.round(dt_clf.feature_importances_,3)))\n",
        "\n",
        "for name, value in zip(iris_data.feature_names, dt_clf.feature_importances_):\n",
        "  print(\"{0} : {1:.3f}\".format(name, value))\n",
        "\n",
        "# feature importance를 column 별로 시각화하기\n",
        "sns.barplot(x=dt_clf.feature_importances_, y= iris_data.feature_names)"
      ]
    },
    {
      "cell_type": "markdown",
      "metadata": {
        "id": "kxBH3Tzh9hI6"
      },
      "source": [
        "## 결정 트리 과적합"
      ]
    },
    {
      "cell_type": "code",
      "execution_count": null,
      "metadata": {
        "colab": {
          "base_uri": "https://localhost:8080/",
          "height": 299
        },
        "id": "CB8lEz1m9eQj",
        "outputId": "87cee5f8-f20f-4789-e641-e03f9e926ea5"
      },
      "outputs": [
        {
          "data": {
            "text/plain": [
              "<matplotlib.collections.PathCollection at 0x7f98c4d63c10>"
            ]
          },
          "execution_count": 6,
          "metadata": {},
          "output_type": "execute_result"
        },
        {
          "data": {
            "image/png": "[encoded data removed]",
            "text/plain": [
              "<Figure size 432x288 with 1 Axes>"
            ]
          },
          "metadata": {},
          "output_type": "display_data"
        }
      ],
      "source": [
        "from sklearn.datasets import make_classification\n",
        "import matplotlib.pyplot as plt\n",
        "%matplotlib inline\n",
        "\n",
        "plt.title(\"3 Class values with 2 features sample data creation\")\n",
        "X_features, y_labels = make_classification(n_features=2, n_redundant=0, n_informative=2,\n",
        "                                           n_classes=3, n_clusters_per_class=1, random_state = 0)\n",
        "plt.scatter(X_features[:,0],X_features[:,1], marker='o', c = y_labels, edgecolor='k')"
      ]
    },
    {
      "cell_type": "code",
      "execution_count": null,
      "metadata": {
        "id": "QpoMTASL_abL"
      },
      "outputs": [],
      "source": [
        "import numpy as np\n",
        "\n",
        "# Classifier의 Decision Boundary를 시각화 하는 함수\n",
        "def visualize_boundary(model, X, y):\n",
        "    fig,ax = plt.subplots()\n",
        "    \n",
        "    # 학습 데이타 scatter plot으로 나타내기\n",
        "    ax.scatter(X[:, 0], X[:, 1], c=y, s=25, cmap='rainbow', edgecolor='k',\n",
        "               clim=(y.min(), y.max()), zorder=3)\n",
        "    ax.axis('tight')\n",
        "    ax.axis('off')\n",
        "    xlim_start , xlim_end = ax.get_xlim()\n",
        "    ylim_start , ylim_end = ax.get_ylim()\n",
        "    \n",
        "    # 호출 파라미터로 들어온 training 데이타로 model 학습 . \n",
        "    model.fit(X, y)\n",
        "    # meshgrid 형태인 모든 좌표값으로 예측 수행. \n",
        "    xx, yy = np.meshgrid(np.linspace(xlim_start,xlim_end, num=200),np.linspace(ylim_start,ylim_end, num=200))\n",
        "    Z = model.predict(np.c_[xx.ravel(), yy.ravel()]).reshape(xx.shape)\n",
        "    \n",
        "    # contourf() 를 이용하여 class boundary 를 visualization 수행. \n",
        "    n_classes = len(np.unique(y))\n",
        "    contours = ax.contourf(xx, yy, Z, alpha=0.3,\n",
        "                           levels=np.arange(n_classes + 1) - 0.5,\n",
        "                           cmap='rainbow', clim=(y.min(), y.max()),\n",
        "                           zorder=1)"
      ]
    },
    {
      "cell_type": "code",
      "execution_count": null,
      "metadata": {
        "colab": {
          "base_uri": "https://localhost:8080/",
          "height": 248
        },
        "id": "_MyD_tST-lwK",
        "outputId": "0713b071-9ee5-4313-917a-0c3cccb1a8c5"
      },
      "outputs": [
        {
          "data": {
            "image/png": "[encoded data removed]",
            "text/plain": [
              "<Figure size 432x288 with 1 Axes>"
            ]
          },
          "metadata": {},
          "output_type": "display_data"
        }
      ],
      "source": [
        "from sklearn.tree import DecisionTreeClassifier\n",
        "\n",
        "dt_clf = DecisionTreeClassifier().fit(X_features, y_labels)\n",
        "visualize_boundary(dt_clf, X_features, y_labels)"
      ]
    },
    {
      "cell_type": "code",
      "execution_count": null,
      "metadata": {
        "colab": {
          "base_uri": "https://localhost:8080/",
          "height": 248
        },
        "id": "Ejk9stNB_BRj",
        "outputId": "536223af-bde4-40b0-99f5-fe65887251c8"
      },
      "outputs": [
        {
          "data": {
            "image/png": "[encoded data removed]",
            "text/plain": [
              "<Figure size 432x288 with 1 Axes>"
            ]
          },
          "metadata": {},
          "output_type": "display_data"
        }
      ],
      "source": [
        "# min_samples_leaf = 6으로 설정하면서 깊이 제어 \n",
        "dt_clf = DecisionTreeClassifier(min_samples_leaf = 6).fit(X_features, y_labels)\n",
        "visualize_boundary(dt_clf,X_features, y_labels)"
      ]
    },
    {
      "cell_type": "markdown",
      "metadata": {
        "id": "xJSJmRzg_6xj"
      },
      "source": [
        "하이퍼파라미터 튜닝으로 과적합 해결 !!"
      ]
    },
    {
      "cell_type": "markdown",
      "metadata": {
        "id": "hfjOf0AXKL_P"
      },
      "source": [
        "## 결정트리 실습 - 사용자 행동 인식 데이터 세트"
      ]
    },
    {
      "cell_type": "markdown",
      "metadata": {
        "id": "BBwpXz7TSsUb"
      },
      "source": [
        "### 데이터 전처리"
      ]
    },
    {
      "cell_type": "markdown",
      "metadata": {
        "id": "ibsfAkAbJUfI"
      },
      "source": [
        "'features.txt' 파일은 피처 인덱스와 피처명을 가지고 있음 -> 피처의 명칭만 간략히 확인"
      ]
    },
    {
      "cell_type": "code",
      "execution_count": null,
      "metadata": {
        "colab": {
          "base_uri": "https://localhost:8080/",
          "height": 206
        },
        "id": "8GcMlzOuIf-v",
        "outputId": "659fcfbb-8f59-4399-e7d8-111413f91b06"
      },
      "outputs": [
        {
          "data": {
            "text/html": [
              "\n",
              "  <div id=\"df-2d1a26b4-7fcd-4067-8893-5dce748e32c0\">\n",
              "    <div class=\"colab-df-container\">\n",
              "      <div>\n",
              "<style scoped>\n",
              "    .dataframe tbody tr th:only-of-type {\n",
              "        vertical-align: middle;\n",
              "    }\n",
              "\n",
              "    .dataframe tbody tr th {\n",
              "        vertical-align: top;\n",
              "    }\n",
              "\n",
              "    .dataframe thead th {\n",
              "        text-align: right;\n",
              "    }\n",
              "</style>\n",
              "<table border=\"1\" class=\"dataframe\">\n",
              "  <thead>\n",
              "    <tr style=\"text-align: right;\">\n",
              "      <th></th>\n",
              "      <th>column_index</th>\n",
              "      <th>column_name</th>\n",
              "    </tr>\n",
              "  </thead>\n",
              "  <tbody>\n",
              "    <tr>\n",
              "      <th>0</th>\n",
              "      <td>1</td>\n",
              "      <td>tBodyAcc-mean()-X</td>\n",
              "    </tr>\n",
              "    <tr>\n",
              "      <th>1</th>\n",
              "      <td>2</td>\n",
              "      <td>tBodyAcc-mean()-Y</td>\n",
              "    </tr>\n",
              "    <tr>\n",
              "      <th>2</th>\n",
              "      <td>3</td>\n",
              "      <td>tBodyAcc-mean()-Z</td>\n",
              "    </tr>\n",
              "    <tr>\n",
              "      <th>3</th>\n",
              "      <td>4</td>\n",
              "      <td>tBodyAcc-std()-X</td>\n",
              "    </tr>\n",
              "    <tr>\n",
              "      <th>4</th>\n",
              "      <td>5</td>\n",
              "      <td>tBodyAcc-std()-Y</td>\n",
              "    </tr>\n",
              "  </tbody>\n",
              "</table>\n",
              "</div>\n",
              "      <button class=\"colab-df-convert\" onclick=\"convertToInteractive('df-2d1a26b4-7fcd-4067-8893-5dce748e32c0')\"\n",
              "              title=\"Convert this dataframe to an interactive table.\"\n",
              "              style=\"display:none;\">\n",
              "        \n",
              "  <svg xmlns=\"http://www.w3.org/2000/svg\" height=\"24px\"viewBox=\"0 0 24 24\"\n",
              "       width=\"24px\">\n",
              "    <path d=\"M0 0h24v24H0V0z\" fill=\"none\"/>\n",
              "    <path d=\"M18.56 5.44l.94 2.06.94-2.06 2.06-.94-2.06-.94-.94-2.06-.94 2.06-2.06.94zm-11 1L8.5 8.5l.94-2.06 2.06-.94-2.06-.94L8.5 2.5l-.94 2.06-2.06.94zm10 10l.94 2.06.94-2.06 2.06-.94-2.06-.94-.94-2.06-.94 2.06-2.06.94z\"/><path d=\"M17.41 7.96l-1.37-1.37c-.4-.4-.92-.59-1.43-.59-.52 0-1.04.2-1.43.59L10.3 9.45l-7.72 7.72c-.78.78-.78 2.05 0 2.83L4 21.41c.39.39.9.59 1.41.59.51 0 1.02-.2 1.41-.59l7.78-7.78 2.81-2.81c.8-.78.8-2.07 0-2.86zM5.41 20L4 18.59l7.72-7.72 1.47 1.35L5.41 20z\"/>\n",
              "  </svg>\n",
              "      </button>\n",
              "      \n",
              "  <style>\n",
              "    .colab-df-container {\n",
              "      display:flex;\n",
              "      flex-wrap:wrap;\n",
              "      gap: 12px;\n",
              "    }\n",
              "\n",
              "    .colab-df-convert {\n",
              "      background-color: #E8F0FE;\n",
              "      border: none;\n",
              "      border-radius: 50%;\n",
              "      cursor: pointer;\n",
              "      display: none;\n",
              "      fill: #1967D2;\n",
              "      height: 32px;\n",
              "      padding: 0 0 0 0;\n",
              "      width: 32px;\n",
              "    }\n",
              "\n",
              "    .colab-df-convert:hover {\n",
              "      background-color: #E2EBFA;\n",
              "      box-shadow: 0px 1px 2px rgba(60, 64, 67, 0.3), 0px 1px 3px 1px rgba(60, 64, 67, 0.15);\n",
              "      fill: #174EA6;\n",
              "    }\n",
              "\n",
              "    [theme=dark] .colab-df-convert {\n",
              "      background-color: #3B4455;\n",
              "      fill: #D2E3FC;\n",
              "    }\n",
              "\n",
              "    [theme=dark] .colab-df-convert:hover {\n",
              "      background-color: #434B5C;\n",
              "      box-shadow: 0px 1px 3px 1px rgba(0, 0, 0, 0.15);\n",
              "      filter: drop-shadow(0px 1px 2px rgba(0, 0, 0, 0.3));\n",
              "      fill: #FFFFFF;\n",
              "    }\n",
              "  </style>\n",
              "\n",
              "      <script>\n",
              "        const buttonEl =\n",
              "          document.querySelector('#df-2d1a26b4-7fcd-4067-8893-5dce748e32c0 button.colab-df-convert');\n",
              "        buttonEl.style.display =\n",
              "          google.colab.kernel.accessAllowed ? 'block' : 'none';\n",
              "\n",
              "        async function convertToInteractive(key) {\n",
              "          const element = document.querySelector('#df-2d1a26b4-7fcd-4067-8893-5dce748e32c0');\n",
              "          const dataTable =\n",
              "            await google.colab.kernel.invokeFunction('convertToInteractive',\n",
              "                                                     [key], {});\n",
              "          if (!dataTable) return;\n",
              "\n",
              "          const docLinkHtml = 'Like what you see? Visit the ' +\n",
              "            '<a target=\"_blank\" href=https://colab.research.google.com/notebooks/data_table.ipynb>data table notebook</a>'\n",
              "            + ' to learn more about interactive tables.';\n",
              "          element.innerHTML = '';\n",
              "          dataTable['output_type'] = 'display_data';\n",
              "          await google.colab.output.renderOutput(dataTable, element);\n",
              "          const docLink = document.createElement('div');\n",
              "          docLink.innerHTML = docLinkHtml;\n",
              "          element.appendChild(docLink);\n",
              "        }\n",
              "      </script>\n",
              "    </div>\n",
              "  </div>\n",
              "  "
            ],
            "text/plain": [
              "   column_index        column_name\n",
              "0             1  tBodyAcc-mean()-X\n",
              "1             2  tBodyAcc-mean()-Y\n",
              "2             3  tBodyAcc-mean()-Z\n",
              "3             4   tBodyAcc-std()-X\n",
              "4             5   tBodyAcc-std()-Y"
            ]
          },
          "execution_count": 10,
          "metadata": {},
          "output_type": "execute_result"
        }
      ],
      "source": [
        "feature_name_df = pd.read_csv(\"/content/drive/MyDrive/datasets/human_activity/features.txt\", sep='\\s+',\n",
        "                               header=None,names=[\"column_index\",\"column_name\"])\n",
        "feature_name_df.head()"
      ]
    },
    {
      "cell_type": "code",
      "execution_count": null,
      "metadata": {
        "colab": {
          "base_uri": "https://localhost:8080/"
        },
        "id": "-q3rmJWWJBp0",
        "outputId": "5e20c471-1dac-4535-e905-6922b3665e88"
      },
      "outputs": [
        {
          "data": {
            "text/plain": [
              "['tBodyAcc-mean()-X',\n",
              " 'tBodyAcc-mean()-Y',\n",
              " 'tBodyAcc-mean()-Z',\n",
              " 'tBodyAcc-std()-X',\n",
              " 'tBodyAcc-std()-Y',\n",
              " 'tBodyAcc-std()-Z',\n",
              " 'tBodyAcc-mad()-X',\n",
              " 'tBodyAcc-mad()-Y',\n",
              " 'tBodyAcc-mad()-Z',\n",
              " 'tBodyAcc-max()-X']"
            ]
          },
          "execution_count": 11,
          "metadata": {},
          "output_type": "execute_result"
        }
      ],
      "source": [
        "feature_name = feature_name_df.iloc[:,1].values.tolist() # 피처명 index 제거하고 피처명만 리스트 객체로 생성한 뒤 10개만 추출\n",
        "feature_name[:10]"
      ]
    },
    {
      "cell_type": "markdown",
      "metadata": {
        "id": "1wzi-CWIJeeX"
      },
      "source": [
        "중복된 피처명들 처리 -> 원본 피처명에 _1, _2 추가로 부여"
      ]
    },
    {
      "cell_type": "code",
      "execution_count": null,
      "metadata": {
        "colab": {
          "base_uri": "https://localhost:8080/",
          "height": 274
        },
        "id": "XzMMbvyuJlz_",
        "outputId": "4da4f9a3-1f24-4005-df1d-92e27ee9fd74"
      },
      "outputs": [
        {
          "name": "stdout",
          "output_type": "stream",
          "text": [
            "column_index    42\n",
            "dtype: int64\n"
          ]
        },
        {
          "data": {
            "text/html": [
              "\n",
              "  <div id=\"df-e5f2ae8c-0b20-4e7c-b3bb-3a48f6b2acbe\">\n",
              "    <div class=\"colab-df-container\">\n",
              "      <div>\n",
              "<style scoped>\n",
              "    .dataframe tbody tr th:only-of-type {\n",
              "        vertical-align: middle;\n",
              "    }\n",
              "\n",
              "    .dataframe tbody tr th {\n",
              "        vertical-align: top;\n",
              "    }\n",
              "\n",
              "    .dataframe thead th {\n",
              "        text-align: right;\n",
              "    }\n",
              "</style>\n",
              "<table border=\"1\" class=\"dataframe\">\n",
              "  <thead>\n",
              "    <tr style=\"text-align: right;\">\n",
              "      <th></th>\n",
              "      <th>column_index</th>\n",
              "    </tr>\n",
              "    <tr>\n",
              "      <th>column_name</th>\n",
              "      <th></th>\n",
              "    </tr>\n",
              "  </thead>\n",
              "  <tbody>\n",
              "    <tr>\n",
              "      <th>fBodyAcc-bandsEnergy()-1,16</th>\n",
              "      <td>3</td>\n",
              "    </tr>\n",
              "    <tr>\n",
              "      <th>fBodyAcc-bandsEnergy()-1,24</th>\n",
              "      <td>3</td>\n",
              "    </tr>\n",
              "    <tr>\n",
              "      <th>fBodyAcc-bandsEnergy()-1,8</th>\n",
              "      <td>3</td>\n",
              "    </tr>\n",
              "    <tr>\n",
              "      <th>fBodyAcc-bandsEnergy()-17,24</th>\n",
              "      <td>3</td>\n",
              "    </tr>\n",
              "    <tr>\n",
              "      <th>fBodyAcc-bandsEnergy()-17,32</th>\n",
              "      <td>3</td>\n",
              "    </tr>\n",
              "  </tbody>\n",
              "</table>\n",
              "</div>\n",
              "      <button class=\"colab-df-convert\" onclick=\"convertToInteractive('df-e5f2ae8c-0b20-4e7c-b3bb-3a48f6b2acbe')\"\n",
              "              title=\"Convert this dataframe to an interactive table.\"\n",
              "              style=\"display:none;\">\n",
              "        \n",
              "  <svg xmlns=\"http://www.w3.org/2000/svg\" height=\"24px\"viewBox=\"0 0 24 24\"\n",
              "       width=\"24px\">\n",
              "    <path d=\"M0 0h24v24H0V0z\" fill=\"none\"/>\n",
              "    <path d=\"M18.56 5.44l.94 2.06.94-2.06 2.06-.94-2.06-.94-.94-2.06-.94 2.06-2.06.94zm-11 1L8.5 8.5l.94-2.06 2.06-.94-2.06-.94L8.5 2.5l-.94 2.06-2.06.94zm10 10l.94 2.06.94-2.06 2.06-.94-2.06-.94-.94-2.06-.94 2.06-2.06.94z\"/><path d=\"M17.41 7.96l-1.37-1.37c-.4-.4-.92-.59-1.43-.59-.52 0-1.04.2-1.43.59L10.3 9.45l-7.72 7.72c-.78.78-.78 2.05 0 2.83L4 21.41c.39.39.9.59 1.41.59.51 0 1.02-.2 1.41-.59l7.78-7.78 2.81-2.81c.8-.78.8-2.07 0-2.86zM5.41 20L4 18.59l7.72-7.72 1.47 1.35L5.41 20z\"/>\n",
              "  </svg>\n",
              "      </button>\n",
              "      \n",
              "  <style>\n",
              "    .colab-df-container {\n",
              "      display:flex;\n",
              "      flex-wrap:wrap;\n",
              "      gap: 12px;\n",
              "    }\n",
              "\n",
              "    .colab-df-convert {\n",
              "      background-color: #E8F0FE;\n",
              "      border: none;\n",
              "      border-radius: 50%;\n",
              "      cursor: pointer;\n",
              "      display: none;\n",
              "      fill: #1967D2;\n",
              "      height: 32px;\n",
              "      padding: 0 0 0 0;\n",
              "      width: 32px;\n",
              "    }\n",
              "\n",
              "    .colab-df-convert:hover {\n",
              "      background-color: #E2EBFA;\n",
              "      box-shadow: 0px 1px 2px rgba(60, 64, 67, 0.3), 0px 1px 3px 1px rgba(60, 64, 67, 0.15);\n",
              "      fill: #174EA6;\n",
              "    }\n",
              "\n",
              "    [theme=dark] .colab-df-convert {\n",
              "      background-color: #3B4455;\n",
              "      fill: #D2E3FC;\n",
              "    }\n",
              "\n",
              "    [theme=dark] .colab-df-convert:hover {\n",
              "      background-color: #434B5C;\n",
              "      box-shadow: 0px 1px 3px 1px rgba(0, 0, 0, 0.15);\n",
              "      filter: drop-shadow(0px 1px 2px rgba(0, 0, 0, 0.3));\n",
              "      fill: #FFFFFF;\n",
              "    }\n",
              "  </style>\n",
              "\n",
              "      <script>\n",
              "        const buttonEl =\n",
              "          document.querySelector('#df-e5f2ae8c-0b20-4e7c-b3bb-3a48f6b2acbe button.colab-df-convert');\n",
              "        buttonEl.style.display =\n",
              "          google.colab.kernel.accessAllowed ? 'block' : 'none';\n",
              "\n",
              "        async function convertToInteractive(key) {\n",
              "          const element = document.querySelector('#df-e5f2ae8c-0b20-4e7c-b3bb-3a48f6b2acbe');\n",
              "          const dataTable =\n",
              "            await google.colab.kernel.invokeFunction('convertToInteractive',\n",
              "                                                     [key], {});\n",
              "          if (!dataTable) return;\n",
              "\n",
              "          const docLinkHtml = 'Like what you see? Visit the ' +\n",
              "            '<a target=\"_blank\" href=https://colab.research.google.com/notebooks/data_table.ipynb>data table notebook</a>'\n",
              "            + ' to learn more about interactive tables.';\n",
              "          element.innerHTML = '';\n",
              "          dataTable['output_type'] = 'display_data';\n",
              "          await google.colab.output.renderOutput(dataTable, element);\n",
              "          const docLink = document.createElement('div');\n",
              "          docLink.innerHTML = docLinkHtml;\n",
              "          element.appendChild(docLink);\n",
              "        }\n",
              "      </script>\n",
              "    </div>\n",
              "  </div>\n",
              "  "
            ],
            "text/plain": [
              "                              column_index\n",
              "column_name                               \n",
              "fBodyAcc-bandsEnergy()-1,16              3\n",
              "fBodyAcc-bandsEnergy()-1,24              3\n",
              "fBodyAcc-bandsEnergy()-1,8               3\n",
              "fBodyAcc-bandsEnergy()-17,24             3\n",
              "fBodyAcc-bandsEnergy()-17,32             3"
            ]
          },
          "execution_count": 12,
          "metadata": {},
          "output_type": "execute_result"
        }
      ],
      "source": [
        "feature_dup_df = feature_name_df.groupby('column_name').count()\n",
        "print(feature_dup_df[feature_dup_df['column_index']>1].count()) # 중복된 피처명 개수 \n",
        "feature_dup_df[feature_dup_df[\"column_index\"]>1].head() # 중복된 피처"
      ]
    },
    {
      "cell_type": "code",
      "execution_count": null,
      "metadata": {
        "id": "75HBNkTnKEx2"
      },
      "outputs": [],
      "source": [
        "def get_new_feature_name_df(old_feature_name_df):\n",
        "  feature_dup_df = pd.DataFrame(data=old_feature_name_df.groupby('column_name').cumcount(), columns=['dup_cnt']) # 몇번째 중복된 데이터인지 확인\n",
        "  # cumcount : 각 그룹의 각 항목에 0부터 해당 그룹의 길이-1까지 번호 매기기 \n",
        "  feature_dup_df = feature_dup_df.reset_index()\n",
        "  new_feature_name_df = pd.merge(old_feature_name_df.reset_index(), feature_dup_df, how='outer')\n",
        "  new_feature_name_df['column_name'] = new_feature_name_df[['column_name','dup_cnt']].apply(lambda x:x[0]+'_'+str(x[1]) # 뒤에 중복 인덱스 붙여주기\n",
        "                                                                                if x[1]>0 else x[0], axis=1)\n",
        "  new_feature_name_df = new_feature_name_df.drop(['index'], axis = 1)\n",
        "  return new_feature_name_df"
      ]
    },
    {
      "cell_type": "code",
      "execution_count": null,
      "metadata": {
        "id": "bOfUUNpBNKdV"
      },
      "outputs": [],
      "source": [
        "def get_human_dataset():\n",
        "  feature_name_df = pd.read_csv(\"/content/drive/MyDrive/datasets/human_activity/features.txt\", sep='\\s+',\n",
        "                                header=None, names=['column_index','column_name'])\n",
        "  new_feature_name_df = get_new_feature_name_df(feature_name_df) # 중복된 피처명 수정\n",
        "  feature_name = new_feature_name_df.iloc[:,1].values.tolist() # DataFrame에 피처명을 칼럼으로 부여하기 위해 리스트 객체로 다시 변환\n",
        "  X_train = pd.read_csv(\"/content/drive/MyDrive/datasets/human_activity/train/X_train.txt\",sep='\\s+',names=feature_name)\n",
        "  X_test = pd.read_csv(\"/content/drive/MyDrive/datasets/human_activity/test/X_test.txt\",sep='\\s+',names=feature_name)\n",
        "  y_train = pd.read_csv(\"/content/drive/MyDrive/datasets/human_activity/train/y_train.txt\", sep='\\s+',header=None, names=['action'])\n",
        "  y_test = pd.read_csv(\"/content/drive/MyDrive/datasets/human_activity/test/y_test.txt\", sep='\\s+',header=None, names=['action'])\n",
        "\n",
        "  return X_train,X_test,y_train, y_test\n",
        "\n",
        "X_train,X_test, y_train, y_test = get_human_dataset()"
      ]
    },
    {
      "cell_type": "code",
      "execution_count": null,
      "metadata": {
        "colab": {
          "base_uri": "https://localhost:8080/"
        },
        "id": "H7IXnoZzP5gW",
        "outputId": "8d441015-638d-402e-9cf0-d1a44971166e"
      },
      "outputs": [
        {
          "name": "stdout",
          "output_type": "stream",
          "text": [
            "<class 'pandas.core.frame.DataFrame'>\n",
            "RangeIndex: 7352 entries, 0 to 7351\n",
            "Columns: 561 entries, tBodyAcc-mean()-X to angle(Z,gravityMean)\n",
            "dtypes: float64(561)\n",
            "memory usage: 31.5 MB\n"
          ]
        }
      ],
      "source": [
        "X_train.info() # 7351개의 행, 561개의 열"
      ]
    },
    {
      "cell_type": "code",
      "execution_count": null,
      "metadata": {
        "colab": {
          "base_uri": "https://localhost:8080/"
        },
        "id": "8WA8eTCKRuQt",
        "outputId": "3960fb9f-813c-4056-a1b1-2290313bd179"
      },
      "outputs": [
        {
          "data": {
            "text/plain": [
              "6    1407\n",
              "5    1374\n",
              "4    1286\n",
              "1    1226\n",
              "2    1073\n",
              "3     986\n",
              "Name: action, dtype: int64"
            ]
          },
          "execution_count": 16,
          "metadata": {},
          "output_type": "execute_result"
        }
      ],
      "source": [
        "y_train['action'].value_counts() # 고르게 분포"
      ]
    },
    {
      "cell_type": "markdown",
      "metadata": {
        "id": "aFCRyctBSve6"
      },
      "source": [
        "### 파라미터 디폴트로 모델 예측 수행"
      ]
    },
    {
      "cell_type": "code",
      "execution_count": null,
      "metadata": {
        "colab": {
          "base_uri": "https://localhost:8080/"
        },
        "id": "LMv7JrhLR0pB",
        "outputId": "a8da701d-bdff-43ef-e4f4-f2810ffea97d"
      },
      "outputs": [
        {
          "name": "stdout",
          "output_type": "stream",
          "text": [
            "결정 트리 예측 정확도 : 0.8548\n",
            "DecisionTreeClassifier의 기본 하이퍼 파라미터: \n",
            " {'ccp_alpha': 0.0, 'class_weight': None, 'criterion': 'gini', 'max_depth': None, 'max_features': None, 'max_leaf_nodes': None, 'min_impurity_decrease': 0.0, 'min_samples_leaf': 1, 'min_samples_split': 2, 'min_weight_fraction_leaf': 0.0, 'random_state': 156, 'splitter': 'best'}\n"
          ]
        }
      ],
      "source": [
        "from sklearn.tree import DecisionTreeClassifier\n",
        "from sklearn.metrics import accuracy_score\n",
        "\n",
        "dt_clf = DecisionTreeClassifier(random_state=156)\n",
        "dt_clf.fit(X_train,y_train)\n",
        "pred = dt_clf.predict(X_test)\n",
        "accuracy = accuracy_score(y_test, pred)\n",
        "print('결정 트리 예측 정확도 : {0:.4f}'.format(accuracy))\n",
        "\n",
        "print('DecisionTreeClassifier의 기본 하이퍼 파라미터: \\n', dt_clf.get_params())"
      ]
    },
    {
      "cell_type": "markdown",
      "metadata": {
        "id": "jLrDpzGXFgFd"
      },
      "source": [
        "### max_depth 변화줘서 모델 예측 수행 "
      ]
    },
    {
      "cell_type": "code",
      "execution_count": null,
      "metadata": {
        "colab": {
          "base_uri": "https://localhost:8080/"
        },
        "id": "ocFOQy7LJI1l",
        "outputId": "8d72a585-f147-41fb-f96a-f628522b4aa5"
      },
      "outputs": [
        {
          "name": "stdout",
          "output_type": "stream",
          "text": [
            "Fitting 5 folds for each of 7 candidates, totalling 35 fits\n",
            "GridSearchCV 최고 평균 정확도 수치: 0.8513\n",
            "GridSearchCV 최적 하이퍼 파라미터: {'max_depth': 16}\n"
          ]
        }
      ],
      "source": [
        "from sklearn.model_selection import GridSearchCV\n",
        "params = {\n",
        "    'max_depth':[6,8,10,12,16,20,24]\n",
        "}\n",
        "grid_cv = GridSearchCV(dt_clf, param_grid = params, scoring='accuracy',cv=5, verbose=1)\n",
        "grid_cv.fit(X_train, y_train)\n",
        "print('GridSearchCV 최고 평균 정확도 수치: {0:.4f}'.format(grid_cv.best_score_))\n",
        "print(\"GridSearchCV 최적 하이퍼 파라미터:\", grid_cv.best_params_)"
      ]
    },
    {
      "cell_type": "code",
      "execution_count": null,
      "metadata": {
        "colab": {
          "base_uri": "https://localhost:8080/",
          "height": 454
        },
        "id": "NSy7TSxQHJXd",
        "outputId": "ff6cab78-96a3-424f-f0eb-d5935b14f319"
      },
      "outputs": [
        {
          "data": {
            "text/html": [
              "\n",
              "  <div id=\"df-cb1060e3-5a4e-4512-83f6-add68b84ff54\">\n",
              "    <div class=\"colab-df-container\">\n",
              "      <div>\n",
              "<style scoped>\n",
              "    .dataframe tbody tr th:only-of-type {\n",
              "        vertical-align: middle;\n",
              "    }\n",
              "\n",
              "    .dataframe tbody tr th {\n",
              "        vertical-align: top;\n",
              "    }\n",
              "\n",
              "    .dataframe thead th {\n",
              "        text-align: right;\n",
              "    }\n",
              "</style>\n",
              "<table border=\"1\" class=\"dataframe\">\n",
              "  <thead>\n",
              "    <tr style=\"text-align: right;\">\n",
              "      <th></th>\n",
              "      <th>mean_fit_time</th>\n",
              "      <th>std_fit_time</th>\n",
              "      <th>mean_score_time</th>\n",
              "      <th>std_score_time</th>\n",
              "      <th>param_max_depth</th>\n",
              "      <th>params</th>\n",
              "      <th>split0_test_score</th>\n",
              "      <th>split1_test_score</th>\n",
              "      <th>split2_test_score</th>\n",
              "      <th>split3_test_score</th>\n",
              "      <th>split4_test_score</th>\n",
              "      <th>mean_test_score</th>\n",
              "      <th>std_test_score</th>\n",
              "      <th>rank_test_score</th>\n",
              "    </tr>\n",
              "  </thead>\n",
              "  <tbody>\n",
              "    <tr>\n",
              "      <th>0</th>\n",
              "      <td>3.726161</td>\n",
              "      <td>0.374621</td>\n",
              "      <td>0.016272</td>\n",
              "      <td>0.005388</td>\n",
              "      <td>6</td>\n",
              "      <td>{'max_depth': 6}</td>\n",
              "      <td>0.813732</td>\n",
              "      <td>0.872876</td>\n",
              "      <td>0.819728</td>\n",
              "      <td>0.865986</td>\n",
              "      <td>0.881633</td>\n",
              "      <td>0.850791</td>\n",
              "      <td>0.028313</td>\n",
              "      <td>5</td>\n",
              "    </tr>\n",
              "    <tr>\n",
              "      <th>1</th>\n",
              "      <td>2.942172</td>\n",
              "      <td>0.666804</td>\n",
              "      <td>0.007839</td>\n",
              "      <td>0.000156</td>\n",
              "      <td>8</td>\n",
              "      <td>{'max_depth': 8}</td>\n",
              "      <td>0.820530</td>\n",
              "      <td>0.819850</td>\n",
              "      <td>0.855102</td>\n",
              "      <td>0.868707</td>\n",
              "      <td>0.891156</td>\n",
              "      <td>0.851069</td>\n",
              "      <td>0.027719</td>\n",
              "      <td>3</td>\n",
              "    </tr>\n",
              "    <tr>\n",
              "      <th>2</th>\n",
              "      <td>3.067336</td>\n",
              "      <td>0.080981</td>\n",
              "      <td>0.007730</td>\n",
              "      <td>0.000146</td>\n",
              "      <td>10</td>\n",
              "      <td>{'max_depth': 10}</td>\n",
              "      <td>0.799456</td>\n",
              "      <td>0.814412</td>\n",
              "      <td>0.863265</td>\n",
              "      <td>0.891156</td>\n",
              "      <td>0.887755</td>\n",
              "      <td>0.851209</td>\n",
              "      <td>0.037707</td>\n",
              "      <td>2</td>\n",
              "    </tr>\n",
              "    <tr>\n",
              "      <th>3</th>\n",
              "      <td>3.440694</td>\n",
              "      <td>0.161920</td>\n",
              "      <td>0.008404</td>\n",
              "      <td>0.001027</td>\n",
              "      <td>12</td>\n",
              "      <td>{'max_depth': 12}</td>\n",
              "      <td>0.794697</td>\n",
              "      <td>0.813052</td>\n",
              "      <td>0.848980</td>\n",
              "      <td>0.877551</td>\n",
              "      <td>0.886395</td>\n",
              "      <td>0.844135</td>\n",
              "      <td>0.035598</td>\n",
              "      <td>7</td>\n",
              "    </tr>\n",
              "    <tr>\n",
              "      <th>4</th>\n",
              "      <td>3.842816</td>\n",
              "      <td>0.278848</td>\n",
              "      <td>0.007934</td>\n",
              "      <td>0.000112</td>\n",
              "      <td>16</td>\n",
              "      <td>{'max_depth': 16}</td>\n",
              "      <td>0.799456</td>\n",
              "      <td>0.818491</td>\n",
              "      <td>0.853061</td>\n",
              "      <td>0.887755</td>\n",
              "      <td>0.897959</td>\n",
              "      <td>0.851344</td>\n",
              "      <td>0.038140</td>\n",
              "      <td>1</td>\n",
              "    </tr>\n",
              "    <tr>\n",
              "      <th>5</th>\n",
              "      <td>4.119611</td>\n",
              "      <td>0.358836</td>\n",
              "      <td>0.009633</td>\n",
              "      <td>0.002065</td>\n",
              "      <td>20</td>\n",
              "      <td>{'max_depth': 20}</td>\n",
              "      <td>0.802855</td>\n",
              "      <td>0.818491</td>\n",
              "      <td>0.856463</td>\n",
              "      <td>0.877551</td>\n",
              "      <td>0.898639</td>\n",
              "      <td>0.850800</td>\n",
              "      <td>0.035718</td>\n",
              "      <td>4</td>\n",
              "    </tr>\n",
              "    <tr>\n",
              "      <th>6</th>\n",
              "      <td>4.278267</td>\n",
              "      <td>0.628445</td>\n",
              "      <td>0.007736</td>\n",
              "      <td>0.000101</td>\n",
              "      <td>24</td>\n",
              "      <td>{'max_depth': 24}</td>\n",
              "      <td>0.796057</td>\n",
              "      <td>0.818491</td>\n",
              "      <td>0.856463</td>\n",
              "      <td>0.877551</td>\n",
              "      <td>0.898639</td>\n",
              "      <td>0.849440</td>\n",
              "      <td>0.037597</td>\n",
              "      <td>6</td>\n",
              "    </tr>\n",
              "  </tbody>\n",
              "</table>\n",
              "</div>\n",
              "      <button class=\"colab-df-convert\" onclick=\"convertToInteractive('df-cb1060e3-5a4e-4512-83f6-add68b84ff54')\"\n",
              "              title=\"Convert this dataframe to an interactive table.\"\n",
              "              style=\"display:none;\">\n",
              "        \n",
              "  <svg xmlns=\"http://www.w3.org/2000/svg\" height=\"24px\"viewBox=\"0 0 24 24\"\n",
              "       width=\"24px\">\n",
              "    <path d=\"M0 0h24v24H0V0z\" fill=\"none\"/>\n",
              "    <path d=\"M18.56 5.44l.94 2.06.94-2.06 2.06-.94-2.06-.94-.94-2.06-.94 2.06-2.06.94zm-11 1L8.5 8.5l.94-2.06 2.06-.94-2.06-.94L8.5 2.5l-.94 2.06-2.06.94zm10 10l.94 2.06.94-2.06 2.06-.94-2.06-.94-.94-2.06-.94 2.06-2.06.94z\"/><path d=\"M17.41 7.96l-1.37-1.37c-.4-.4-.92-.59-1.43-.59-.52 0-1.04.2-1.43.59L10.3 9.45l-7.72 7.72c-.78.78-.78 2.05 0 2.83L4 21.41c.39.39.9.59 1.41.59.51 0 1.02-.2 1.41-.59l7.78-7.78 2.81-2.81c.8-.78.8-2.07 0-2.86zM5.41 20L4 18.59l7.72-7.72 1.47 1.35L5.41 20z\"/>\n",
              "  </svg>\n",
              "      </button>\n",
              "      \n",
              "  <style>\n",
              "    .colab-df-container {\n",
              "      display:flex;\n",
              "      flex-wrap:wrap;\n",
              "      gap: 12px;\n",
              "    }\n",
              "\n",
              "    .colab-df-convert {\n",
              "      background-color: #E8F0FE;\n",
              "      border: none;\n",
              "      border-radius: 50%;\n",
              "      cursor: pointer;\n",
              "      display: none;\n",
              "      fill: #1967D2;\n",
              "      height: 32px;\n",
              "      padding: 0 0 0 0;\n",
              "      width: 32px;\n",
              "    }\n",
              "\n",
              "    .colab-df-convert:hover {\n",
              "      background-color: #E2EBFA;\n",
              "      box-shadow: 0px 1px 2px rgba(60, 64, 67, 0.3), 0px 1px 3px 1px rgba(60, 64, 67, 0.15);\n",
              "      fill: #174EA6;\n",
              "    }\n",
              "\n",
              "    [theme=dark] .colab-df-convert {\n",
              "      background-color: #3B4455;\n",
              "      fill: #D2E3FC;\n",
              "    }\n",
              "\n",
              "    [theme=dark] .colab-df-convert:hover {\n",
              "      background-color: #434B5C;\n",
              "      box-shadow: 0px 1px 3px 1px rgba(0, 0, 0, 0.15);\n",
              "      filter: drop-shadow(0px 1px 2px rgba(0, 0, 0, 0.3));\n",
              "      fill: #FFFFFF;\n",
              "    }\n",
              "  </style>\n",
              "\n",
              "      <script>\n",
              "        const buttonEl =\n",
              "          document.querySelector('#df-cb1060e3-5a4e-4512-83f6-add68b84ff54 button.colab-df-convert');\n",
              "        buttonEl.style.display =\n",
              "          google.colab.kernel.accessAllowed ? 'block' : 'none';\n",
              "\n",
              "        async function convertToInteractive(key) {\n",
              "          const element = document.querySelector('#df-cb1060e3-5a4e-4512-83f6-add68b84ff54');\n",
              "          const dataTable =\n",
              "            await google.colab.kernel.invokeFunction('convertToInteractive',\n",
              "                                                     [key], {});\n",
              "          if (!dataTable) return;\n",
              "\n",
              "          const docLinkHtml = 'Like what you see? Visit the ' +\n",
              "            '<a target=\"_blank\" href=https://colab.research.google.com/notebooks/data_table.ipynb>data table notebook</a>'\n",
              "            + ' to learn more about interactive tables.';\n",
              "          element.innerHTML = '';\n",
              "          dataTable['output_type'] = 'display_data';\n",
              "          await google.colab.output.renderOutput(dataTable, element);\n",
              "          const docLink = document.createElement('div');\n",
              "          docLink.innerHTML = docLinkHtml;\n",
              "          element.appendChild(docLink);\n",
              "        }\n",
              "      </script>\n",
              "    </div>\n",
              "  </div>\n",
              "  "
            ],
            "text/plain": [
              "   mean_fit_time  std_fit_time  mean_score_time  std_score_time  \\\n",
              "0       3.726161      0.374621         0.016272        0.005388   \n",
              "1       2.942172      0.666804         0.007839        0.000156   \n",
              "2       3.067336      0.080981         0.007730        0.000146   \n",
              "3       3.440694      0.161920         0.008404        0.001027   \n",
              "4       3.842816      0.278848         0.007934        0.000112   \n",
              "5       4.119611      0.358836         0.009633        0.002065   \n",
              "6       4.278267      0.628445         0.007736        0.000101   \n",
              "\n",
              "  param_max_depth             params  split0_test_score  split1_test_score  \\\n",
              "0               6   {'max_depth': 6}           0.813732           0.872876   \n",
              "1               8   {'max_depth': 8}           0.820530           0.819850   \n",
              "2              10  {'max_depth': 10}           0.799456           0.814412   \n",
              "3              12  {'max_depth': 12}           0.794697           0.813052   \n",
              "4              16  {'max_depth': 16}           0.799456           0.818491   \n",
              "5              20  {'max_depth': 20}           0.802855           0.818491   \n",
              "6              24  {'max_depth': 24}           0.796057           0.818491   \n",
              "\n",
              "   split2_test_score  split3_test_score  split4_test_score  mean_test_score  \\\n",
              "0           0.819728           0.865986           0.881633         0.850791   \n",
              "1           0.855102           0.868707           0.891156         0.851069   \n",
              "2           0.863265           0.891156           0.887755         0.851209   \n",
              "3           0.848980           0.877551           0.886395         0.844135   \n",
              "4           0.853061           0.887755           0.897959         0.851344   \n",
              "5           0.856463           0.877551           0.898639         0.850800   \n",
              "6           0.856463           0.877551           0.898639         0.849440   \n",
              "\n",
              "   std_test_score  rank_test_score  \n",
              "0        0.028313                5  \n",
              "1        0.027719                3  \n",
              "2        0.037707                2  \n",
              "3        0.035598                7  \n",
              "4        0.038140                1  \n",
              "5        0.035718                4  \n",
              "6        0.037597                6  "
            ]
          },
          "execution_count": 19,
          "metadata": {},
          "output_type": "execute_result"
        }
      ],
      "source": [
        "cv_results_df = pd.DataFrame(grid_cv.cv_results_)\n",
        "cv_results_df"
      ]
    },
    {
      "cell_type": "code",
      "execution_count": null,
      "metadata": {
        "colab": {
          "base_uri": "https://localhost:8080/",
          "height": 269
        },
        "id": "H0JZeJddHfyN",
        "outputId": "5f0b626f-9161-4bf1-9dc4-c54150d4eea0"
      },
      "outputs": [
        {
          "data": {
            "text/html": [
              "\n",
              "  <div id=\"df-51540447-8a07-4829-8fb1-61f9b2995369\">\n",
              "    <div class=\"colab-df-container\">\n",
              "      <div>\n",
              "<style scoped>\n",
              "    .dataframe tbody tr th:only-of-type {\n",
              "        vertical-align: middle;\n",
              "    }\n",
              "\n",
              "    .dataframe tbody tr th {\n",
              "        vertical-align: top;\n",
              "    }\n",
              "\n",
              "    .dataframe thead th {\n",
              "        text-align: right;\n",
              "    }\n",
              "</style>\n",
              "<table border=\"1\" class=\"dataframe\">\n",
              "  <thead>\n",
              "    <tr style=\"text-align: right;\">\n",
              "      <th></th>\n",
              "      <th>param_max_depth</th>\n",
              "      <th>mean_test_score</th>\n",
              "    </tr>\n",
              "  </thead>\n",
              "  <tbody>\n",
              "    <tr>\n",
              "      <th>0</th>\n",
              "      <td>6</td>\n",
              "      <td>0.850791</td>\n",
              "    </tr>\n",
              "    <tr>\n",
              "      <th>1</th>\n",
              "      <td>8</td>\n",
              "      <td>0.851069</td>\n",
              "    </tr>\n",
              "    <tr>\n",
              "      <th>2</th>\n",
              "      <td>10</td>\n",
              "      <td>0.851209</td>\n",
              "    </tr>\n",
              "    <tr>\n",
              "      <th>3</th>\n",
              "      <td>12</td>\n",
              "      <td>0.844135</td>\n",
              "    </tr>\n",
              "    <tr>\n",
              "      <th>4</th>\n",
              "      <td>16</td>\n",
              "      <td>0.851344</td>\n",
              "    </tr>\n",
              "    <tr>\n",
              "      <th>5</th>\n",
              "      <td>20</td>\n",
              "      <td>0.850800</td>\n",
              "    </tr>\n",
              "    <tr>\n",
              "      <th>6</th>\n",
              "      <td>24</td>\n",
              "      <td>0.849440</td>\n",
              "    </tr>\n",
              "  </tbody>\n",
              "</table>\n",
              "</div>\n",
              "      <button class=\"colab-df-convert\" onclick=\"convertToInteractive('df-51540447-8a07-4829-8fb1-61f9b2995369')\"\n",
              "              title=\"Convert this dataframe to an interactive table.\"\n",
              "              style=\"display:none;\">\n",
              "        \n",
              "  <svg xmlns=\"http://www.w3.org/2000/svg\" height=\"24px\"viewBox=\"0 0 24 24\"\n",
              "       width=\"24px\">\n",
              "    <path d=\"M0 0h24v24H0V0z\" fill=\"none\"/>\n",
              "    <path d=\"M18.56 5.44l.94 2.06.94-2.06 2.06-.94-2.06-.94-.94-2.06-.94 2.06-2.06.94zm-11 1L8.5 8.5l.94-2.06 2.06-.94-2.06-.94L8.5 2.5l-.94 2.06-2.06.94zm10 10l.94 2.06.94-2.06 2.06-.94-2.06-.94-.94-2.06-.94 2.06-2.06.94z\"/><path d=\"M17.41 7.96l-1.37-1.37c-.4-.4-.92-.59-1.43-.59-.52 0-1.04.2-1.43.59L10.3 9.45l-7.72 7.72c-.78.78-.78 2.05 0 2.83L4 21.41c.39.39.9.59 1.41.59.51 0 1.02-.2 1.41-.59l7.78-7.78 2.81-2.81c.8-.78.8-2.07 0-2.86zM5.41 20L4 18.59l7.72-7.72 1.47 1.35L5.41 20z\"/>\n",
              "  </svg>\n",
              "      </button>\n",
              "      \n",
              "  <style>\n",
              "    .colab-df-container {\n",
              "      display:flex;\n",
              "      flex-wrap:wrap;\n",
              "      gap: 12px;\n",
              "    }\n",
              "\n",
              "    .colab-df-convert {\n",
              "      background-color: #E8F0FE;\n",
              "      border: none;\n",
              "      border-radius: 50%;\n",
              "      cursor: pointer;\n",
              "      display: none;\n",
              "      fill: #1967D2;\n",
              "      height: 32px;\n",
              "      padding: 0 0 0 0;\n",
              "      width: 32px;\n",
              "    }\n",
              "\n",
              "    .colab-df-convert:hover {\n",
              "      background-color: #E2EBFA;\n",
              "      box-shadow: 0px 1px 2px rgba(60, 64, 67, 0.3), 0px 1px 3px 1px rgba(60, 64, 67, 0.15);\n",
              "      fill: #174EA6;\n",
              "    }\n",
              "\n",
              "    [theme=dark] .colab-df-convert {\n",
              "      background-color: #3B4455;\n",
              "      fill: #D2E3FC;\n",
              "    }\n",
              "\n",
              "    [theme=dark] .colab-df-convert:hover {\n",
              "      background-color: #434B5C;\n",
              "      box-shadow: 0px 1px 3px 1px rgba(0, 0, 0, 0.15);\n",
              "      filter: drop-shadow(0px 1px 2px rgba(0, 0, 0, 0.3));\n",
              "      fill: #FFFFFF;\n",
              "    }\n",
              "  </style>\n",
              "\n",
              "      <script>\n",
              "        const buttonEl =\n",
              "          document.querySelector('#df-51540447-8a07-4829-8fb1-61f9b2995369 button.colab-df-convert');\n",
              "        buttonEl.style.display =\n",
              "          google.colab.kernel.accessAllowed ? 'block' : 'none';\n",
              "\n",
              "        async function convertToInteractive(key) {\n",
              "          const element = document.querySelector('#df-51540447-8a07-4829-8fb1-61f9b2995369');\n",
              "          const dataTable =\n",
              "            await google.colab.kernel.invokeFunction('convertToInteractive',\n",
              "                                                     [key], {});\n",
              "          if (!dataTable) return;\n",
              "\n",
              "          const docLinkHtml = 'Like what you see? Visit the ' +\n",
              "            '<a target=\"_blank\" href=https://colab.research.google.com/notebooks/data_table.ipynb>data table notebook</a>'\n",
              "            + ' to learn more about interactive tables.';\n",
              "          element.innerHTML = '';\n",
              "          dataTable['output_type'] = 'display_data';\n",
              "          await google.colab.output.renderOutput(dataTable, element);\n",
              "          const docLink = document.createElement('div');\n",
              "          docLink.innerHTML = docLinkHtml;\n",
              "          element.appendChild(docLink);\n",
              "        }\n",
              "      </script>\n",
              "    </div>\n",
              "  </div>\n",
              "  "
            ],
            "text/plain": [
              "  param_max_depth  mean_test_score\n",
              "0               6         0.850791\n",
              "1               8         0.851069\n",
              "2              10         0.851209\n",
              "3              12         0.844135\n",
              "4              16         0.851344\n",
              "5              20         0.850800\n",
              "6              24         0.849440"
            ]
          },
          "execution_count": 20,
          "metadata": {},
          "output_type": "execute_result"
        }
      ],
      "source": [
        "cv_results_df[['param_max_depth','mean_test_score']]"
      ]
    },
    {
      "cell_type": "code",
      "execution_count": null,
      "metadata": {
        "colab": {
          "base_uri": "https://localhost:8080/"
        },
        "id": "CeMQOZFVIAEt",
        "outputId": "d383e21a-4cdb-424e-ec9a-b9c4ffd6e59f"
      },
      "outputs": [
        {
          "name": "stdout",
          "output_type": "stream",
          "text": [
            "max_depth = 6 정확도 : 0.8561\n",
            "max_depth = 8 정확도 : 0.8721\n",
            "max_depth = 10 정확도 : 0.8700\n",
            "max_depth = 12 정확도 : 0.8697\n",
            "max_depth = 16 정확도 : 0.8673\n",
            "max_depth = 20 정확도 : 0.8605\n",
            "max_depth = 24 정확도 : 0.8605\n"
          ]
        }
      ],
      "source": [
        "max_depths = [6,8,10,12,16,20,24]\n",
        "for depth in max_depths:\n",
        "  dt_clf = DecisionTreeClassifier(max_depth = depth, random_state = 49)\n",
        "  dt_clf.fit(X_train, y_train)\n",
        "  pred = dt_clf.predict(X_test)\n",
        "  accuracy = accuracy_score(y_test, pred)\n",
        "  print(\"max_depth = {0} 정확도 : {1:.4f}\".format(depth, accuracy))"
      ]
    },
    {
      "cell_type": "markdown",
      "metadata": {
        "id": "jTVJsFDMH3wE"
      },
      "source": [
        "깊이가 깊어질수록 테스트 데이터 세트의 정확도는 더 떨어짐 => max_depth = 8 이 best! "
      ]
    },
    {
      "cell_type": "markdown",
      "metadata": {
        "id": "jVfdVuECJGQN"
      },
      "source": [
        "### max_depth, min_samples_split에 변화줘서 모델 예측 수행 "
      ]
    },
    {
      "cell_type": "code",
      "execution_count": null,
      "metadata": {
        "colab": {
          "base_uri": "https://localhost:8080/"
        },
        "id": "TVG6REpQH0Ul",
        "outputId": "aa693f04-83c9-4efc-b4c3-166f18a77e9a"
      },
      "outputs": [
        {
          "name": "stdout",
          "output_type": "stream",
          "text": [
            "Fitting 5 folds for each of 8 candidates, totalling 40 fits\n",
            "GridSearchCV 최고 평균 정확도 수치 : 0.8517\n",
            "GridSearchCV 최적 하이퍼 파라미터 : {'max_depth': 8, 'min_samples_split': 16}\n"
          ]
        }
      ],
      "source": [
        "params = {\n",
        "    'max_depth':[8,12,16,20],\n",
        "    'min_samples_split':[16,24]\n",
        "}\n",
        "grid_cv = GridSearchCV(dt_clf, param_grid=params, scoring='accuracy', cv=5, verbose = 1)\n",
        "grid_cv.fit(X_train, y_train)\n",
        "print('GridSearchCV 최고 평균 정확도 수치 : {0:.4f}'.format(grid_cv.best_score_))\n",
        "print('GridSearchCV 최적 하이퍼 파라미터 :',grid_cv.best_params_)"
      ]
    },
    {
      "cell_type": "code",
      "execution_count": null,
      "metadata": {
        "colab": {
          "base_uri": "https://localhost:8080/"
        },
        "id": "M5oBnjjAJNOU",
        "outputId": "bfb90044-1049-4526-bba1-34469555d411"
      },
      "outputs": [
        {
          "name": "stdout",
          "output_type": "stream",
          "text": [
            "결정 트리 예측 정확도:0.8731\n"
          ]
        }
      ],
      "source": [
        "best_dt_clf = grid_cv.best_estimator_\n",
        "pred1 = best_dt_clf.predict(X_test)\n",
        "accuracy = accuracy_score(pred1, y_test)\n",
        "print('결정 트리 예측 정확도:{0:.4f}'.format(accuracy))"
      ]
    },
    {
      "cell_type": "code",
      "execution_count": null,
      "metadata": {
        "colab": {
          "base_uri": "https://localhost:8080/",
          "height": 390
        },
        "id": "xpnhLbFELmX2",
        "outputId": "8dad7b50-acf2-4c78-b6bd-22d69b9c581f"
      },
      "outputs": [
        {
          "data": {
            "image/png": "[encoded data removed]",
            "text/plain": [
              "<Figure size 576x432 with 1 Axes>"
            ]
          },
          "metadata": {},
          "output_type": "display_data"
        }
      ],
      "source": [
        "import seaborn as sns\n",
        "\n",
        "ftr_importances_values = best_dt_clf.feature_importances_\n",
        "ftr_importances = pd.Series(ftr_importances_values, index = X_train.columns)\n",
        "ftr_top20 = ftr_importances.sort_values(ascending=False)[:20]\n",
        "\n",
        "plt.figure(figsize=(8,6))\n",
        "plt.title('Feature Importances Top 20')\n",
        "sns.barplot(x=ftr_top20, y = ftr_top20.index)\n",
        "plt.show()"
      ]
    },
    {
      "cell_type": "markdown",
      "metadata": {
        "id": "H66EOpFqTJbe"
      },
      "source": [
        "# 03. 앙상블 학습"
      ]
    },
    {
      "cell_type": "markdown",
      "metadata": {
        "id": "A-Ktkqz4TUMG"
      },
      "source": [
        "### 앙상블 학습 개요\n",
        "\n",
        ": 여러 개의 분류기의 예측을 결합해 보다 정확한 최종 예측 도출\n",
        "\n",
        "- **보팅** : 서로 다른 알고리즘이 같은 데이터 세트를 학습하고 예측한 결과를 가지고 보팅을 통해 최종 예측 결과 선정\n",
        "- **배깅** : 같은 유형의 알고리즘 기반 분류기가 각각 다르게 샘플링된 데이터 세트를 학습하고 예측한 결과를 가지고 보팅을 통해 최종 예측 결과 선정\n",
        "\n",
        "![image.png](data:image/png;base64,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)\n",
        "\n",
        "- **부스팅** : 앞에서 학습한 분류기가 예측이 틀린 데이터에 대해서 올바르게 예측할 수 있도록 다음 분류기에게는 가중치를 부여하여 학습과 예측 진행\n",
        "- **스태킹** : 다른 모델의 예측 결괏값을 학습 데이터로 만들어 학습하고 결과를 예측하는 방법"
      ]
    },
    {
      "cell_type": "markdown",
      "metadata": {
        "id": "Fk-RALG_TdGO"
      },
      "source": [
        "### 보팅 유형 - 하드보팅(Hard Voting)과 소프트 보팅(Soft Voting)\n",
        "\n",
        "- **하드보팅** : 다수결 원칙\n",
        "- **소프트보팅** : 각 레이블마다 모든 분류기들의 결정 확률을 평균해서 가장 확률이 높은 레이블 값을 최종 보팅 결괏값으로 선정\n",
        "\n",
        "![image.png](data:image/png;base64,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)\n",
        "\n",
        "⭐ 일반적으로 소프트 보팅이 하드 보팅보다 성능 좋음"
      ]
    },
    {
      "cell_type": "markdown",
      "metadata": {
        "id": "29Tk1QskTqEQ"
      },
      "source": [
        "### 보팅 분류기(Voting Classifier)\n",
        "위스콘신 유방암 데이터 세트 분류 실습 <BR>\n",
        "로지스틱 회귀와 KNN을 기반으로 하여 소프트 보팅 방식으로 보팅 분류기 만들기"
      ]
    },
    {
      "cell_type": "code",
      "execution_count": null,
      "metadata": {
        "colab": {
          "base_uri": "https://localhost:8080/",
          "height": 271
        },
        "id": "cwIvhmugTvEd",
        "outputId": "f28ec718-9fa0-49e0-b2c4-00c5c1e0529e"
      },
      "outputs": [
        {
          "data": {
            "text/html": [
              "\n",
              "  <div id=\"df-4fdd7d8a-b127-49c2-bd43-a0b957450a69\">\n",
              "    <div class=\"colab-df-container\">\n",
              "      <div>\n",
              "<style scoped>\n",
              "    .dataframe tbody tr th:only-of-type {\n",
              "        vertical-align: middle;\n",
              "    }\n",
              "\n",
              "    .dataframe tbody tr th {\n",
              "        vertical-align: top;\n",
              "    }\n",
              "\n",
              "    .dataframe thead th {\n",
              "        text-align: right;\n",
              "    }\n",
              "</style>\n",
              "<table border=\"1\" class=\"dataframe\">\n",
              "  <thead>\n",
              "    <tr style=\"text-align: right;\">\n",
              "      <th></th>\n",
              "      <th>mean radius</th>\n",
              "      <th>mean texture</th>\n",
              "      <th>mean perimeter</th>\n",
              "      <th>mean area</th>\n",
              "      <th>mean smoothness</th>\n",
              "      <th>mean compactness</th>\n",
              "      <th>mean concavity</th>\n",
              "      <th>mean concave points</th>\n",
              "      <th>mean symmetry</th>\n",
              "      <th>mean fractal dimension</th>\n",
              "      <th>...</th>\n",
              "      <th>worst radius</th>\n",
              "      <th>worst texture</th>\n",
              "      <th>worst perimeter</th>\n",
              "      <th>worst area</th>\n",
              "      <th>worst smoothness</th>\n",
              "      <th>worst compactness</th>\n",
              "      <th>worst concavity</th>\n",
              "      <th>worst concave points</th>\n",
              "      <th>worst symmetry</th>\n",
              "      <th>worst fractal dimension</th>\n",
              "    </tr>\n",
              "  </thead>\n",
              "  <tbody>\n",
              "    <tr>\n",
              "      <th>0</th>\n",
              "      <td>17.99</td>\n",
              "      <td>10.38</td>\n",
              "      <td>122.8</td>\n",
              "      <td>1001.0</td>\n",
              "      <td>0.11840</td>\n",
              "      <td>0.27760</td>\n",
              "      <td>0.3001</td>\n",
              "      <td>0.14710</td>\n",
              "      <td>0.2419</td>\n",
              "      <td>0.07871</td>\n",
              "      <td>...</td>\n",
              "      <td>25.38</td>\n",
              "      <td>17.33</td>\n",
              "      <td>184.6</td>\n",
              "      <td>2019.0</td>\n",
              "      <td>0.1622</td>\n",
              "      <td>0.6656</td>\n",
              "      <td>0.7119</td>\n",
              "      <td>0.2654</td>\n",
              "      <td>0.4601</td>\n",
              "      <td>0.11890</td>\n",
              "    </tr>\n",
              "    <tr>\n",
              "      <th>1</th>\n",
              "      <td>20.57</td>\n",
              "      <td>17.77</td>\n",
              "      <td>132.9</td>\n",
              "      <td>1326.0</td>\n",
              "      <td>0.08474</td>\n",
              "      <td>0.07864</td>\n",
              "      <td>0.0869</td>\n",
              "      <td>0.07017</td>\n",
              "      <td>0.1812</td>\n",
              "      <td>0.05667</td>\n",
              "      <td>...</td>\n",
              "      <td>24.99</td>\n",
              "      <td>23.41</td>\n",
              "      <td>158.8</td>\n",
              "      <td>1956.0</td>\n",
              "      <td>0.1238</td>\n",
              "      <td>0.1866</td>\n",
              "      <td>0.2416</td>\n",
              "      <td>0.1860</td>\n",
              "      <td>0.2750</td>\n",
              "      <td>0.08902</td>\n",
              "    </tr>\n",
              "    <tr>\n",
              "      <th>2</th>\n",
              "      <td>19.69</td>\n",
              "      <td>21.25</td>\n",
              "      <td>130.0</td>\n",
              "      <td>1203.0</td>\n",
              "      <td>0.10960</td>\n",
              "      <td>0.15990</td>\n",
              "      <td>0.1974</td>\n",
              "      <td>0.12790</td>\n",
              "      <td>0.2069</td>\n",
              "      <td>0.05999</td>\n",
              "      <td>...</td>\n",
              "      <td>23.57</td>\n",
              "      <td>25.53</td>\n",
              "      <td>152.5</td>\n",
              "      <td>1709.0</td>\n",
              "      <td>0.1444</td>\n",
              "      <td>0.4245</td>\n",
              "      <td>0.4504</td>\n",
              "      <td>0.2430</td>\n",
              "      <td>0.3613</td>\n",
              "      <td>0.08758</td>\n",
              "    </tr>\n",
              "  </tbody>\n",
              "</table>\n",
              "<p>3 rows × 30 columns</p>\n",
              "</div>\n",
              "      <button class=\"colab-df-convert\" onclick=\"convertToInteractive('df-4fdd7d8a-b127-49c2-bd43-a0b957450a69')\"\n",
              "              title=\"Convert this dataframe to an interactive table.\"\n",
              "              style=\"display:none;\">\n",
              "        \n",
              "  <svg xmlns=\"http://www.w3.org/2000/svg\" height=\"24px\"viewBox=\"0 0 24 24\"\n",
              "       width=\"24px\">\n",
              "    <path d=\"M0 0h24v24H0V0z\" fill=\"none\"/>\n",
              "    <path d=\"M18.56 5.44l.94 2.06.94-2.06 2.06-.94-2.06-.94-.94-2.06-.94 2.06-2.06.94zm-11 1L8.5 8.5l.94-2.06 2.06-.94-2.06-.94L8.5 2.5l-.94 2.06-2.06.94zm10 10l.94 2.06.94-2.06 2.06-.94-2.06-.94-.94-2.06-.94 2.06-2.06.94z\"/><path d=\"M17.41 7.96l-1.37-1.37c-.4-.4-.92-.59-1.43-.59-.52 0-1.04.2-1.43.59L10.3 9.45l-7.72 7.72c-.78.78-.78 2.05 0 2.83L4 21.41c.39.39.9.59 1.41.59.51 0 1.02-.2 1.41-.59l7.78-7.78 2.81-2.81c.8-.78.8-2.07 0-2.86zM5.41 20L4 18.59l7.72-7.72 1.47 1.35L5.41 20z\"/>\n",
              "  </svg>\n",
              "      </button>\n",
              "      \n",
              "  <style>\n",
              "    .colab-df-container {\n",
              "      display:flex;\n",
              "      flex-wrap:wrap;\n",
              "      gap: 12px;\n",
              "    }\n",
              "\n",
              "    .colab-df-convert {\n",
              "      background-color: #E8F0FE;\n",
              "      border: none;\n",
              "      border-radius: 50%;\n",
              "      cursor: pointer;\n",
              "      display: none;\n",
              "      fill: #1967D2;\n",
              "      height: 32px;\n",
              "      padding: 0 0 0 0;\n",
              "      width: 32px;\n",
              "    }\n",
              "\n",
              "    .colab-df-convert:hover {\n",
              "      background-color: #E2EBFA;\n",
              "      box-shadow: 0px 1px 2px rgba(60, 64, 67, 0.3), 0px 1px 3px 1px rgba(60, 64, 67, 0.15);\n",
              "      fill: #174EA6;\n",
              "    }\n",
              "\n",
              "    [theme=dark] .colab-df-convert {\n",
              "      background-color: #3B4455;\n",
              "      fill: #D2E3FC;\n",
              "    }\n",
              "\n",
              "    [theme=dark] .colab-df-convert:hover {\n",
              "      background-color: #434B5C;\n",
              "      box-shadow: 0px 1px 3px 1px rgba(0, 0, 0, 0.15);\n",
              "      filter: drop-shadow(0px 1px 2px rgba(0, 0, 0, 0.3));\n",
              "      fill: #FFFFFF;\n",
              "    }\n",
              "  </style>\n",
              "\n",
              "      <script>\n",
              "        const buttonEl =\n",
              "          document.querySelector('#df-4fdd7d8a-b127-49c2-bd43-a0b957450a69 button.colab-df-convert');\n",
              "        buttonEl.style.display =\n",
              "          google.colab.kernel.accessAllowed ? 'block' : 'none';\n",
              "\n",
              "        async function convertToInteractive(key) {\n",
              "          const element = document.querySelector('#df-4fdd7d8a-b127-49c2-bd43-a0b957450a69');\n",
              "          const dataTable =\n",
              "            await google.colab.kernel.invokeFunction('convertToInteractive',\n",
              "                                                     [key], {});\n",
              "          if (!dataTable) return;\n",
              "\n",
              "          const docLinkHtml = 'Like what you see? Visit the ' +\n",
              "            '<a target=\"_blank\" href=https://colab.research.google.com/notebooks/data_table.ipynb>data table notebook</a>'\n",
              "            + ' to learn more about interactive tables.';\n",
              "          element.innerHTML = '';\n",
              "          dataTable['output_type'] = 'display_data';\n",
              "          await google.colab.output.renderOutput(dataTable, element);\n",
              "          const docLink = document.createElement('div');\n",
              "          docLink.innerHTML = docLinkHtml;\n",
              "          element.appendChild(docLink);\n",
              "        }\n",
              "      </script>\n",
              "    </div>\n",
              "  </div>\n",
              "  "
            ],
            "text/plain": [
              "   mean radius  mean texture  mean perimeter  mean area  mean smoothness  \\\n",
              "0        17.99         10.38           122.8     1001.0          0.11840   \n",
              "1        20.57         17.77           132.9     1326.0          0.08474   \n",
              "2        19.69         21.25           130.0     1203.0          0.10960   \n",
              "\n",
              "   mean compactness  mean concavity  mean concave points  mean symmetry  \\\n",
              "0           0.27760          0.3001              0.14710         0.2419   \n",
              "1           0.07864          0.0869              0.07017         0.1812   \n",
              "2           0.15990          0.1974              0.12790         0.2069   \n",
              "\n",
              "   mean fractal dimension  ...  worst radius  worst texture  worst perimeter  \\\n",
              "0                 0.07871  ...         25.38          17.33            184.6   \n",
              "1                 0.05667  ...         24.99          23.41            158.8   \n",
              "2                 0.05999  ...         23.57          25.53            152.5   \n",
              "\n",
              "   worst area  worst smoothness  worst compactness  worst concavity  \\\n",
              "0      2019.0            0.1622             0.6656           0.7119   \n",
              "1      1956.0            0.1238             0.1866           0.2416   \n",
              "2      1709.0            0.1444             0.4245           0.4504   \n",
              "\n",
              "   worst concave points  worst symmetry  worst fractal dimension  \n",
              "0                0.2654          0.4601                  0.11890  \n",
              "1                0.1860          0.2750                  0.08902  \n",
              "2                0.2430          0.3613                  0.08758  \n",
              "\n",
              "[3 rows x 30 columns]"
            ]
          },
          "execution_count": 25,
          "metadata": {},
          "output_type": "execute_result"
        }
      ],
      "source": [
        "import pandas as pd\n",
        "\n",
        "from sklearn.ensemble import VotingClassifier\n",
        "from sklearn.linear_model import LogisticRegression\n",
        "from sklearn.neighbors import KNeighborsClassifier\n",
        "from sklearn.datasets import load_breast_cancer\n",
        "from sklearn.model_selection import train_test_split\n",
        "from sklearn.metrics import accuracy_score\n",
        "\n",
        "cancer = load_breast_cancer()\n",
        "\n",
        "data_df = pd.DataFrame(cancer.data, columns = cancer.feature_names)\n",
        "data_df.head(3)"
      ]
    },
    {
      "cell_type": "code",
      "execution_count": null,
      "metadata": {
        "colab": {
          "base_uri": "https://localhost:8080/"
        },
        "id": "O_iEMh9zUlhG",
        "outputId": "b720d5b0-698d-45ae-b866-73af392b0a2d"
      },
      "outputs": [
        {
          "name": "stdout",
          "output_type": "stream",
          "text": [
            "Voting 분류기 정확도 : 0.9298\n",
            "LogisticRegression 정확도 : 0.9123\n",
            "KNeighborsClassifier 정확도 : 0.9474\n"
          ]
        }
      ],
      "source": [
        "lr_clf = LogisticRegression()\n",
        "knn_clf = KNeighborsClassifier(n_neighbors = 8)\n",
        "\n",
        "vo_clf = VotingClassifier(estimators = [('LR', lr_clf),('KNN',knn_clf)], voting='soft')\n",
        "\n",
        "X_train, X_test, y_train, y_test = train_test_split(cancer.data, cancer.target, test_size = 0.2, random_state = 49)\n",
        "\n",
        "# VotingClassfier 학습/예측/평가\n",
        "vo_clf.fit(X_train, y_train)\n",
        "pred = vo_clf.predict(X_test)\n",
        "print(\"Voting 분류기 정확도 : {0:.4f}\".format(accuracy_score(y_test, pred)))\n",
        "\n",
        "# 개별 모델의 학습/예측/평가\n",
        "classifiers = [lr_clf, knn_clf]\n",
        "for classifier in classifiers:\n",
        "  classifier.fit(X_train, y_train)\n",
        "  pred = classifier.predict(X_test)\n",
        "  class_name = classifier.__class__.__name__\n",
        "  print(\"{0} 정확도 : {1:.4f}\".format(class_name, accuracy_score(y_test, pred)))"
      ]
    },
    {
      "cell_type": "markdown",
      "metadata": {
        "id": "-7-x4OwSwFDF"
      },
      "source": [
        "PROBLEM : 결정트리 알고리즘은 쉽고 직관적이지만 예외 상황에 집착하여 과적합이 발생하기 쉽다 <BR>\n",
        "SOLUTION : 많은 결정트리 분류기를 결합하여 다양한 상황을 학습하게 함으로써 단점을 보완하고 장점을 취함 "
      ]
    },
    {
      "cell_type": "markdown",
      "metadata": {
        "id": "vA_75vIhwZpW"
      },
      "source": [
        "# 04. 랜덤 포레스트"
      ]
    },
    {
      "cell_type": "markdown",
      "metadata": {
        "id": "u1uzPHCQ9BJF"
      },
      "source": [
        "### 랜덤 포레스트의 개요 및 실습\n",
        "\n",
        "- 배깅의 한 종류\n",
        "- 기반 알고리즘 : 결정트리 ⇒ 쉽고 직관적\n",
        "- 여러 개의 결정 트리 분류기가 각자의 데이터를 샘플링해 개별적으로 학습 수행 → 최종적으로 모든 분류기가 보팅을 통해 예측 결정\n",
        "- 부트스트래핑 분할 방식 : 전체 데이터에서 여러 개의 데이터 세트를 중첩되게 분리 (전체 데이터 건수 = 서브세트의 데이터 건수 )\n",
        "![image.png](data:image/png;base64,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)"
      ]
    },
    {
      "cell_type": "markdown",
      "metadata": {
        "id": "GPEJKLCj-gZe"
      },
      "source": [
        "랜덤 포레스트 사용하여 사용자 행동 인식 데이터 세트 분류 실습"
      ]
    },
    {
      "cell_type": "code",
      "execution_count": null,
      "metadata": {
        "colab": {
          "base_uri": "https://localhost:8080/"
        },
        "id": "eAzXQ5Ds-t4y",
        "outputId": "848574e7-7534-4f00-ce40-0c4cc43733d1"
      },
      "outputs": [
        {
          "name": "stdout",
          "output_type": "stream",
          "text": [
            "랜덤 포레스트 정확도 : 0.9253\n"
          ]
        }
      ],
      "source": [
        "from sklearn.ensemble import RandomForestClassifier\n",
        "from sklearn.metrics import accuracy_score\n",
        "import pandas as pd\n",
        "import warnings\n",
        "warnings.filterwarnings('ignore')\n",
        "\n",
        "X_train, X_test, y_train, y_test = get_human_dataset()\n",
        "\n",
        "rf_clf = RandomForestClassifier(random_state = 0)\n",
        "rf_clf.fit(X_train, y_train)\n",
        "pred = rf_clf.predict(X_test)\n",
        "accuracy = accuracy_score(y_test, pred)\n",
        "print(\"랜덤 포레스트 정확도 : {0:.4f}\".format(accuracy))"
      ]
    },
    {
      "cell_type": "markdown",
      "metadata": {
        "id": "cXEel7LjQ4kD"
      },
      "source": [
        "### 랜덤 포레스트 하이퍼 파라미터 및 튜닝\n",
        "랜덤 포레스트 사용하여 하이퍼 파라미터 튜닝하며 사용자 행동 인식 데이터 세트 분류 실습\n"
      ]
    },
    {
      "cell_type": "code",
      "execution_count": null,
      "metadata": {
        "colab": {
          "base_uri": "https://localhost:8080/"
        },
        "id": "dDL87dSDQ87a",
        "outputId": "74a5d40e-2703-47c4-aa3d-b8705fb1f930"
      },
      "outputs": [
        {
          "name": "stdout",
          "output_type": "stream",
          "text": [
            "최적 하이퍼 파라미터 :\n",
            " {'max_depth': 10, 'min_samples_leaf': 8, 'min_samples_split': 8, 'n_estimators': 100}\n",
            "최고 예측 정확도 : 0.9180\n"
          ]
        }
      ],
      "source": [
        "from sklearn.model_selection import GridSearchCV\n",
        "params ={\n",
        "    'n_estimators':[100], # 결정트리 개수 \n",
        "    'max_depth':[6,8,10,12],\n",
        "    'min_samples_leaf':[8,12,18],\n",
        "    'min_samples_split':[8,16,20]\n",
        "}\n",
        "rf_clf = RandomForestClassifier(random_state =0, n_jobs = -1) # 모든 CPU 코어 이용해 학습\n",
        "grid_cv = GridSearchCV(rf_clf, param_grid = params, cv = 2, n_jobs = -1)\n",
        "grid_cv.fit(X_train, y_train)\n",
        "\n",
        "print(\"최적 하이퍼 파라미터 :\\n\", grid_cv.best_params_)\n",
        "print(\"최고 예측 정확도 : {0:.4f}\".format(grid_cv.best_score_))"
      ]
    },
    {
      "cell_type": "code",
      "execution_count": null,
      "metadata": {
        "colab": {
          "base_uri": "https://localhost:8080/"
        },
        "id": "Wotdf4lfetWp",
        "outputId": "3127f088-40f8-4b48-ea9b-25ec3b841971"
      },
      "outputs": [
        {
          "name": "stdout",
          "output_type": "stream",
          "text": [
            "예측 정확도 : 0.9209\n"
          ]
        }
      ],
      "source": [
        "rf_clf1 = RandomForestClassifier(n_estimators=300, max_depth=10, min_samples_leaf=6, min_samples_split=8, random_state = 0)\n",
        "rf_clf1.fit(X_train, y_train)\n",
        "pred = rf_clf1.predict(X_test)\n",
        "print(\"예측 정확도 : {0:.4f}\".format(accuracy_score(y_test, pred)))"
      ]
    },
    {
      "cell_type": "code",
      "execution_count": null,
      "metadata": {
        "colab": {
          "base_uri": "https://localhost:8080/",
          "height": 390
        },
        "id": "u_Qa04q_Pr_S",
        "outputId": "5c8201e3-5e79-45db-87ac-a10c2de140ad"
      },
      "outputs": [
        {
          "data": {
            "image/png": "[encoded data removed]",
            "text/plain": [
              "<Figure size 576x432 with 1 Axes>"
            ]
          },
          "metadata": {},
          "output_type": "display_data"
        }
      ],
      "source": [
        "import matplotlib.pyplot as plt\n",
        "import seaborn as sns\n",
        "%matplotlib inline\n",
        "\n",
        "ftr_importances_values = rf_clf1.feature_importances_\n",
        "ftr_importances = pd.Series(ftr_importances_values, index = X_train.columns)\n",
        "ftr_top20 = ftr_importances.sort_values(ascending=False)[:20]\n",
        "\n",
        "plt.figure(figsize = (8,6))\n",
        "plt.title(\"Feature importances Top 20\")\n",
        "sns.barplot(x=ftr_top20, y = ftr_top20.index)\n",
        "plt.show()"
      ]
    },
    {
      "cell_type": "markdown",
      "metadata": {
        "id": "kuj0Br7oWSVC"
      },
      "source": [
        "# GBM(Gradient Boosting Machine)"
      ]
    },
    {
      "cell_type": "markdown",
      "metadata": {
        "id": "mYKseJZMWYen"
      },
      "source": [
        "## GBM의 개요 및 실습\n",
        "- 부스팅의 한 종류 \n",
        "- **부스팅** : 여러 개의 약한 학습기를 순차적으로 학습-예측하면서 잘못 예측한 데이터에 가중치 부여를 통해 오류를 개선해 나가면서 학습 \n",
        "- 가중치 업데이트를 **경사 하강법**을 이용함 "
      ]
    },
    {
      "cell_type": "markdown",
      "metadata": {
        "id": "fU1WD9OYYRAn"
      },
      "source": [
        "![image.png](data:image/png;base64,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)"
      ]
    },
    {
      "cell_type": "code",
      "execution_count": null,
      "metadata": {
        "colab": {
          "base_uri": "https://localhost:8080/"
        },
        "id": "oWPFdpD4xcrP",
        "outputId": "1c53dd00-c826-47e5-a832-f7fd59484afc"
      },
      "outputs": [
        {
          "name": "stdout",
          "output_type": "stream",
          "text": [
            "GBM 정확도 : 0.9386\n",
            "GBM 수행 시간 : 816.1647\n"
          ]
        }
      ],
      "source": [
        "from sklearn.ensemble import GradientBoostingClassifier\n",
        "import time\n",
        "from sklearn.metrics import accuracy_score\n",
        "import warnings\n",
        "warnings.filterwarnings('ignore')\n",
        "\n",
        "X_train, X_test, y_train, y_test = get_human_dataset()\n",
        "\n",
        "start_time = time.time()\n",
        "\n",
        "gb_clf = GradientBoostingClassifier(random_state = 0)\n",
        "gb_clf.fit(X_train, y_train)\n",
        "gb_pred = gb_clf.predict(X_test)\n",
        "gb_accuracy = accuracy_score(y_test, gb_pred)\n",
        "\n",
        "print('GBM 정확도 : {0:.4f}'.format(gb_accuracy))\n",
        "print('GBM 수행 시간 : {0:.4f}'.format(time.time()-start_time))"
      ]
    },
    {
      "cell_type": "markdown",
      "metadata": {
        "id": "YeAU3_5u5wn7"
      },
      "source": [
        "## GBM 하이퍼 파라미터 및 튜닝\n",
        "- loss : 비용함수 (default:deviance)\n",
        "- learning_rate : 학습률 \n",
        "- n_estimators : weak learner의 개수 \n",
        "- subsample : 샘플링 비율"
      ]
    },
    {
      "cell_type": "code",
      "execution_count": null,
      "metadata": {
        "colab": {
          "background_save": true,
          "base_uri": "https://localhost:8080/"
        },
        "id": "9eHmRMn8XEMq",
        "outputId": "e9b35c8d-7672-4503-b642-056e9ea7d013"
      },
      "outputs": [
        {
          "name": "stdout",
          "output_type": "stream",
          "text": [
            "Fitting 2 folds for each of 4 candidates, totalling 8 fits\n",
            "최적 하이퍼 파라미터: {'learning_rate': 0.05, 'n_estimators': 500}\n",
            "최고 예측 정확도 :  0.9001632208922742\n"
          ]
        }
      ],
      "source": [
        "from sklearn.model_selection import GridSearchCV\n",
        "\n",
        "params = {\n",
        "    'n_estimators':[100,500],\n",
        "    'learning_rate':[0.05, 0.1]\n",
        "}\n",
        "grid_cv = GridSearchCV(gb_clf, param_grid = params, cv = 2, verbose = 1)\n",
        "grid_cv.fit(X_train, y_train)\n",
        "print(\"최적 하이퍼 파라미터:\", grid_cv.best_params_)\n",
        "print(\"최고 예측 정확도 : \",grid_cv.best_score_)"
      ]
    },
    {
      "cell_type": "markdown",
      "source": [
        "# XGBoost"
      ],
      "metadata": {
        "id": "3-lvsE3F3hZC"
      }
    },
    {
      "cell_type": "markdown",
      "source": [
        "## XGBoost 개요\n",
        "- **뛰어난 예측 성능** : 분류 & 회귀\n",
        "- **GBM 대비 빠른 수행 시간** : 병렬 CPU 환경에서 병렬 학습 가능해 GBM보다 빠름\n",
        "- **과적합 규제**\n",
        "- **Tree pruning(나무 가지치기)** : 더 이상 긍정 이득이 없는 분할을 가지치기 해서 분할 수를 더 줄일 수 있음\n",
        "- **자체 내장된 교차 검증** : 교차 검증 수행해 최적화된 반복 수행 횟수 가질 수 있음, 조기 중단 기능\n",
        "- **결손값 자체 처리** "
      ],
      "metadata": {
        "id": "5WDPXI7H3lB-"
      }
    },
    {
      "cell_type": "markdown",
      "source": [
        "- **파이썬 래퍼 XGBoost 모듈** : 초기의 독자적인 XGBoost 프레임워크 기반<br>사이킷런 고유의 아키텍처(fit, predict,...) 적용 X<br>다양한 유틸리티(cross_val_score, GridSearchCV,...) 사용 X\n",
        "- **사이킷런 래퍼 XGBoost 모듈** : 사이킷런과 연동되는 모듈<br>사이킷런 고유의 아키텍처(fit, predict,...) 적용 O<br>다양한 유틸리티(cross_val_score, GridSearchCV,...) 사용 O"
      ],
      "metadata": {
        "id": "_b7nLLpxRvL8"
      }
    },
    {
      "cell_type": "markdown",
      "source": [
        "## 파이썬 래퍼 XGBoost 하이퍼 파라미터 \n"
      ],
      "metadata": {
        "id": "niAS5CCh3lSM"
      }
    },
    {
      "cell_type": "markdown",
      "source": [
        "**주요 일반 파라미터** : 디폴트 잘 안 바꿈\n",
        "- booster\n",
        "- slient\n",
        "- nthread : 디폴트는 CPU 전체 스레드 사용\n",
        "\n",
        "**주요 부스터 파라미터** : 트리 최적화, 부스팅, regularization 등\n",
        "- eta : GBM의 학습률 같은 파라미터, 0.01~0.2\n",
        "- num_boost_rountds : GBM의 n_estimators\n",
        "- min_child_weight : 트리에서 추가적으로 가지를 나눌지 결정하기 위해 필요한 데이터의 weight 총합, 클수록 과적합 감소\n",
        "- gamma : 트리의 리프 노드를 추가적으로 나눌지를 결정하는 최소 손실 감소 값, 클수록 과적합 감소 \n",
        "- max_depth : 3~10\n",
        "- sub_sample : GBM의 subsample, 트리가 커져서 과적합되는 것을 제어하기 위해 데이터를 샘플링하는 비율\n",
        "- colsample_bytree : GBM의 max_features, 개별 트리를 학습할 때마다 무작위로 선택하는 피처의 비율\n",
        "- lambda : l2 정규화 적용 값, 클수록 과적합 감소\n",
        "- alpha : ㅣ1 정규화 적용 값, 클수록 과적합 감소\n",
        "- scale_pos_weight : 균형 유지 파라미터 \n",
        "\n",
        "**학습 태스크 파라미터** \n",
        "- objective : 최솟값을 가져야 할 손실 함수 정의 \n",
        "  - 이진분류 : binary:logistic\n",
        "  - 다중분류 : multi:softmax, multi:softprob\n",
        "- eval_metric : 검증에 사용되는 함수\n",
        "  - 회귀 : rmse\n",
        "  - 분류 : error"
      ],
      "metadata": {
        "id": "0NLLZIeLSSio"
      }
    },
    {
      "cell_type": "markdown",
      "source": [
        "**과적합 규제 방법**\n",
        "- eta 값 🔻 & num_round 🔺\n",
        "- max_depth 🔻\n",
        "- min_child_weight 🔺\n",
        "- gamma 🔺\n",
        "- sub_sample, colsample_bytree 조정 "
      ],
      "metadata": {
        "id": "fps4uC7fVMJr"
      }
    },
    {
      "cell_type": "markdown",
      "source": [
        "## 파이썬 래퍼 XGBoost 적용 - 위스콘신 유방암 예측"
      ],
      "metadata": {
        "id": "-2TzjPcG3m_q"
      }
    },
    {
      "cell_type": "code",
      "source": [
        "import xgboost as xgb\n",
        "from xgboost import plot_importance\n",
        "import pandas as pd\n",
        "import numpy as np\n",
        "from sklearn.datasets import load_breast_cancer\n",
        "from sklearn.model_selection import train_test_split\n",
        "import warnings\n",
        "warnings.filterwarnings('ignore')\n",
        "\n",
        "dataset = load_breast_cancer()\n",
        "X_features = dataset.data\n",
        "y_label = dataset.target\n",
        "\n",
        "cancer_df = pd.DataFrame(data = X_features, columns = dataset.feature_names)\n",
        "cancer_df['target'] = y_label\n",
        "cancer_df.head(3)"
      ],
      "metadata": {
        "colab": {
          "base_uri": "https://localhost:8080/",
          "height": 252
        },
        "id": "7IWNKIuHXTj7",
        "outputId": "d5f7f875-7f80-4dd0-b4b0-5380474cc6f4"
      },
      "execution_count": null,
      "outputs": [
        {
          "output_type": "execute_result",
          "data": {
            "text/plain": [
              "   mean radius  mean texture  mean perimeter  mean area  mean smoothness  \\\n",
              "0        17.99         10.38           122.8     1001.0          0.11840   \n",
              "1        20.57         17.77           132.9     1326.0          0.08474   \n",
              "2        19.69         21.25           130.0     1203.0          0.10960   \n",
              "\n",
              "   mean compactness  mean concavity  mean concave points  mean symmetry  \\\n",
              "0           0.27760          0.3001              0.14710         0.2419   \n",
              "1           0.07864          0.0869              0.07017         0.1812   \n",
              "2           0.15990          0.1974              0.12790         0.2069   \n",
              "\n",
              "   mean fractal dimension  ...  worst texture  worst perimeter  worst area  \\\n",
              "0                 0.07871  ...          17.33            184.6      2019.0   \n",
              "1                 0.05667  ...          23.41            158.8      1956.0   \n",
              "2                 0.05999  ...          25.53            152.5      1709.0   \n",
              "\n",
              "   worst smoothness  worst compactness  worst concavity  worst concave points  \\\n",
              "0            0.1622             0.6656           0.7119                0.2654   \n",
              "1            0.1238             0.1866           0.2416                0.1860   \n",
              "2            0.1444             0.4245           0.4504                0.2430   \n",
              "\n",
              "   worst symmetry  worst fractal dimension  target  \n",
              "0          0.4601                  0.11890       0  \n",
              "1          0.2750                  0.08902       0  \n",
              "2          0.3613                  0.08758       0  \n",
              "\n",
              "[3 rows x 31 columns]"
            ],
            "text/html": [
              "\n",
              "  <div id=\"df-51410486-4104-450a-8168-422b3b26e56f\">\n",
              "    <div class=\"colab-df-container\">\n",
              "      <div>\n",
              "<style scoped>\n",
              "    .dataframe tbody tr th:only-of-type {\n",
              "        vertical-align: middle;\n",
              "    }\n",
              "\n",
              "    .dataframe tbody tr th {\n",
              "        vertical-align: top;\n",
              "    }\n",
              "\n",
              "    .dataframe thead th {\n",
              "        text-align: right;\n",
              "    }\n",
              "</style>\n",
              "<table border=\"1\" class=\"dataframe\">\n",
              "  <thead>\n",
              "    <tr style=\"text-align: right;\">\n",
              "      <th></th>\n",
              "      <th>mean radius</th>\n",
              "      <th>mean texture</th>\n",
              "      <th>mean perimeter</th>\n",
              "      <th>mean area</th>\n",
              "      <th>mean smoothness</th>\n",
              "      <th>mean compactness</th>\n",
              "      <th>mean concavity</th>\n",
              "      <th>mean concave points</th>\n",
              "      <th>mean symmetry</th>\n",
              "      <th>mean fractal dimension</th>\n",
              "      <th>...</th>\n",
              "      <th>worst texture</th>\n",
              "      <th>worst perimeter</th>\n",
              "      <th>worst area</th>\n",
              "      <th>worst smoothness</th>\n",
              "      <th>worst compactness</th>\n",
              "      <th>worst concavity</th>\n",
              "      <th>worst concave points</th>\n",
              "      <th>worst symmetry</th>\n",
              "      <th>worst fractal dimension</th>\n",
              "      <th>target</th>\n",
              "    </tr>\n",
              "  </thead>\n",
              "  <tbody>\n",
              "    <tr>\n",
              "      <th>0</th>\n",
              "      <td>17.99</td>\n",
              "      <td>10.38</td>\n",
              "      <td>122.8</td>\n",
              "      <td>1001.0</td>\n",
              "      <td>0.11840</td>\n",
              "      <td>0.27760</td>\n",
              "      <td>0.3001</td>\n",
              "      <td>0.14710</td>\n",
              "      <td>0.2419</td>\n",
              "      <td>0.07871</td>\n",
              "      <td>...</td>\n",
              "      <td>17.33</td>\n",
              "      <td>184.6</td>\n",
              "      <td>2019.0</td>\n",
              "      <td>0.1622</td>\n",
              "      <td>0.6656</td>\n",
              "      <td>0.7119</td>\n",
              "      <td>0.2654</td>\n",
              "      <td>0.4601</td>\n",
              "      <td>0.11890</td>\n",
              "      <td>0</td>\n",
              "    </tr>\n",
              "    <tr>\n",
              "      <th>1</th>\n",
              "      <td>20.57</td>\n",
              "      <td>17.77</td>\n",
              "      <td>132.9</td>\n",
              "      <td>1326.0</td>\n",
              "      <td>0.08474</td>\n",
              "      <td>0.07864</td>\n",
              "      <td>0.0869</td>\n",
              "      <td>0.07017</td>\n",
              "      <td>0.1812</td>\n",
              "      <td>0.05667</td>\n",
              "      <td>...</td>\n",
              "      <td>23.41</td>\n",
              "      <td>158.8</td>\n",
              "      <td>1956.0</td>\n",
              "      <td>0.1238</td>\n",
              "      <td>0.1866</td>\n",
              "      <td>0.2416</td>\n",
              "      <td>0.1860</td>\n",
              "      <td>0.2750</td>\n",
              "      <td>0.08902</td>\n",
              "      <td>0</td>\n",
              "    </tr>\n",
              "    <tr>\n",
              "      <th>2</th>\n",
              "      <td>19.69</td>\n",
              "      <td>21.25</td>\n",
              "      <td>130.0</td>\n",
              "      <td>1203.0</td>\n",
              "      <td>0.10960</td>\n",
              "      <td>0.15990</td>\n",
              "      <td>0.1974</td>\n",
              "      <td>0.12790</td>\n",
              "      <td>0.2069</td>\n",
              "      <td>0.05999</td>\n",
              "      <td>...</td>\n",
              "      <td>25.53</td>\n",
              "      <td>152.5</td>\n",
              "      <td>1709.0</td>\n",
              "      <td>0.1444</td>\n",
              "      <td>0.4245</td>\n",
              "      <td>0.4504</td>\n",
              "      <td>0.2430</td>\n",
              "      <td>0.3613</td>\n",
              "      <td>0.08758</td>\n",
              "      <td>0</td>\n",
              "    </tr>\n",
              "  </tbody>\n",
              "</table>\n",
              "<p>3 rows × 31 columns</p>\n",
              "</div>\n",
              "      <button class=\"colab-df-convert\" onclick=\"convertToInteractive('df-51410486-4104-450a-8168-422b3b26e56f')\"\n",
              "              title=\"Convert this dataframe to an interactive table.\"\n",
              "              style=\"display:none;\">\n",
              "        \n",
              "  <svg xmlns=\"http://www.w3.org/2000/svg\" height=\"24px\"viewBox=\"0 0 24 24\"\n",
              "       width=\"24px\">\n",
              "    <path d=\"M0 0h24v24H0V0z\" fill=\"none\"/>\n",
              "    <path d=\"M18.56 5.44l.94 2.06.94-2.06 2.06-.94-2.06-.94-.94-2.06-.94 2.06-2.06.94zm-11 1L8.5 8.5l.94-2.06 2.06-.94-2.06-.94L8.5 2.5l-.94 2.06-2.06.94zm10 10l.94 2.06.94-2.06 2.06-.94-2.06-.94-.94-2.06-.94 2.06-2.06.94z\"/><path d=\"M17.41 7.96l-1.37-1.37c-.4-.4-.92-.59-1.43-.59-.52 0-1.04.2-1.43.59L10.3 9.45l-7.72 7.72c-.78.78-.78 2.05 0 2.83L4 21.41c.39.39.9.59 1.41.59.51 0 1.02-.2 1.41-.59l7.78-7.78 2.81-2.81c.8-.78.8-2.07 0-2.86zM5.41 20L4 18.59l7.72-7.72 1.47 1.35L5.41 20z\"/>\n",
              "  </svg>\n",
              "      </button>\n",
              "      \n",
              "  <style>\n",
              "    .colab-df-container {\n",
              "      display:flex;\n",
              "      flex-wrap:wrap;\n",
              "      gap: 12px;\n",
              "    }\n",
              "\n",
              "    .colab-df-convert {\n",
              "      background-color: #E8F0FE;\n",
              "      border: none;\n",
              "      border-radius: 50%;\n",
              "      cursor: pointer;\n",
              "      display: none;\n",
              "      fill: #1967D2;\n",
              "      height: 32px;\n",
              "      padding: 0 0 0 0;\n",
              "      width: 32px;\n",
              "    }\n",
              "\n",
              "    .colab-df-convert:hover {\n",
              "      background-color: #E2EBFA;\n",
              "      box-shadow: 0px 1px 2px rgba(60, 64, 67, 0.3), 0px 1px 3px 1px rgba(60, 64, 67, 0.15);\n",
              "      fill: #174EA6;\n",
              "    }\n",
              "\n",
              "    [theme=dark] .colab-df-convert {\n",
              "      background-color: #3B4455;\n",
              "      fill: #D2E3FC;\n",
              "    }\n",
              "\n",
              "    [theme=dark] .colab-df-convert:hover {\n",
              "      background-color: #434B5C;\n",
              "      box-shadow: 0px 1px 3px 1px rgba(0, 0, 0, 0.15);\n",
              "      filter: drop-shadow(0px 1px 2px rgba(0, 0, 0, 0.3));\n",
              "      fill: #FFFFFF;\n",
              "    }\n",
              "  </style>\n",
              "\n",
              "      <script>\n",
              "        const buttonEl =\n",
              "          document.querySelector('#df-51410486-4104-450a-8168-422b3b26e56f button.colab-df-convert');\n",
              "        buttonEl.style.display =\n",
              "          google.colab.kernel.accessAllowed ? 'block' : 'none';\n",
              "\n",
              "        async function convertToInteractive(key) {\n",
              "          const element = document.querySelector('#df-51410486-4104-450a-8168-422b3b26e56f');\n",
              "          const dataTable =\n",
              "            await google.colab.kernel.invokeFunction('convertToInteractive',\n",
              "                                                     [key], {});\n",
              "          if (!dataTable) return;\n",
              "\n",
              "          const docLinkHtml = 'Like what you see? Visit the ' +\n",
              "            '<a target=\"_blank\" href=https://colab.research.google.com/notebooks/data_table.ipynb>data table notebook</a>'\n",
              "            + ' to learn more about interactive tables.';\n",
              "          element.innerHTML = '';\n",
              "          dataTable['output_type'] = 'display_data';\n",
              "          await google.colab.output.renderOutput(dataTable, element);\n",
              "          const docLink = document.createElement('div');\n",
              "          docLink.innerHTML = docLinkHtml;\n",
              "          element.appendChild(docLink);\n",
              "        }\n",
              "      </script>\n",
              "    </div>\n",
              "  </div>\n",
              "  "
            ]
          },
          "metadata": {},
          "execution_count": 1
        }
      ]
    },
    {
      "cell_type": "code",
      "source": [
        "cancer_df.info()"
      ],
      "metadata": {
        "colab": {
          "base_uri": "https://localhost:8080/"
        },
        "id": "7NyZfOZSYglo",
        "outputId": "d993f52f-6bff-4b37-b0ce-d543fcd58dd7"
      },
      "execution_count": null,
      "outputs": [
        {
          "output_type": "stream",
          "name": "stdout",
          "text": [
            "<class 'pandas.core.frame.DataFrame'>\n",
            "RangeIndex: 569 entries, 0 to 568\n",
            "Data columns (total 31 columns):\n",
            " #   Column                   Non-Null Count  Dtype  \n",
            "---  ------                   --------------  -----  \n",
            " 0   mean radius              569 non-null    float64\n",
            " 1   mean texture             569 non-null    float64\n",
            " 2   mean perimeter           569 non-null    float64\n",
            " 3   mean area                569 non-null    float64\n",
            " 4   mean smoothness          569 non-null    float64\n",
            " 5   mean compactness         569 non-null    float64\n",
            " 6   mean concavity           569 non-null    float64\n",
            " 7   mean concave points      569 non-null    float64\n",
            " 8   mean symmetry            569 non-null    float64\n",
            " 9   mean fractal dimension   569 non-null    float64\n",
            " 10  radius error             569 non-null    float64\n",
            " 11  texture error            569 non-null    float64\n",
            " 12  perimeter error          569 non-null    float64\n",
            " 13  area error               569 non-null    float64\n",
            " 14  smoothness error         569 non-null    float64\n",
            " 15  compactness error        569 non-null    float64\n",
            " 16  concavity error          569 non-null    float64\n",
            " 17  concave points error     569 non-null    float64\n",
            " 18  symmetry error           569 non-null    float64\n",
            " 19  fractal dimension error  569 non-null    float64\n",
            " 20  worst radius             569 non-null    float64\n",
            " 21  worst texture            569 non-null    float64\n",
            " 22  worst perimeter          569 non-null    float64\n",
            " 23  worst area               569 non-null    float64\n",
            " 24  worst smoothness         569 non-null    float64\n",
            " 25  worst compactness        569 non-null    float64\n",
            " 26  worst concavity          569 non-null    float64\n",
            " 27  worst concave points     569 non-null    float64\n",
            " 28  worst symmetry           569 non-null    float64\n",
            " 29  worst fractal dimension  569 non-null    float64\n",
            " 30  target                   569 non-null    int64  \n",
            "dtypes: float64(30), int64(1)\n",
            "memory usage: 137.9 KB\n"
          ]
        }
      ]
    },
    {
      "cell_type": "code",
      "source": [
        "# 레이블 데이터 분포 확인\n",
        "print(dataset.target_names)\n",
        "print(cancer_df['target'].value_counts())"
      ],
      "metadata": {
        "colab": {
          "base_uri": "https://localhost:8080/"
        },
        "id": "gI52q-oRYvSF",
        "outputId": "88b871a7-41b5-46f8-9bcb-0ec59121a8a4"
      },
      "execution_count": null,
      "outputs": [
        {
          "output_type": "stream",
          "name": "stdout",
          "text": [
            "['malignant' 'benign']\n",
            "1    357\n",
            "0    212\n",
            "Name: target, dtype: int64\n"
          ]
        }
      ]
    },
    {
      "cell_type": "code",
      "source": [
        "X_train, X_test, y_train, y_test = train_test_split(X_features, y_label, test_size = 0.2, random_state = 49)\n",
        "print(X_train.shape, X_test.shape)"
      ],
      "metadata": {
        "colab": {
          "base_uri": "https://localhost:8080/"
        },
        "id": "4flY_JBZaJAd",
        "outputId": "13ae4b9c-a254-4954-9324-534c4baedd8d"
      },
      "execution_count": null,
      "outputs": [
        {
          "output_type": "stream",
          "name": "stdout",
          "text": [
            "(455, 30) (114, 30)\n"
          ]
        }
      ]
    },
    {
      "cell_type": "code",
      "source": [
        "# 넘파이 형태의 학습 데이터 세트와 테스트 데이터 세트를 DMatrix로 변환\n",
        "# DMatrix : 넘파이 입력 파라미터를 받아서 만들어지는 XGBoost만의 전용 데이터 세트 \n",
        "dtrain = xgb.DMatrix(data = X_train, label = y_train)\n",
        "dtest = xgb.DMatrix(data = X_test, label = y_test)"
      ],
      "metadata": {
        "id": "WqesMpyKaWup"
      },
      "execution_count": null,
      "outputs": []
    },
    {
      "cell_type": "code",
      "source": [
        "params = {\n",
        "    'max_depth':3, # 최대 깊이\n",
        "    'eta':0.1, # 학습률\n",
        "    'objective':'binary:logistic', # 이진분류 손실함수\n",
        "    'eval_metric':'logloss'\n",
        "}\n",
        "num_rounds = 400 # 400번 반복"
      ],
      "metadata": {
        "id": "wxzxA5WyRwGY"
      },
      "execution_count": null,
      "outputs": []
    },
    {
      "cell_type": "code",
      "source": [
        "wlist = [(dtrain, 'train'),(dtest,'eval')]\n",
        "xgb_model = xgb.train(params = params, dtrain = dtrain, num_boost_round = num_rounds,\n",
        "                      early_stopping_rounds = 100, evals = wlist) # early_stopping_rounds는 조기중단 기능 (100번동안 지표 개선 없을 시 중단)"
      ],
      "metadata": {
        "colab": {
          "base_uri": "https://localhost:8080/"
        },
        "id": "9UuiGkldSm1J",
        "outputId": "de9613a5-4b7f-4bcb-edbf-1fbbb394e1c9"
      },
      "execution_count": null,
      "outputs": [
        {
          "output_type": "stream",
          "name": "stdout",
          "text": [
            "[0]\ttrain-logloss:0.610335\teval-logloss:0.611847\n",
            "Multiple eval metrics have been passed: 'eval-logloss' will be used for early stopping.\n",
            "\n",
            "Will train until eval-logloss hasn't improved in 100 rounds.\n",
            "[1]\ttrain-logloss:0.54205\teval-logloss:0.547229\n",
            "[2]\ttrain-logloss:0.483494\teval-logloss:0.491863\n",
            "[3]\ttrain-logloss:0.434888\teval-logloss:0.446011\n",
            "[4]\ttrain-logloss:0.39314\teval-logloss:0.409033\n",
            "[5]\ttrain-logloss:0.354074\teval-logloss:0.374398\n",
            "[6]\ttrain-logloss:0.320224\teval-logloss:0.343558\n",
            "[7]\ttrain-logloss:0.290489\teval-logloss:0.319792\n",
            "[8]\ttrain-logloss:0.265495\teval-logloss:0.296412\n",
            "[9]\ttrain-logloss:0.242369\teval-logloss:0.276955\n",
            "[10]\ttrain-logloss:0.221907\teval-logloss:0.261379\n",
            "[11]\ttrain-logloss:0.204533\teval-logloss:0.242992\n",
            "[12]\ttrain-logloss:0.188287\teval-logloss:0.231627\n",
            "[13]\ttrain-logloss:0.17428\teval-logloss:0.217158\n",
            "[14]\ttrain-logloss:0.1619\teval-logloss:0.203148\n",
            "[15]\ttrain-logloss:0.150062\teval-logloss:0.192854\n",
            "[16]\ttrain-logloss:0.139487\teval-logloss:0.184148\n",
            "[17]\ttrain-logloss:0.129678\teval-logloss:0.178609\n",
            "[18]\ttrain-logloss:0.120262\teval-logloss:0.171142\n",
            "[19]\ttrain-logloss:0.111785\teval-logloss:0.166165\n",
            "[20]\ttrain-logloss:0.105161\teval-logloss:0.158002\n",
            "[21]\ttrain-logloss:0.098509\teval-logloss:0.15375\n",
            "[22]\ttrain-logloss:0.092284\teval-logloss:0.149113\n",
            "[23]\ttrain-logloss:0.086579\teval-logloss:0.146354\n",
            "[24]\ttrain-logloss:0.082153\teval-logloss:0.142633\n",
            "[25]\ttrain-logloss:0.077348\teval-logloss:0.1369\n",
            "[26]\ttrain-logloss:0.072758\teval-logloss:0.134792\n",
            "[27]\ttrain-logloss:0.068835\teval-logloss:0.133142\n",
            "[28]\ttrain-logloss:0.065309\teval-logloss:0.13167\n",
            "[29]\ttrain-logloss:0.061416\teval-logloss:0.129829\n",
            "[30]\ttrain-logloss:0.058404\teval-logloss:0.129676\n",
            "[31]\ttrain-logloss:0.055644\teval-logloss:0.126556\n",
            "[32]\ttrain-logloss:0.053078\teval-logloss:0.126018\n",
            "[33]\ttrain-logloss:0.051015\teval-logloss:0.124891\n",
            "[34]\ttrain-logloss:0.048303\teval-logloss:0.123722\n",
            "[35]\ttrain-logloss:0.046264\teval-logloss:0.120928\n",
            "[36]\ttrain-logloss:0.044376\teval-logloss:0.121189\n",
            "[37]\ttrain-logloss:0.042614\teval-logloss:0.119113\n",
            "[38]\ttrain-logloss:0.040944\teval-logloss:0.119365\n",
            "[39]\ttrain-logloss:0.039119\teval-logloss:0.119088\n",
            "[40]\ttrain-logloss:0.037686\teval-logloss:0.116684\n",
            "[41]\ttrain-logloss:0.036341\teval-logloss:0.11732\n",
            "[42]\ttrain-logloss:0.034882\teval-logloss:0.115252\n",
            "[43]\ttrain-logloss:0.033627\teval-logloss:0.112518\n",
            "[44]\ttrain-logloss:0.032352\teval-logloss:0.11165\n",
            "[45]\ttrain-logloss:0.031467\teval-logloss:0.111872\n",
            "[46]\ttrain-logloss:0.030251\teval-logloss:0.111579\n",
            "[47]\ttrain-logloss:0.02917\teval-logloss:0.109928\n",
            "[48]\ttrain-logloss:0.028121\teval-logloss:0.109847\n",
            "[49]\ttrain-logloss:0.027193\teval-logloss:0.109447\n",
            "[50]\ttrain-logloss:0.026213\teval-logloss:0.106754\n",
            "[51]\ttrain-logloss:0.025451\teval-logloss:0.106742\n",
            "[52]\ttrain-logloss:0.024688\teval-logloss:0.106473\n",
            "[53]\ttrain-logloss:0.023958\teval-logloss:0.106626\n",
            "[54]\ttrain-logloss:0.023337\teval-logloss:0.106452\n",
            "[55]\ttrain-logloss:0.022782\teval-logloss:0.105451\n",
            "[56]\ttrain-logloss:0.022037\teval-logloss:0.106211\n",
            "[57]\ttrain-logloss:0.021458\teval-logloss:0.10513\n",
            "[58]\ttrain-logloss:0.020913\teval-logloss:0.10524\n",
            "[59]\ttrain-logloss:0.02042\teval-logloss:0.104286\n",
            "[60]\ttrain-logloss:0.019855\teval-logloss:0.104768\n",
            "[61]\ttrain-logloss:0.019386\teval-logloss:0.103349\n",
            "[62]\ttrain-logloss:0.018881\teval-logloss:0.103213\n",
            "[63]\ttrain-logloss:0.018499\teval-logloss:0.102643\n",
            "[64]\ttrain-logloss:0.018035\teval-logloss:0.103831\n",
            "[65]\ttrain-logloss:0.017692\teval-logloss:0.103467\n",
            "[66]\ttrain-logloss:0.017309\teval-logloss:0.104158\n",
            "[67]\ttrain-logloss:0.017022\teval-logloss:0.10308\n",
            "[68]\ttrain-logloss:0.016604\teval-logloss:0.103322\n",
            "[69]\ttrain-logloss:0.016255\teval-logloss:0.103756\n",
            "[70]\ttrain-logloss:0.015998\teval-logloss:0.10344\n",
            "[71]\ttrain-logloss:0.015644\teval-logloss:0.103787\n",
            "[72]\ttrain-logloss:0.015307\teval-logloss:0.104133\n",
            "[73]\ttrain-logloss:0.015047\teval-logloss:0.104187\n",
            "[74]\ttrain-logloss:0.014766\teval-logloss:0.103554\n",
            "[75]\ttrain-logloss:0.014491\teval-logloss:0.103343\n",
            "[76]\ttrain-logloss:0.014183\teval-logloss:0.104005\n",
            "[77]\ttrain-logloss:0.013979\teval-logloss:0.103723\n",
            "[78]\ttrain-logloss:0.013695\teval-logloss:0.103707\n",
            "[79]\ttrain-logloss:0.013493\teval-logloss:0.103769\n",
            "[80]\ttrain-logloss:0.013316\teval-logloss:0.103193\n",
            "[81]\ttrain-logloss:0.013182\teval-logloss:0.102745\n",
            "[82]\ttrain-logloss:0.012964\teval-logloss:0.103007\n",
            "[83]\ttrain-logloss:0.012752\teval-logloss:0.102448\n",
            "[84]\ttrain-logloss:0.012598\teval-logloss:0.101927\n",
            "[85]\ttrain-logloss:0.012438\teval-logloss:0.101694\n",
            "[86]\ttrain-logloss:0.012198\teval-logloss:0.100844\n",
            "[87]\ttrain-logloss:0.012034\teval-logloss:0.100958\n",
            "[88]\ttrain-logloss:0.011857\teval-logloss:0.101142\n",
            "[89]\ttrain-logloss:0.011717\teval-logloss:0.101095\n",
            "[90]\ttrain-logloss:0.011612\teval-logloss:0.10013\n",
            "[91]\ttrain-logloss:0.011438\teval-logloss:0.099651\n",
            "[92]\ttrain-logloss:0.011283\teval-logloss:0.09984\n",
            "[93]\ttrain-logloss:0.011116\teval-logloss:0.100679\n",
            "[94]\ttrain-logloss:0.010962\teval-logloss:0.10026\n",
            "[95]\ttrain-logloss:0.010832\teval-logloss:0.100056\n",
            "[96]\ttrain-logloss:0.010713\teval-logloss:0.100039\n",
            "[97]\ttrain-logloss:0.010576\teval-logloss:0.099874\n",
            "[98]\ttrain-logloss:0.010436\teval-logloss:0.099847\n",
            "[99]\ttrain-logloss:0.010363\teval-logloss:0.100085\n",
            "[100]\ttrain-logloss:0.010253\teval-logloss:0.099532\n",
            "[101]\ttrain-logloss:0.010146\teval-logloss:0.099528\n",
            "[102]\ttrain-logloss:0.010068\teval-logloss:0.099334\n",
            "[103]\ttrain-logloss:0.009996\teval-logloss:0.098939\n",
            "[104]\ttrain-logloss:0.009871\teval-logloss:0.099402\n",
            "[105]\ttrain-logloss:0.009806\teval-logloss:0.099636\n",
            "[106]\ttrain-logloss:0.009738\teval-logloss:0.099478\n",
            "[107]\ttrain-logloss:0.009624\teval-logloss:0.100232\n",
            "[108]\ttrain-logloss:0.009526\teval-logloss:0.100217\n",
            "[109]\ttrain-logloss:0.009422\teval-logloss:0.100023\n",
            "[110]\ttrain-logloss:0.009381\teval-logloss:0.099674\n",
            "[111]\ttrain-logloss:0.009323\teval-logloss:0.09975\n",
            "[112]\ttrain-logloss:0.009283\teval-logloss:0.099869\n",
            "[113]\ttrain-logloss:0.009244\teval-logloss:0.100139\n",
            "[114]\ttrain-logloss:0.009152\teval-logloss:0.099627\n",
            "[115]\ttrain-logloss:0.00908\teval-logloss:0.099312\n",
            "[116]\ttrain-logloss:0.009041\teval-logloss:0.099438\n",
            "[117]\ttrain-logloss:0.008976\teval-logloss:0.098656\n",
            "[118]\ttrain-logloss:0.008873\teval-logloss:0.098273\n",
            "[119]\ttrain-logloss:0.008779\teval-logloss:0.098988\n",
            "[120]\ttrain-logloss:0.008745\teval-logloss:0.099233\n",
            "[121]\ttrain-logloss:0.00871\teval-logloss:0.099353\n",
            "[122]\ttrain-logloss:0.008628\teval-logloss:0.098874\n",
            "[123]\ttrain-logloss:0.008566\teval-logloss:0.098115\n",
            "[124]\ttrain-logloss:0.008483\teval-logloss:0.098122\n",
            "[125]\ttrain-logloss:0.008451\teval-logloss:0.098242\n",
            "[126]\ttrain-logloss:0.008418\teval-logloss:0.098096\n",
            "[127]\ttrain-logloss:0.008387\teval-logloss:0.098337\n",
            "[128]\ttrain-logloss:0.008312\teval-logloss:0.09803\n",
            "[129]\ttrain-logloss:0.008234\teval-logloss:0.098367\n",
            "[130]\ttrain-logloss:0.008155\teval-logloss:0.098129\n",
            "[131]\ttrain-logloss:0.008126\teval-logloss:0.098259\n",
            "[132]\ttrain-logloss:0.008075\teval-logloss:0.097654\n",
            "[133]\ttrain-logloss:0.008004\teval-logloss:0.097677\n",
            "[134]\ttrain-logloss:0.007975\teval-logloss:0.097388\n",
            "[135]\ttrain-logloss:0.007948\teval-logloss:0.097615\n",
            "[136]\ttrain-logloss:0.007921\teval-logloss:0.097743\n",
            "[137]\ttrain-logloss:0.007874\teval-logloss:0.097164\n",
            "[138]\ttrain-logloss:0.007808\teval-logloss:0.097197\n",
            "[139]\ttrain-logloss:0.007782\teval-logloss:0.097239\n",
            "[140]\ttrain-logloss:0.007756\teval-logloss:0.096971\n",
            "[141]\ttrain-logloss:0.007712\teval-logloss:0.097003\n",
            "[142]\ttrain-logloss:0.007686\teval-logloss:0.097137\n",
            "[143]\ttrain-logloss:0.007646\teval-logloss:0.0972\n",
            "[144]\ttrain-logloss:0.007582\teval-logloss:0.096815\n",
            "[145]\ttrain-logloss:0.007557\teval-logloss:0.096446\n",
            "[146]\ttrain-logloss:0.007533\teval-logloss:0.096483\n",
            "[147]\ttrain-logloss:0.007509\teval-logloss:0.096616\n",
            "[148]\ttrain-logloss:0.007485\teval-logloss:0.096256\n",
            "[149]\ttrain-logloss:0.007461\teval-logloss:0.096465\n",
            "[150]\ttrain-logloss:0.007438\teval-logloss:0.096057\n",
            "[151]\ttrain-logloss:0.007415\teval-logloss:0.095814\n",
            "[152]\ttrain-logloss:0.007392\teval-logloss:0.095854\n",
            "[153]\ttrain-logloss:0.007369\teval-logloss:0.095504\n",
            "[154]\ttrain-logloss:0.007347\teval-logloss:0.095637\n",
            "[155]\ttrain-logloss:0.007324\teval-logloss:0.095846\n",
            "[156]\ttrain-logloss:0.007302\teval-logloss:0.095499\n",
            "[157]\ttrain-logloss:0.007279\teval-logloss:0.095702\n",
            "[158]\ttrain-logloss:0.007258\teval-logloss:0.095838\n",
            "[159]\ttrain-logloss:0.007236\teval-logloss:0.095734\n",
            "[160]\ttrain-logloss:0.007213\teval-logloss:0.09568\n",
            "[161]\ttrain-logloss:0.007192\teval-logloss:0.095292\n",
            "[162]\ttrain-logloss:0.007171\teval-logloss:0.095491\n",
            "[163]\ttrain-logloss:0.00715\teval-logloss:0.09526\n",
            "[164]\ttrain-logloss:0.007129\teval-logloss:0.094925\n",
            "[165]\ttrain-logloss:0.007108\teval-logloss:0.095064\n",
            "[166]\ttrain-logloss:0.007087\teval-logloss:0.095236\n",
            "[167]\ttrain-logloss:0.007066\teval-logloss:0.094898\n",
            "[168]\ttrain-logloss:0.007046\teval-logloss:0.095095\n",
            "[169]\ttrain-logloss:0.007026\teval-logloss:0.09523\n",
            "[170]\ttrain-logloss:0.007006\teval-logloss:0.095182\n",
            "[171]\ttrain-logloss:0.006986\teval-logloss:0.095086\n",
            "[172]\ttrain-logloss:0.006966\teval-logloss:0.095246\n",
            "[173]\ttrain-logloss:0.006946\teval-logloss:0.095435\n",
            "[174]\ttrain-logloss:0.006926\teval-logloss:0.095103\n",
            "[175]\ttrain-logloss:0.006906\teval-logloss:0.095246\n",
            "[176]\ttrain-logloss:0.006887\teval-logloss:0.095202\n",
            "[177]\ttrain-logloss:0.006868\teval-logloss:0.094889\n",
            "[178]\ttrain-logloss:0.006849\teval-logloss:0.095078\n",
            "[179]\ttrain-logloss:0.00683\teval-logloss:0.094711\n",
            "[180]\ttrain-logloss:0.006811\teval-logloss:0.094852\n",
            "[181]\ttrain-logloss:0.006793\teval-logloss:0.095053\n",
            "[182]\ttrain-logloss:0.006775\teval-logloss:0.094971\n",
            "[183]\ttrain-logloss:0.006757\teval-logloss:0.095129\n",
            "[184]\ttrain-logloss:0.006739\teval-logloss:0.095272\n",
            "[185]\ttrain-logloss:0.00672\teval-logloss:0.094959\n",
            "[186]\ttrain-logloss:0.006702\teval-logloss:0.094914\n",
            "[187]\ttrain-logloss:0.006685\teval-logloss:0.09507\n",
            "[188]\ttrain-logloss:0.006667\teval-logloss:0.094872\n",
            "[189]\ttrain-logloss:0.006649\teval-logloss:0.095053\n",
            "[190]\ttrain-logloss:0.006632\teval-logloss:0.094699\n",
            "[191]\ttrain-logloss:0.006615\teval-logloss:0.094877\n",
            "[192]\ttrain-logloss:0.006598\teval-logloss:0.094882\n",
            "[193]\ttrain-logloss:0.006581\teval-logloss:0.094815\n",
            "[194]\ttrain-logloss:0.006564\teval-logloss:0.094957\n",
            "[195]\ttrain-logloss:0.006547\teval-logloss:0.095154\n",
            "[196]\ttrain-logloss:0.006531\teval-logloss:0.095109\n",
            "[197]\ttrain-logloss:0.006515\teval-logloss:0.09492\n",
            "[198]\ttrain-logloss:0.006498\teval-logloss:0.094582\n",
            "[199]\ttrain-logloss:0.006482\teval-logloss:0.094759\n",
            "[200]\ttrain-logloss:0.006466\teval-logloss:0.094685\n",
            "[201]\ttrain-logloss:0.00645\teval-logloss:0.094828\n",
            "[202]\ttrain-logloss:0.006434\teval-logloss:0.094787\n",
            "[203]\ttrain-logloss:0.006418\teval-logloss:0.094797\n",
            "[204]\ttrain-logloss:0.006402\teval-logloss:0.094971\n",
            "[205]\ttrain-logloss:0.006386\teval-logloss:0.09491\n",
            "[206]\ttrain-logloss:0.006371\teval-logloss:0.0951\n",
            "[207]\ttrain-logloss:0.006355\teval-logloss:0.09511\n",
            "[208]\ttrain-logloss:0.00634\teval-logloss:0.09528\n",
            "[209]\ttrain-logloss:0.006325\teval-logloss:0.095424\n",
            "[210]\ttrain-logloss:0.00631\teval-logloss:0.09537\n",
            "[211]\ttrain-logloss:0.006295\teval-logloss:0.095326\n",
            "[212]\ttrain-logloss:0.006281\teval-logloss:0.095338\n",
            "[213]\ttrain-logloss:0.006266\teval-logloss:0.095507\n",
            "[214]\ttrain-logloss:0.006251\teval-logloss:0.095326\n",
            "[215]\ttrain-logloss:0.006237\teval-logloss:0.095511\n",
            "[216]\ttrain-logloss:0.006222\teval-logloss:0.095525\n",
            "[217]\ttrain-logloss:0.006208\teval-logloss:0.095667\n",
            "[218]\ttrain-logloss:0.006194\teval-logloss:0.09581\n",
            "[219]\ttrain-logloss:0.006179\teval-logloss:0.095753\n",
            "[220]\ttrain-logloss:0.006165\teval-logloss:0.09571\n",
            "[221]\ttrain-logloss:0.006152\teval-logloss:0.095725\n",
            "[222]\ttrain-logloss:0.006138\teval-logloss:0.095968\n",
            "[223]\ttrain-logloss:0.006124\teval-logloss:0.096106\n",
            "[224]\ttrain-logloss:0.006111\teval-logloss:0.096253\n",
            "[225]\ttrain-logloss:0.006097\teval-logloss:0.096199\n",
            "[226]\ttrain-logloss:0.006084\teval-logloss:0.096216\n",
            "[227]\ttrain-logloss:0.006071\teval-logloss:0.096174\n",
            "[228]\ttrain-logloss:0.006058\teval-logloss:0.096359\n",
            "[229]\ttrain-logloss:0.006045\teval-logloss:0.096508\n",
            "[230]\ttrain-logloss:0.006032\teval-logloss:0.096642\n",
            "[231]\ttrain-logloss:0.006019\teval-logloss:0.096659\n",
            "[232]\ttrain-logloss:0.006006\teval-logloss:0.096603\n",
            "[233]\ttrain-logloss:0.005994\teval-logloss:0.09656\n",
            "[234]\ttrain-logloss:0.005981\teval-logloss:0.096706\n",
            "[235]\ttrain-logloss:0.005969\teval-logloss:0.096944\n",
            "[236]\ttrain-logloss:0.005957\teval-logloss:0.096638\n",
            "[237]\ttrain-logloss:0.005944\teval-logloss:0.096768\n",
            "[238]\ttrain-logloss:0.005932\teval-logloss:0.096787\n",
            "[239]\ttrain-logloss:0.00592\teval-logloss:0.09697\n",
            "[240]\ttrain-logloss:0.005909\teval-logloss:0.096925\n",
            "[241]\ttrain-logloss:0.005896\teval-logloss:0.097075\n",
            "[242]\ttrain-logloss:0.005884\teval-logloss:0.09703\n",
            "[243]\ttrain-logloss:0.005873\teval-logloss:0.096873\n",
            "[244]\ttrain-logloss:0.005861\teval-logloss:0.096998\n",
            "[245]\ttrain-logloss:0.00585\teval-logloss:0.09702\n",
            "[246]\ttrain-logloss:0.005838\teval-logloss:0.09697\n",
            "[247]\ttrain-logloss:0.005827\teval-logloss:0.097118\n",
            "[248]\ttrain-logloss:0.005816\teval-logloss:0.097301\n",
            "[249]\ttrain-logloss:0.005805\teval-logloss:0.097259\n",
            "[250]\ttrain-logloss:0.005793\teval-logloss:0.096966\n",
            "[251]\ttrain-logloss:0.005783\teval-logloss:0.097089\n",
            "[252]\ttrain-logloss:0.005771\teval-logloss:0.097111\n",
            "[253]\ttrain-logloss:0.005761\teval-logloss:0.097337\n",
            "[254]\ttrain-logloss:0.00575\teval-logloss:0.097485\n",
            "[255]\ttrain-logloss:0.005739\teval-logloss:0.097446\n",
            "[256]\ttrain-logloss:0.005728\teval-logloss:0.097403\n",
            "[257]\ttrain-logloss:0.005718\teval-logloss:0.097551\n",
            "[258]\ttrain-logloss:0.005707\teval-logloss:0.097509\n",
            "[259]\ttrain-logloss:0.005697\teval-logloss:0.097468\n",
            "[260]\ttrain-logloss:0.005687\teval-logloss:0.097494\n",
            "[261]\ttrain-logloss:0.005677\teval-logloss:0.097676\n",
            "[262]\ttrain-logloss:0.005667\teval-logloss:0.097823\n",
            "[263]\ttrain-logloss:0.005656\teval-logloss:0.097841\n",
            "[264]\ttrain-logloss:0.005646\teval-logloss:0.097868\n",
            "[265]\ttrain-logloss:0.005637\teval-logloss:0.098091\n",
            "[266]\ttrain-logloss:0.005627\teval-logloss:0.09795\n",
            "[267]\ttrain-logloss:0.005617\teval-logloss:0.09791\n",
            "[268]\ttrain-logloss:0.005608\teval-logloss:0.097926\n",
            "[269]\ttrain-logloss:0.005598\teval-logloss:0.098075\n",
            "[270]\ttrain-logloss:0.005588\teval-logloss:0.098037\n",
            "[271]\ttrain-logloss:0.005579\teval-logloss:0.097998\n",
            "[272]\ttrain-logloss:0.00557\teval-logloss:0.098146\n",
            "[273]\ttrain-logloss:0.005561\teval-logloss:0.098107\n",
            "[274]\ttrain-logloss:0.005552\teval-logloss:0.098279\n",
            "[275]\ttrain-logloss:0.005543\teval-logloss:0.098424\n",
            "[276]\ttrain-logloss:0.005534\teval-logloss:0.098388\n",
            "[277]\ttrain-logloss:0.005526\teval-logloss:0.09835\n",
            "[278]\ttrain-logloss:0.005517\teval-logloss:0.098221\n",
            "[279]\ttrain-logloss:0.005509\teval-logloss:0.098238\n",
            "[280]\ttrain-logloss:0.0055\teval-logloss:0.098384\n",
            "[281]\ttrain-logloss:0.005492\teval-logloss:0.098348\n",
            "[282]\ttrain-logloss:0.005484\teval-logloss:0.098314\n",
            "[283]\ttrain-logloss:0.005476\teval-logloss:0.098458\n",
            "[284]\ttrain-logloss:0.005468\teval-logloss:0.098626\n",
            "[285]\ttrain-logloss:0.005459\teval-logloss:0.098593\n",
            "[286]\ttrain-logloss:0.005452\teval-logloss:0.098736\n",
            "[287]\ttrain-logloss:0.005444\teval-logloss:0.098701\n",
            "[288]\ttrain-logloss:0.005436\teval-logloss:0.09867\n",
            "[289]\ttrain-logloss:0.005429\teval-logloss:0.098687\n",
            "[290]\ttrain-logloss:0.005421\teval-logloss:0.09883\n",
            "[291]\ttrain-logloss:0.005414\teval-logloss:0.098595\n",
            "[292]\ttrain-logloss:0.005406\teval-logloss:0.098759\n",
            "[293]\ttrain-logloss:0.005399\teval-logloss:0.098726\n",
            "[294]\ttrain-logloss:0.005392\teval-logloss:0.098868\n",
            "[295]\ttrain-logloss:0.005384\teval-logloss:0.098839\n",
            "[296]\ttrain-logloss:0.005377\teval-logloss:0.098723\n",
            "[297]\ttrain-logloss:0.00537\teval-logloss:0.09874\n",
            "[298]\ttrain-logloss:0.005363\teval-logloss:0.098707\n",
            "Stopping. Best iteration:\n",
            "[198]\ttrain-logloss:0.006498\teval-logloss:0.094582\n",
            "\n"
          ]
        }
      ]
    },
    {
      "cell_type": "code",
      "source": [
        "pred_probs = xgb_model.predict(dtest) # 파이썬 래퍼 XGBoost는 예측 확률 반환\n",
        "preds = [1 if x>0.5 else 0 for x in pred_probs]"
      ],
      "metadata": {
        "id": "YPCj81NiTD96"
      },
      "execution_count": null,
      "outputs": []
    },
    {
      "cell_type": "code",
      "source": [
        "from sklearn.metrics import confusion_matrix, accuracy_score\n",
        "from sklearn.metrics import precision_score, recall_score\n",
        "from sklearn.metrics import f1_score, roc_auc_score\n",
        "\n",
        "def get_clf_eval(y_test, pred=None, pred_proba=None):\n",
        "    confusion = confusion_matrix( y_test, pred)\n",
        "    accuracy = accuracy_score(y_test , pred)\n",
        "    precision = precision_score(y_test , pred)\n",
        "    recall = recall_score(y_test , pred)\n",
        "    f1 = f1_score(y_test,pred)\n",
        "    # ROC-AUC 추가 \n",
        "    roc_auc = roc_auc_score(y_test, pred_proba)\n",
        "    print('오차 행렬')\n",
        "    print(confusion)\n",
        "    # ROC-AUC print 추가\n",
        "    print('정확도: {0:.4f}, 정밀도: {1:.4f}, 재현율: {2:.4f},\\\n",
        "    F1: {3:.4f}, AUC:{4:.4f}'.format(accuracy, precision, recall, f1, roc_auc))"
      ],
      "metadata": {
        "id": "SZaz_E3oVyDB"
      },
      "execution_count": null,
      "outputs": []
    },
    {
      "cell_type": "code",
      "source": [
        "get_clf_eval(y_test , preds, pred_probs)"
      ],
      "metadata": {
        "colab": {
          "base_uri": "https://localhost:8080/"
        },
        "id": "NkjmGDRzV0AA",
        "outputId": "77b640e3-15c3-4d3b-a5ff-7b8e18f7d6dc"
      },
      "execution_count": null,
      "outputs": [
        {
          "output_type": "stream",
          "name": "stdout",
          "text": [
            "오차 행렬\n",
            "[[37  4]\n",
            " [ 1 72]]\n",
            "정확도: 0.9561, 정밀도: 0.9474, 재현율: 0.9863,    F1: 0.9664, AUC:0.9943\n"
          ]
        }
      ]
    },
    {
      "cell_type": "code",
      "source": [
        "import matplotlib.pyplot as plt\n",
        "%matplotlib inline\n",
        "\n",
        "fig, ax = plt.subplots(figsize = (10,12))\n",
        "plot_importance(xgb_model, ax = ax)"
      ],
      "metadata": {
        "colab": {
          "base_uri": "https://localhost:8080/",
          "height": 748
        },
        "id": "DLtbqbraV2Az",
        "outputId": "55d0a462-c2e3-48a0-b477-58fc7df98218"
      },
      "execution_count": null,
      "outputs": [
        {
          "output_type": "execute_result",
          "data": {
            "text/plain": [
              "<matplotlib.axes._subplots.AxesSubplot at 0x7f6d2c843a50>"
            ]
          },
          "metadata": {},
          "execution_count": 12
        },
        {
          "output_type": "display_data",
          "data": {
            "text/plain": [
              "<Figure size 720x864 with 1 Axes>"
            ],
            "image/png": "[encoded data removed]"
          },
          "metadata": {
            "needs_background": "light"
          }
        }
      ]
    },
    {
      "cell_type": "markdown",
      "source": [
        "## 사이킷런 래퍼 XGBoost의 개요 및 적용"
      ],
      "metadata": {
        "id": "gUWYOuBw3nJE"
      }
    },
    {
      "cell_type": "markdown",
      "source": [
        "### 조기중단 없이 "
      ],
      "metadata": {
        "id": "D6Pys1p_bSJj"
      }
    },
    {
      "cell_type": "code",
      "source": [
        "from xgboost import XGBClassifier\n",
        "\n",
        "xgb_wrapper = XGBClassifier(n_estimators = 400, learning_rate = 0.1, max_detph = 3)\n",
        "xgb_wrapper.fit(X_train, y_train)\n",
        "w_preds = xgb_wrapper.predict(X_test)\n",
        "w_pred_proba = xgb_wrapper.predict_proba(X_test)[:,1]"
      ],
      "metadata": {
        "id": "6FLSRUQlbUls"
      },
      "execution_count": null,
      "outputs": []
    },
    {
      "cell_type": "code",
      "source": [
        "get_clf_eval(y_test, w_preds, w_pred_proba)"
      ],
      "metadata": {
        "colab": {
          "base_uri": "https://localhost:8080/"
        },
        "id": "gR1J5BMOb_JZ",
        "outputId": "6a92f430-2696-4129-fdae-7f86f0ee4731"
      },
      "execution_count": null,
      "outputs": [
        {
          "output_type": "stream",
          "name": "stdout",
          "text": [
            "오차 행렬\n",
            "[[38  3]\n",
            " [ 1 72]]\n",
            "정확도: 0.9649, 정밀도: 0.9600, 재현율: 0.9863,    F1: 0.9730, AUC:0.9947\n"
          ]
        }
      ]
    },
    {
      "cell_type": "markdown",
      "source": [
        "### 조기중단 early_stopping_rounds = 100"
      ],
      "metadata": {
        "id": "cU1RpAN4cETZ"
      }
    },
    {
      "cell_type": "code",
      "source": [
        "from xgboost import XGBClassifier\n",
        "\n",
        "xgb_wrapper = XGBClassifier(n_estimators = 400, learning_rate = 0.1, max_depth = 3)\n",
        "evals = [(X_test,y_test)]\n",
        "xgb_wrapper.fit(X_train, y_train, early_stopping_rounds = 100, eval_metric= 'logloss',\n",
        "                eval_set = evals, verbose = True) # 원래 성능평가는 테스트용 데이터로 하면 안됨\n",
        "ws100_preds = xgb_wrapper.predict(X_test)\n",
        "ws100_pred_proba = xgb_wrapper.predict_proba(X_test)[:,1]"
      ],
      "metadata": {
        "colab": {
          "base_uri": "https://localhost:8080/"
        },
        "id": "g_-c0nvpcDwJ",
        "outputId": "aa4b4cab-aba4-4bf7-f1ac-dc5f51d3ce76"
      },
      "execution_count": null,
      "outputs": [
        {
          "output_type": "stream",
          "name": "stdout",
          "text": [
            "[0]\tvalidation_0-logloss:0.611846\n",
            "Will train until validation_0-logloss hasn't improved in 100 rounds.\n",
            "[1]\tvalidation_0-logloss:0.547229\n",
            "[2]\tvalidation_0-logloss:0.491863\n",
            "[3]\tvalidation_0-logloss:0.446011\n",
            "[4]\tvalidation_0-logloss:0.409034\n",
            "[5]\tvalidation_0-logloss:0.374398\n",
            "[6]\tvalidation_0-logloss:0.343558\n",
            "[7]\tvalidation_0-logloss:0.319792\n",
            "[8]\tvalidation_0-logloss:0.296412\n",
            "[9]\tvalidation_0-logloss:0.276955\n",
            "[10]\tvalidation_0-logloss:0.261379\n",
            "[11]\tvalidation_0-logloss:0.242992\n",
            "[12]\tvalidation_0-logloss:0.231627\n",
            "[13]\tvalidation_0-logloss:0.217158\n",
            "[14]\tvalidation_0-logloss:0.203148\n",
            "[15]\tvalidation_0-logloss:0.192854\n",
            "[16]\tvalidation_0-logloss:0.184148\n",
            "[17]\tvalidation_0-logloss:0.178609\n",
            "[18]\tvalidation_0-logloss:0.171142\n",
            "[19]\tvalidation_0-logloss:0.166165\n",
            "[20]\tvalidation_0-logloss:0.158002\n",
            "[21]\tvalidation_0-logloss:0.15375\n",
            "[22]\tvalidation_0-logloss:0.149113\n",
            "[23]\tvalidation_0-logloss:0.146354\n",
            "[24]\tvalidation_0-logloss:0.142632\n",
            "[25]\tvalidation_0-logloss:0.1369\n",
            "[26]\tvalidation_0-logloss:0.134792\n",
            "[27]\tvalidation_0-logloss:0.133141\n",
            "[28]\tvalidation_0-logloss:0.13167\n",
            "[29]\tvalidation_0-logloss:0.129829\n",
            "[30]\tvalidation_0-logloss:0.129676\n",
            "[31]\tvalidation_0-logloss:0.126556\n",
            "[32]\tvalidation_0-logloss:0.126018\n",
            "[33]\tvalidation_0-logloss:0.124891\n",
            "[34]\tvalidation_0-logloss:0.123722\n",
            "[35]\tvalidation_0-logloss:0.120928\n",
            "[36]\tvalidation_0-logloss:0.121189\n",
            "[37]\tvalidation_0-logloss:0.119112\n",
            "[38]\tvalidation_0-logloss:0.119365\n",
            "[39]\tvalidation_0-logloss:0.119088\n",
            "[40]\tvalidation_0-logloss:0.116684\n",
            "[41]\tvalidation_0-logloss:0.11732\n",
            "[42]\tvalidation_0-logloss:0.115252\n",
            "[43]\tvalidation_0-logloss:0.112518\n",
            "[44]\tvalidation_0-logloss:0.11165\n",
            "[45]\tvalidation_0-logloss:0.111872\n",
            "[46]\tvalidation_0-logloss:0.111579\n",
            "[47]\tvalidation_0-logloss:0.109928\n",
            "[48]\tvalidation_0-logloss:0.109847\n",
            "[49]\tvalidation_0-logloss:0.109447\n",
            "[50]\tvalidation_0-logloss:0.106754\n",
            "[51]\tvalidation_0-logloss:0.106742\n",
            "[52]\tvalidation_0-logloss:0.106473\n",
            "[53]\tvalidation_0-logloss:0.106626\n",
            "[54]\tvalidation_0-logloss:0.106452\n",
            "[55]\tvalidation_0-logloss:0.105451\n",
            "[56]\tvalidation_0-logloss:0.106211\n",
            "[57]\tvalidation_0-logloss:0.10513\n",
            "[58]\tvalidation_0-logloss:0.10524\n",
            "[59]\tvalidation_0-logloss:0.104286\n",
            "[60]\tvalidation_0-logloss:0.104768\n",
            "[61]\tvalidation_0-logloss:0.103349\n",
            "[62]\tvalidation_0-logloss:0.103213\n",
            "[63]\tvalidation_0-logloss:0.102643\n",
            "[64]\tvalidation_0-logloss:0.103831\n",
            "[65]\tvalidation_0-logloss:0.103467\n",
            "[66]\tvalidation_0-logloss:0.104158\n",
            "[67]\tvalidation_0-logloss:0.10308\n",
            "[68]\tvalidation_0-logloss:0.103322\n",
            "[69]\tvalidation_0-logloss:0.103756\n",
            "[70]\tvalidation_0-logloss:0.10344\n",
            "[71]\tvalidation_0-logloss:0.103787\n",
            "[72]\tvalidation_0-logloss:0.104133\n",
            "[73]\tvalidation_0-logloss:0.104187\n",
            "[74]\tvalidation_0-logloss:0.103554\n",
            "[75]\tvalidation_0-logloss:0.103343\n",
            "[76]\tvalidation_0-logloss:0.104005\n",
            "[77]\tvalidation_0-logloss:0.103723\n",
            "[78]\tvalidation_0-logloss:0.103707\n",
            "[79]\tvalidation_0-logloss:0.103769\n",
            "[80]\tvalidation_0-logloss:0.103193\n",
            "[81]\tvalidation_0-logloss:0.102745\n",
            "[82]\tvalidation_0-logloss:0.103007\n",
            "[83]\tvalidation_0-logloss:0.102448\n",
            "[84]\tvalidation_0-logloss:0.101927\n",
            "[85]\tvalidation_0-logloss:0.101694\n",
            "[86]\tvalidation_0-logloss:0.100844\n",
            "[87]\tvalidation_0-logloss:0.100958\n",
            "[88]\tvalidation_0-logloss:0.101142\n",
            "[89]\tvalidation_0-logloss:0.101095\n",
            "[90]\tvalidation_0-logloss:0.10013\n",
            "[91]\tvalidation_0-logloss:0.099651\n",
            "[92]\tvalidation_0-logloss:0.09984\n",
            "[93]\tvalidation_0-logloss:0.100679\n",
            "[94]\tvalidation_0-logloss:0.10026\n",
            "[95]\tvalidation_0-logloss:0.100056\n",
            "[96]\tvalidation_0-logloss:0.100039\n",
            "[97]\tvalidation_0-logloss:0.099874\n",
            "[98]\tvalidation_0-logloss:0.099847\n",
            "[99]\tvalidation_0-logloss:0.100085\n",
            "[100]\tvalidation_0-logloss:0.099532\n",
            "[101]\tvalidation_0-logloss:0.099528\n",
            "[102]\tvalidation_0-logloss:0.099334\n",
            "[103]\tvalidation_0-logloss:0.098939\n",
            "[104]\tvalidation_0-logloss:0.099402\n",
            "[105]\tvalidation_0-logloss:0.099636\n",
            "[106]\tvalidation_0-logloss:0.099478\n",
            "[107]\tvalidation_0-logloss:0.100232\n",
            "[108]\tvalidation_0-logloss:0.100217\n",
            "[109]\tvalidation_0-logloss:0.100023\n",
            "[110]\tvalidation_0-logloss:0.099674\n",
            "[111]\tvalidation_0-logloss:0.09975\n",
            "[112]\tvalidation_0-logloss:0.099869\n",
            "[113]\tvalidation_0-logloss:0.100139\n",
            "[114]\tvalidation_0-logloss:0.099627\n",
            "[115]\tvalidation_0-logloss:0.099312\n",
            "[116]\tvalidation_0-logloss:0.099438\n",
            "[117]\tvalidation_0-logloss:0.098656\n",
            "[118]\tvalidation_0-logloss:0.098273\n",
            "[119]\tvalidation_0-logloss:0.098988\n",
            "[120]\tvalidation_0-logloss:0.099233\n",
            "[121]\tvalidation_0-logloss:0.099353\n",
            "[122]\tvalidation_0-logloss:0.098874\n",
            "[123]\tvalidation_0-logloss:0.098115\n",
            "[124]\tvalidation_0-logloss:0.098122\n",
            "[125]\tvalidation_0-logloss:0.098242\n",
            "[126]\tvalidation_0-logloss:0.098096\n",
            "[127]\tvalidation_0-logloss:0.098337\n",
            "[128]\tvalidation_0-logloss:0.09803\n",
            "[129]\tvalidation_0-logloss:0.098367\n",
            "[130]\tvalidation_0-logloss:0.098129\n",
            "[131]\tvalidation_0-logloss:0.098259\n",
            "[132]\tvalidation_0-logloss:0.097654\n",
            "[133]\tvalidation_0-logloss:0.097677\n",
            "[134]\tvalidation_0-logloss:0.097388\n",
            "[135]\tvalidation_0-logloss:0.097615\n",
            "[136]\tvalidation_0-logloss:0.097743\n",
            "[137]\tvalidation_0-logloss:0.097164\n",
            "[138]\tvalidation_0-logloss:0.097197\n",
            "[139]\tvalidation_0-logloss:0.097239\n",
            "[140]\tvalidation_0-logloss:0.096971\n",
            "[141]\tvalidation_0-logloss:0.097003\n",
            "[142]\tvalidation_0-logloss:0.097137\n",
            "[143]\tvalidation_0-logloss:0.0972\n",
            "[144]\tvalidation_0-logloss:0.096815\n",
            "[145]\tvalidation_0-logloss:0.096446\n",
            "[146]\tvalidation_0-logloss:0.096483\n",
            "[147]\tvalidation_0-logloss:0.096616\n",
            "[148]\tvalidation_0-logloss:0.096256\n",
            "[149]\tvalidation_0-logloss:0.096466\n",
            "[150]\tvalidation_0-logloss:0.096057\n",
            "[151]\tvalidation_0-logloss:0.095814\n",
            "[152]\tvalidation_0-logloss:0.095854\n",
            "[153]\tvalidation_0-logloss:0.095504\n",
            "[154]\tvalidation_0-logloss:0.095637\n",
            "[155]\tvalidation_0-logloss:0.095846\n",
            "[156]\tvalidation_0-logloss:0.095499\n",
            "[157]\tvalidation_0-logloss:0.095702\n",
            "[158]\tvalidation_0-logloss:0.095838\n",
            "[159]\tvalidation_0-logloss:0.095734\n",
            "[160]\tvalidation_0-logloss:0.09568\n",
            "[161]\tvalidation_0-logloss:0.095292\n",
            "[162]\tvalidation_0-logloss:0.095491\n",
            "[163]\tvalidation_0-logloss:0.09526\n",
            "[164]\tvalidation_0-logloss:0.094925\n",
            "[165]\tvalidation_0-logloss:0.095064\n",
            "[166]\tvalidation_0-logloss:0.095236\n",
            "[167]\tvalidation_0-logloss:0.094898\n",
            "[168]\tvalidation_0-logloss:0.095095\n",
            "[169]\tvalidation_0-logloss:0.09523\n",
            "[170]\tvalidation_0-logloss:0.095182\n",
            "[171]\tvalidation_0-logloss:0.095086\n",
            "[172]\tvalidation_0-logloss:0.095246\n",
            "[173]\tvalidation_0-logloss:0.095435\n",
            "[174]\tvalidation_0-logloss:0.095103\n",
            "[175]\tvalidation_0-logloss:0.095246\n",
            "[176]\tvalidation_0-logloss:0.095202\n",
            "[177]\tvalidation_0-logloss:0.094889\n",
            "[178]\tvalidation_0-logloss:0.095078\n",
            "[179]\tvalidation_0-logloss:0.094711\n",
            "[180]\tvalidation_0-logloss:0.094852\n",
            "[181]\tvalidation_0-logloss:0.095053\n",
            "[182]\tvalidation_0-logloss:0.094971\n",
            "[183]\tvalidation_0-logloss:0.095129\n",
            "[184]\tvalidation_0-logloss:0.095272\n",
            "[185]\tvalidation_0-logloss:0.094959\n",
            "[186]\tvalidation_0-logloss:0.094914\n",
            "[187]\tvalidation_0-logloss:0.09507\n",
            "[188]\tvalidation_0-logloss:0.094872\n",
            "[189]\tvalidation_0-logloss:0.095054\n",
            "[190]\tvalidation_0-logloss:0.094699\n",
            "[191]\tvalidation_0-logloss:0.094877\n",
            "[192]\tvalidation_0-logloss:0.094882\n",
            "[193]\tvalidation_0-logloss:0.094815\n",
            "[194]\tvalidation_0-logloss:0.094957\n",
            "[195]\tvalidation_0-logloss:0.095154\n",
            "[196]\tvalidation_0-logloss:0.095109\n",
            "[197]\tvalidation_0-logloss:0.09492\n",
            "[198]\tvalidation_0-logloss:0.094582\n",
            "[199]\tvalidation_0-logloss:0.094759\n",
            "[200]\tvalidation_0-logloss:0.094685\n",
            "[201]\tvalidation_0-logloss:0.094828\n",
            "[202]\tvalidation_0-logloss:0.094787\n",
            "[203]\tvalidation_0-logloss:0.094797\n",
            "[204]\tvalidation_0-logloss:0.094971\n",
            "[205]\tvalidation_0-logloss:0.09491\n",
            "[206]\tvalidation_0-logloss:0.0951\n",
            "[207]\tvalidation_0-logloss:0.09511\n",
            "[208]\tvalidation_0-logloss:0.09528\n",
            "[209]\tvalidation_0-logloss:0.095424\n",
            "[210]\tvalidation_0-logloss:0.095369\n",
            "[211]\tvalidation_0-logloss:0.095326\n",
            "[212]\tvalidation_0-logloss:0.095338\n",
            "[213]\tvalidation_0-logloss:0.095507\n",
            "[214]\tvalidation_0-logloss:0.095326\n",
            "[215]\tvalidation_0-logloss:0.095511\n",
            "[216]\tvalidation_0-logloss:0.095525\n",
            "[217]\tvalidation_0-logloss:0.095667\n",
            "[218]\tvalidation_0-logloss:0.09581\n",
            "[219]\tvalidation_0-logloss:0.095753\n",
            "[220]\tvalidation_0-logloss:0.09571\n",
            "[221]\tvalidation_0-logloss:0.095725\n",
            "[222]\tvalidation_0-logloss:0.095968\n",
            "[223]\tvalidation_0-logloss:0.096106\n",
            "[224]\tvalidation_0-logloss:0.096253\n",
            "[225]\tvalidation_0-logloss:0.096199\n",
            "[226]\tvalidation_0-logloss:0.096216\n",
            "[227]\tvalidation_0-logloss:0.096174\n",
            "[228]\tvalidation_0-logloss:0.096359\n",
            "[229]\tvalidation_0-logloss:0.096508\n",
            "[230]\tvalidation_0-logloss:0.096642\n",
            "[231]\tvalidation_0-logloss:0.096659\n",
            "[232]\tvalidation_0-logloss:0.096603\n",
            "[233]\tvalidation_0-logloss:0.09656\n",
            "[234]\tvalidation_0-logloss:0.096706\n",
            "[235]\tvalidation_0-logloss:0.096944\n",
            "[236]\tvalidation_0-logloss:0.096638\n",
            "[237]\tvalidation_0-logloss:0.096768\n",
            "[238]\tvalidation_0-logloss:0.096787\n",
            "[239]\tvalidation_0-logloss:0.09697\n",
            "[240]\tvalidation_0-logloss:0.096925\n",
            "[241]\tvalidation_0-logloss:0.097075\n",
            "[242]\tvalidation_0-logloss:0.09703\n",
            "[243]\tvalidation_0-logloss:0.096873\n",
            "[244]\tvalidation_0-logloss:0.096998\n",
            "[245]\tvalidation_0-logloss:0.09702\n",
            "[246]\tvalidation_0-logloss:0.09697\n",
            "[247]\tvalidation_0-logloss:0.097118\n",
            "[248]\tvalidation_0-logloss:0.097301\n",
            "[249]\tvalidation_0-logloss:0.097259\n",
            "[250]\tvalidation_0-logloss:0.096966\n",
            "[251]\tvalidation_0-logloss:0.097089\n",
            "[252]\tvalidation_0-logloss:0.097111\n",
            "[253]\tvalidation_0-logloss:0.097337\n",
            "[254]\tvalidation_0-logloss:0.097485\n",
            "[255]\tvalidation_0-logloss:0.097445\n",
            "[256]\tvalidation_0-logloss:0.097403\n",
            "[257]\tvalidation_0-logloss:0.097551\n",
            "[258]\tvalidation_0-logloss:0.097509\n",
            "[259]\tvalidation_0-logloss:0.097468\n",
            "[260]\tvalidation_0-logloss:0.097494\n",
            "[261]\tvalidation_0-logloss:0.097676\n",
            "[262]\tvalidation_0-logloss:0.097823\n",
            "[263]\tvalidation_0-logloss:0.097841\n",
            "[264]\tvalidation_0-logloss:0.097868\n",
            "[265]\tvalidation_0-logloss:0.098091\n",
            "[266]\tvalidation_0-logloss:0.09795\n",
            "[267]\tvalidation_0-logloss:0.09791\n",
            "[268]\tvalidation_0-logloss:0.097926\n",
            "[269]\tvalidation_0-logloss:0.098075\n",
            "[270]\tvalidation_0-logloss:0.098037\n",
            "[271]\tvalidation_0-logloss:0.097998\n",
            "[272]\tvalidation_0-logloss:0.098146\n",
            "[273]\tvalidation_0-logloss:0.098107\n",
            "[274]\tvalidation_0-logloss:0.098279\n",
            "[275]\tvalidation_0-logloss:0.098424\n",
            "[276]\tvalidation_0-logloss:0.098388\n",
            "[277]\tvalidation_0-logloss:0.09835\n",
            "[278]\tvalidation_0-logloss:0.098221\n",
            "[279]\tvalidation_0-logloss:0.098238\n",
            "[280]\tvalidation_0-logloss:0.098384\n",
            "[281]\tvalidation_0-logloss:0.098348\n",
            "[282]\tvalidation_0-logloss:0.098314\n",
            "[283]\tvalidation_0-logloss:0.098458\n",
            "[284]\tvalidation_0-logloss:0.098626\n",
            "[285]\tvalidation_0-logloss:0.098593\n",
            "[286]\tvalidation_0-logloss:0.098736\n",
            "[287]\tvalidation_0-logloss:0.098701\n",
            "[288]\tvalidation_0-logloss:0.09867\n",
            "[289]\tvalidation_0-logloss:0.098687\n",
            "[290]\tvalidation_0-logloss:0.09883\n",
            "[291]\tvalidation_0-logloss:0.098595\n",
            "[292]\tvalidation_0-logloss:0.098759\n",
            "[293]\tvalidation_0-logloss:0.098726\n",
            "[294]\tvalidation_0-logloss:0.098868\n",
            "[295]\tvalidation_0-logloss:0.098839\n",
            "[296]\tvalidation_0-logloss:0.098723\n",
            "[297]\tvalidation_0-logloss:0.09874\n",
            "[298]\tvalidation_0-logloss:0.098707\n",
            "Stopping. Best iteration:\n",
            "[198]\tvalidation_0-logloss:0.094582\n",
            "\n"
          ]
        }
      ]
    },
    {
      "cell_type": "code",
      "source": [
        "get_clf_eval(y_test, ws100_preds.reshape(-1,1), ws100_pred_proba)"
      ],
      "metadata": {
        "colab": {
          "base_uri": "https://localhost:8080/"
        },
        "id": "f5cwUsH_dBgw",
        "outputId": "5cfbc495-16a2-4dbb-8fe7-167f233c7ba6"
      },
      "execution_count": null,
      "outputs": [
        {
          "output_type": "stream",
          "name": "stdout",
          "text": [
            "오차 행렬\n",
            "[[37  4]\n",
            " [ 1 72]]\n",
            "정확도: 0.9561, 정밀도: 0.9474, 재현율: 0.9863,    F1: 0.9664, AUC:0.9950\n"
          ]
        }
      ]
    },
    {
      "cell_type": "markdown",
      "source": [
        "### 조기중단 early_stopping_rounds = 10"
      ],
      "metadata": {
        "id": "Z4Zhmqo5c67v"
      }
    },
    {
      "cell_type": "code",
      "source": [
        "from xgboost import XGBClassifier\n",
        "\n",
        "xgb_wrapper = XGBClassifier(n_estimators = 400, learning_rate = 0.1, max_depth = 3)\n",
        "evals = [(X_test,y_test)]\n",
        "xgb_wrapper.fit(X_train, y_train, early_stopping_rounds = 10, eval_metric= 'logloss',\n",
        "                eval_set = evals, verbose = True) # 원래 성능평가는 테스트용 데이터로 하면 안됨\n",
        "ws10_preds = xgb_wrapper.predict(X_test)\n",
        "ws10_pred_proba = xgb_wrapper.predict_proba(X_test)[:,1]"
      ],
      "metadata": {
        "colab": {
          "base_uri": "https://localhost:8080/"
        },
        "id": "cEV1lhxTdruc",
        "outputId": "a145cc27-851e-48fb-afc4-9b12cb82e452"
      },
      "execution_count": null,
      "outputs": [
        {
          "output_type": "stream",
          "name": "stdout",
          "text": [
            "[0]\tvalidation_0-logloss:0.611846\n",
            "Will train until validation_0-logloss hasn't improved in 10 rounds.\n",
            "[1]\tvalidation_0-logloss:0.547229\n",
            "[2]\tvalidation_0-logloss:0.491863\n",
            "[3]\tvalidation_0-logloss:0.446011\n",
            "[4]\tvalidation_0-logloss:0.409034\n",
            "[5]\tvalidation_0-logloss:0.374398\n",
            "[6]\tvalidation_0-logloss:0.343558\n",
            "[7]\tvalidation_0-logloss:0.319792\n",
            "[8]\tvalidation_0-logloss:0.296412\n",
            "[9]\tvalidation_0-logloss:0.276955\n",
            "[10]\tvalidation_0-logloss:0.261379\n",
            "[11]\tvalidation_0-logloss:0.242992\n",
            "[12]\tvalidation_0-logloss:0.231627\n",
            "[13]\tvalidation_0-logloss:0.217158\n",
            "[14]\tvalidation_0-logloss:0.203148\n",
            "[15]\tvalidation_0-logloss:0.192854\n",
            "[16]\tvalidation_0-logloss:0.184148\n",
            "[17]\tvalidation_0-logloss:0.178609\n",
            "[18]\tvalidation_0-logloss:0.171142\n",
            "[19]\tvalidation_0-logloss:0.166165\n",
            "[20]\tvalidation_0-logloss:0.158002\n",
            "[21]\tvalidation_0-logloss:0.15375\n",
            "[22]\tvalidation_0-logloss:0.149113\n",
            "[23]\tvalidation_0-logloss:0.146354\n",
            "[24]\tvalidation_0-logloss:0.142632\n",
            "[25]\tvalidation_0-logloss:0.1369\n",
            "[26]\tvalidation_0-logloss:0.134792\n",
            "[27]\tvalidation_0-logloss:0.133141\n",
            "[28]\tvalidation_0-logloss:0.13167\n",
            "[29]\tvalidation_0-logloss:0.129829\n",
            "[30]\tvalidation_0-logloss:0.129676\n",
            "[31]\tvalidation_0-logloss:0.126556\n",
            "[32]\tvalidation_0-logloss:0.126018\n",
            "[33]\tvalidation_0-logloss:0.124891\n",
            "[34]\tvalidation_0-logloss:0.123722\n",
            "[35]\tvalidation_0-logloss:0.120928\n",
            "[36]\tvalidation_0-logloss:0.121189\n",
            "[37]\tvalidation_0-logloss:0.119112\n",
            "[38]\tvalidation_0-logloss:0.119365\n",
            "[39]\tvalidation_0-logloss:0.119088\n",
            "[40]\tvalidation_0-logloss:0.116684\n",
            "[41]\tvalidation_0-logloss:0.11732\n",
            "[42]\tvalidation_0-logloss:0.115252\n",
            "[43]\tvalidation_0-logloss:0.112518\n",
            "[44]\tvalidation_0-logloss:0.11165\n",
            "[45]\tvalidation_0-logloss:0.111872\n",
            "[46]\tvalidation_0-logloss:0.111579\n",
            "[47]\tvalidation_0-logloss:0.109928\n",
            "[48]\tvalidation_0-logloss:0.109847\n",
            "[49]\tvalidation_0-logloss:0.109447\n",
            "[50]\tvalidation_0-logloss:0.106754\n",
            "[51]\tvalidation_0-logloss:0.106742\n",
            "[52]\tvalidation_0-logloss:0.106473\n",
            "[53]\tvalidation_0-logloss:0.106626\n",
            "[54]\tvalidation_0-logloss:0.106452\n",
            "[55]\tvalidation_0-logloss:0.105451\n",
            "[56]\tvalidation_0-logloss:0.106211\n",
            "[57]\tvalidation_0-logloss:0.10513\n",
            "[58]\tvalidation_0-logloss:0.10524\n",
            "[59]\tvalidation_0-logloss:0.104286\n",
            "[60]\tvalidation_0-logloss:0.104768\n",
            "[61]\tvalidation_0-logloss:0.103349\n",
            "[62]\tvalidation_0-logloss:0.103213\n",
            "[63]\tvalidation_0-logloss:0.102643\n",
            "[64]\tvalidation_0-logloss:0.103831\n",
            "[65]\tvalidation_0-logloss:0.103467\n",
            "[66]\tvalidation_0-logloss:0.104158\n",
            "[67]\tvalidation_0-logloss:0.10308\n",
            "[68]\tvalidation_0-logloss:0.103322\n",
            "[69]\tvalidation_0-logloss:0.103756\n",
            "[70]\tvalidation_0-logloss:0.10344\n",
            "[71]\tvalidation_0-logloss:0.103787\n",
            "[72]\tvalidation_0-logloss:0.104133\n",
            "[73]\tvalidation_0-logloss:0.104187\n",
            "Stopping. Best iteration:\n",
            "[63]\tvalidation_0-logloss:0.102643\n",
            "\n"
          ]
        }
      ]
    },
    {
      "cell_type": "code",
      "source": [
        "get_clf_eval(y_test, ws10_preds, ws10_pred_proba)"
      ],
      "metadata": {
        "colab": {
          "base_uri": "https://localhost:8080/"
        },
        "id": "y55LFsOhdyvc",
        "outputId": "58f97fa4-f4f6-4cfe-ec63-bee6d8878f72"
      },
      "execution_count": null,
      "outputs": [
        {
          "output_type": "stream",
          "name": "stdout",
          "text": [
            "오차 행렬\n",
            "[[37  4]\n",
            " [ 1 72]]\n",
            "정확도: 0.9561, 정밀도: 0.9474, 재현율: 0.9863,    F1: 0.9664, AUC:0.9937\n"
          ]
        }
      ]
    },
    {
      "cell_type": "code",
      "source": [
        "from xgboost import plot_importance\n",
        "import matplotlib.pyplot as plt\n",
        "%matplotlib inline\n",
        "\n",
        "fig,ax = plt.subplots(figsize = (10,12))\n",
        "plot_importance(xgb_wrapper, ax = ax)"
      ],
      "metadata": {
        "colab": {
          "base_uri": "https://localhost:8080/",
          "height": 748
        },
        "id": "IUM3y569d8HO",
        "outputId": "27c9cdc8-d45b-44d0-ef7a-65ad89839657"
      },
      "execution_count": null,
      "outputs": [
        {
          "output_type": "execute_result",
          "data": {
            "text/plain": [
              "<matplotlib.axes._subplots.AxesSubplot at 0x7f6d2be53910>"
            ]
          },
          "metadata": {},
          "execution_count": 29
        },
        {
          "output_type": "display_data",
          "data": {
            "text/plain": [
              "<Figure size 720x864 with 1 Axes>"
            ],
            "image/png": "[encoded data removed]"
          },
          "metadata": {
            "needs_background": "light"
          }
        }
      ]
    },
    {
      "cell_type": "markdown",
      "source": [
        "# LightGBM"
      ],
      "metadata": {
        "id": "pohsh7RJ-D2k"
      }
    },
    {
      "cell_type": "markdown",
      "source": [
        "- 더 빠른 학습과 예측 수행 시간 \n",
        "- 더 작은 메모리 사용량 \n",
        "- 카테고리형 피처의 자동 변환과 최적 분할 : 원-핫 인코딩 사용하지 않고도 카테고리형 피처를 최적으로 변환하고 이에 따른 노드 분할 수행 \n",
        "- **리프 중심 트리 분할** 수행 : 균형 맞추지 않고 최대 손실 값을 가지는 리프 노드를 지속적으로 분할하면서 깊고 비대칭적인 규칙 트리 생성 \n",
        "- 적은 데이터 세트(10000건 이하)에 적용할 경우 과적합 발생 쉬움"
      ],
      "metadata": {
        "id": "UTK07Rko-HkD"
      }
    },
    {
      "cell_type": "markdown",
      "source": [
        "![image.png](data:image/png;base64,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)"
      ],
      "metadata": {
        "id": "zzKo-bmT_A14"
      }
    },
    {
      "cell_type": "markdown",
      "source": [
        "## LightGBM 하이퍼 파라미터"
      ],
      "metadata": {
        "id": "u8r92ZR1BeU2"
      }
    },
    {
      "cell_type": "markdown",
      "source": [
        "- num_iterators : 트리 개수 \n",
        "- learning_rate : 학습률\n",
        "- max_depth : 최대 깊이\n",
        "- min_data_in_leaf : = min_samples_leaf, 리프노드가 되기 위해서 최소한으로 필요한 레코드 수\n",
        "- num_leaves : 최대 리프 개수\n",
        "- boosting : 부스팅의 트리를 생성하는 알고리즘 기술, gbdt(그래디언트 부스팅 결정트리) or rf(랜덤 포레스트)\n",
        "- bagging_fraction : 과적합 제어, 데이터 샘플링 비율\n",
        "- feature_fraction : = max_features, colsample_bytree, 무작위로 선택하는 피처의 비율\n",
        "- lambda_l2, lambda_l1\n",
        "- objective : 손실함수 "
      ],
      "metadata": {
        "id": "UCP2PnQxBiVM"
      }
    },
    {
      "cell_type": "markdown",
      "source": [
        "## 하이퍼 파라미터 튜닝 방안"
      ],
      "metadata": {
        "id": "a1NIkpBQr1xN"
      }
    },
    {
      "cell_type": "markdown",
      "source": [
        "- num_leaves의 개수를 중심으로 min_child_samples(min_data_in_leaf), max_depth 조정\n",
        "  - num_leaves의 개수가 높아질수록 정확도 높아지고,트리의 깊이가 깊어지고 복잡해짐\n",
        "  - min_data_in_leaf가 높아질수록 과적합 방지할 수 있음 (트리가 덜 깊어짐)\n",
        "  - max_depth가 낮을수록 과적합 방지\n",
        "- learning_rate를 작게하면서 n_estimator를 크게 하기 \n",
        "- lambda_l1, lambda_l2와 같은 규제 파라미터 적용하여 과적합 제어\n",
        "- 학습에 사용할 피처의 개수나 샘플링 레코드 개수 줄이기 위해 colsample_bytree, subsample 적용하여 과적합 제어"
      ],
      "metadata": {
        "id": "g09Vr9rcr5MT"
      }
    },
    {
      "cell_type": "markdown",
      "source": [
        "## LightGBM 적용 - 위스콘신 유방암 예측"
      ],
      "metadata": {
        "id": "bcnTiH97th35"
      }
    },
    {
      "cell_type": "code",
      "source": [
        "# LightGBM의 파이썬 패키지인 lightgbm에서 LGBMClassifier import\n",
        "from lightgbm import LGBMClassifier\n",
        "\n",
        "import pandas as pd\n",
        "import numpy as np\n",
        "from sklearn.datasets import load_breast_cancer\n",
        "from sklearn.model_selection import train_test_split\n",
        "\n",
        "dataset = load_breast_cancer()\n",
        "ftr = dataset.data\n",
        "target = dataset.target\n",
        "\n",
        "X_train, X_test, y_train, y_test = train_test_split(ftr, target, test_size = 0.2, random_state = 49)\n",
        "\n",
        "lgbm_wrapper = LGBMClassifier(n_estimators = 400)\n",
        "\n",
        "evals = [(X_test, y_test)]\n",
        "lgbm_wrapper.fit(X_train, y_train, early_stopping_rounds = 100, eval_metric = 'logloss',\n",
        "                 eval_set = evals, verbose = True)\n",
        "preds = lgbm_wrapper.predict(X_test)\n",
        "pred_proba = lgbm_wrapper.predict_proba(X_test)[:,1]"
      ],
      "metadata": {
        "colab": {
          "base_uri": "https://localhost:8080/"
        },
        "id": "YqPuksvAsh8i",
        "outputId": "a639f9c3-0a2a-4322-9339-ad3e6e28e155"
      },
      "execution_count": null,
      "outputs": [
        {
          "output_type": "stream",
          "name": "stdout",
          "text": [
            "[1]\tvalid_0's binary_logloss: 0.577451\tvalid_0's binary_logloss: 0.577451\n",
            "Training until validation scores don't improve for 100 rounds.\n",
            "[2]\tvalid_0's binary_logloss: 0.515783\tvalid_0's binary_logloss: 0.515783\n",
            "[3]\tvalid_0's binary_logloss: 0.468961\tvalid_0's binary_logloss: 0.468961\n",
            "[4]\tvalid_0's binary_logloss: 0.430036\tvalid_0's binary_logloss: 0.430036\n",
            "[5]\tvalid_0's binary_logloss: 0.393277\tvalid_0's binary_logloss: 0.393277\n",
            "[6]\tvalid_0's binary_logloss: 0.363103\tvalid_0's binary_logloss: 0.363103\n",
            "[7]\tvalid_0's binary_logloss: 0.338392\tvalid_0's binary_logloss: 0.338392\n",
            "[8]\tvalid_0's binary_logloss: 0.317737\tvalid_0's binary_logloss: 0.317737\n",
            "[9]\tvalid_0's binary_logloss: 0.297846\tvalid_0's binary_logloss: 0.297846\n",
            "[10]\tvalid_0's binary_logloss: 0.282267\tvalid_0's binary_logloss: 0.282267\n",
            "[11]\tvalid_0's binary_logloss: 0.26607\tvalid_0's binary_logloss: 0.26607\n",
            "[12]\tvalid_0's binary_logloss: 0.254736\tvalid_0's binary_logloss: 0.254736\n",
            "[13]\tvalid_0's binary_logloss: 0.244523\tvalid_0's binary_logloss: 0.244523\n",
            "[14]\tvalid_0's binary_logloss: 0.228169\tvalid_0's binary_logloss: 0.228169\n",
            "[15]\tvalid_0's binary_logloss: 0.219409\tvalid_0's binary_logloss: 0.219409\n",
            "[16]\tvalid_0's binary_logloss: 0.212597\tvalid_0's binary_logloss: 0.212597\n",
            "[17]\tvalid_0's binary_logloss: 0.204967\tvalid_0's binary_logloss: 0.204967\n",
            "[18]\tvalid_0's binary_logloss: 0.198176\tvalid_0's binary_logloss: 0.198176\n",
            "[19]\tvalid_0's binary_logloss: 0.191546\tvalid_0's binary_logloss: 0.191546\n",
            "[20]\tvalid_0's binary_logloss: 0.186445\tvalid_0's binary_logloss: 0.186445\n",
            "[21]\tvalid_0's binary_logloss: 0.18229\tvalid_0's binary_logloss: 0.18229\n",
            "[22]\tvalid_0's binary_logloss: 0.176832\tvalid_0's binary_logloss: 0.176832\n",
            "[23]\tvalid_0's binary_logloss: 0.171524\tvalid_0's binary_logloss: 0.171524\n",
            "[24]\tvalid_0's binary_logloss: 0.168774\tvalid_0's binary_logloss: 0.168774\n",
            "[25]\tvalid_0's binary_logloss: 0.164817\tvalid_0's binary_logloss: 0.164817\n",
            "[26]\tvalid_0's binary_logloss: 0.161058\tvalid_0's binary_logloss: 0.161058\n",
            "[27]\tvalid_0's binary_logloss: 0.154805\tvalid_0's binary_logloss: 0.154805\n",
            "[28]\tvalid_0's binary_logloss: 0.149506\tvalid_0's binary_logloss: 0.149506\n",
            "[29]\tvalid_0's binary_logloss: 0.150068\tvalid_0's binary_logloss: 0.150068\n",
            "[30]\tvalid_0's binary_logloss: 0.146584\tvalid_0's binary_logloss: 0.146584\n",
            "[31]\tvalid_0's binary_logloss: 0.144795\tvalid_0's binary_logloss: 0.144795\n",
            "[32]\tvalid_0's binary_logloss: 0.144434\tvalid_0's binary_logloss: 0.144434\n",
            "[33]\tvalid_0's binary_logloss: 0.142575\tvalid_0's binary_logloss: 0.142575\n",
            "[34]\tvalid_0's binary_logloss: 0.140926\tvalid_0's binary_logloss: 0.140926\n",
            "[35]\tvalid_0's binary_logloss: 0.141677\tvalid_0's binary_logloss: 0.141677\n",
            "[36]\tvalid_0's binary_logloss: 0.141745\tvalid_0's binary_logloss: 0.141745\n",
            "[37]\tvalid_0's binary_logloss: 0.142914\tvalid_0's binary_logloss: 0.142914\n",
            "[38]\tvalid_0's binary_logloss: 0.139201\tvalid_0's binary_logloss: 0.139201\n",
            "[39]\tvalid_0's binary_logloss: 0.138334\tvalid_0's binary_logloss: 0.138334\n",
            "[40]\tvalid_0's binary_logloss: 0.139449\tvalid_0's binary_logloss: 0.139449\n",
            "[41]\tvalid_0's binary_logloss: 0.136117\tvalid_0's binary_logloss: 0.136117\n",
            "[42]\tvalid_0's binary_logloss: 0.134484\tvalid_0's binary_logloss: 0.134484\n",
            "[43]\tvalid_0's binary_logloss: 0.135669\tvalid_0's binary_logloss: 0.135669\n",
            "[44]\tvalid_0's binary_logloss: 0.136606\tvalid_0's binary_logloss: 0.136606\n",
            "[45]\tvalid_0's binary_logloss: 0.137962\tvalid_0's binary_logloss: 0.137962\n",
            "[46]\tvalid_0's binary_logloss: 0.140631\tvalid_0's binary_logloss: 0.140631\n",
            "[47]\tvalid_0's binary_logloss: 0.138043\tvalid_0's binary_logloss: 0.138043\n",
            "[48]\tvalid_0's binary_logloss: 0.139637\tvalid_0's binary_logloss: 0.139637\n",
            "[49]\tvalid_0's binary_logloss: 0.140215\tvalid_0's binary_logloss: 0.140215\n",
            "[50]\tvalid_0's binary_logloss: 0.140813\tvalid_0's binary_logloss: 0.140813\n",
            "[51]\tvalid_0's binary_logloss: 0.140487\tvalid_0's binary_logloss: 0.140487\n",
            "[52]\tvalid_0's binary_logloss: 0.141895\tvalid_0's binary_logloss: 0.141895\n",
            "[53]\tvalid_0's binary_logloss: 0.143488\tvalid_0's binary_logloss: 0.143488\n",
            "[54]\tvalid_0's binary_logloss: 0.144617\tvalid_0's binary_logloss: 0.144617\n",
            "[55]\tvalid_0's binary_logloss: 0.145054\tvalid_0's binary_logloss: 0.145054\n",
            "[56]\tvalid_0's binary_logloss: 0.144105\tvalid_0's binary_logloss: 0.144105\n",
            "[57]\tvalid_0's binary_logloss: 0.145517\tvalid_0's binary_logloss: 0.145517\n",
            "[58]\tvalid_0's binary_logloss: 0.14343\tvalid_0's binary_logloss: 0.14343\n",
            "[59]\tvalid_0's binary_logloss: 0.142098\tvalid_0's binary_logloss: 0.142098\n",
            "[60]\tvalid_0's binary_logloss: 0.143265\tvalid_0's binary_logloss: 0.143265\n",
            "[61]\tvalid_0's binary_logloss: 0.144848\tvalid_0's binary_logloss: 0.144848\n",
            "[62]\tvalid_0's binary_logloss: 0.147225\tvalid_0's binary_logloss: 0.147225\n",
            "[63]\tvalid_0's binary_logloss: 0.145398\tvalid_0's binary_logloss: 0.145398\n",
            "[64]\tvalid_0's binary_logloss: 0.143369\tvalid_0's binary_logloss: 0.143369\n",
            "[65]\tvalid_0's binary_logloss: 0.142834\tvalid_0's binary_logloss: 0.142834\n",
            "[66]\tvalid_0's binary_logloss: 0.144464\tvalid_0's binary_logloss: 0.144464\n",
            "[67]\tvalid_0's binary_logloss: 0.143691\tvalid_0's binary_logloss: 0.143691\n",
            "[68]\tvalid_0's binary_logloss: 0.145914\tvalid_0's binary_logloss: 0.145914\n",
            "[69]\tvalid_0's binary_logloss: 0.14694\tvalid_0's binary_logloss: 0.14694\n",
            "[70]\tvalid_0's binary_logloss: 0.148484\tvalid_0's binary_logloss: 0.148484\n",
            "[71]\tvalid_0's binary_logloss: 0.15133\tvalid_0's binary_logloss: 0.15133\n",
            "[72]\tvalid_0's binary_logloss: 0.149173\tvalid_0's binary_logloss: 0.149173\n",
            "[73]\tvalid_0's binary_logloss: 0.149287\tvalid_0's binary_logloss: 0.149287\n",
            "[74]\tvalid_0's binary_logloss: 0.14732\tvalid_0's binary_logloss: 0.14732\n",
            "[75]\tvalid_0's binary_logloss: 0.150896\tvalid_0's binary_logloss: 0.150896\n",
            "[76]\tvalid_0's binary_logloss: 0.15295\tvalid_0's binary_logloss: 0.15295\n",
            "[77]\tvalid_0's binary_logloss: 0.150532\tvalid_0's binary_logloss: 0.150532\n",
            "[78]\tvalid_0's binary_logloss: 0.151561\tvalid_0's binary_logloss: 0.151561\n",
            "[79]\tvalid_0's binary_logloss: 0.154396\tvalid_0's binary_logloss: 0.154396\n",
            "[80]\tvalid_0's binary_logloss: 0.153586\tvalid_0's binary_logloss: 0.153586\n",
            "[81]\tvalid_0's binary_logloss: 0.155495\tvalid_0's binary_logloss: 0.155495\n",
            "[82]\tvalid_0's binary_logloss: 0.152818\tvalid_0's binary_logloss: 0.152818\n",
            "[83]\tvalid_0's binary_logloss: 0.152575\tvalid_0's binary_logloss: 0.152575\n",
            "[84]\tvalid_0's binary_logloss: 0.150995\tvalid_0's binary_logloss: 0.150995\n",
            "[85]\tvalid_0's binary_logloss: 0.151375\tvalid_0's binary_logloss: 0.151375\n",
            "[86]\tvalid_0's binary_logloss: 0.151645\tvalid_0's binary_logloss: 0.151645\n",
            "[87]\tvalid_0's binary_logloss: 0.151398\tvalid_0's binary_logloss: 0.151398\n",
            "[88]\tvalid_0's binary_logloss: 0.150073\tvalid_0's binary_logloss: 0.150073\n",
            "[89]\tvalid_0's binary_logloss: 0.15073\tvalid_0's binary_logloss: 0.15073\n",
            "[90]\tvalid_0's binary_logloss: 0.152582\tvalid_0's binary_logloss: 0.152582\n",
            "[91]\tvalid_0's binary_logloss: 0.153812\tvalid_0's binary_logloss: 0.153812\n",
            "[92]\tvalid_0's binary_logloss: 0.153787\tvalid_0's binary_logloss: 0.153787\n",
            "[93]\tvalid_0's binary_logloss: 0.155366\tvalid_0's binary_logloss: 0.155366\n",
            "[94]\tvalid_0's binary_logloss: 0.157845\tvalid_0's binary_logloss: 0.157845\n",
            "[95]\tvalid_0's binary_logloss: 0.15997\tvalid_0's binary_logloss: 0.15997\n",
            "[96]\tvalid_0's binary_logloss: 0.163996\tvalid_0's binary_logloss: 0.163996\n",
            "[97]\tvalid_0's binary_logloss: 0.161452\tvalid_0's binary_logloss: 0.161452\n",
            "[98]\tvalid_0's binary_logloss: 0.161617\tvalid_0's binary_logloss: 0.161617\n",
            "[99]\tvalid_0's binary_logloss: 0.159994\tvalid_0's binary_logloss: 0.159994\n",
            "[100]\tvalid_0's binary_logloss: 0.162621\tvalid_0's binary_logloss: 0.162621\n",
            "[101]\tvalid_0's binary_logloss: 0.166679\tvalid_0's binary_logloss: 0.166679\n",
            "[102]\tvalid_0's binary_logloss: 0.167446\tvalid_0's binary_logloss: 0.167446\n",
            "[103]\tvalid_0's binary_logloss: 0.169023\tvalid_0's binary_logloss: 0.169023\n",
            "[104]\tvalid_0's binary_logloss: 0.172761\tvalid_0's binary_logloss: 0.172761\n",
            "[105]\tvalid_0's binary_logloss: 0.175013\tvalid_0's binary_logloss: 0.175013\n",
            "[106]\tvalid_0's binary_logloss: 0.172616\tvalid_0's binary_logloss: 0.172616\n",
            "[107]\tvalid_0's binary_logloss: 0.174956\tvalid_0's binary_logloss: 0.174956\n",
            "[108]\tvalid_0's binary_logloss: 0.176735\tvalid_0's binary_logloss: 0.176735\n",
            "[109]\tvalid_0's binary_logloss: 0.17761\tvalid_0's binary_logloss: 0.17761\n",
            "[110]\tvalid_0's binary_logloss: 0.177979\tvalid_0's binary_logloss: 0.177979\n",
            "[111]\tvalid_0's binary_logloss: 0.177847\tvalid_0's binary_logloss: 0.177847\n",
            "[112]\tvalid_0's binary_logloss: 0.179914\tvalid_0's binary_logloss: 0.179914\n",
            "[113]\tvalid_0's binary_logloss: 0.18094\tvalid_0's binary_logloss: 0.18094\n",
            "[114]\tvalid_0's binary_logloss: 0.180924\tvalid_0's binary_logloss: 0.180924\n",
            "[115]\tvalid_0's binary_logloss: 0.1792\tvalid_0's binary_logloss: 0.1792\n",
            "[116]\tvalid_0's binary_logloss: 0.180722\tvalid_0's binary_logloss: 0.180722\n",
            "[117]\tvalid_0's binary_logloss: 0.184379\tvalid_0's binary_logloss: 0.184379\n",
            "[118]\tvalid_0's binary_logloss: 0.18551\tvalid_0's binary_logloss: 0.18551\n",
            "[119]\tvalid_0's binary_logloss: 0.187117\tvalid_0's binary_logloss: 0.187117\n",
            "[120]\tvalid_0's binary_logloss: 0.189498\tvalid_0's binary_logloss: 0.189498\n",
            "[121]\tvalid_0's binary_logloss: 0.192967\tvalid_0's binary_logloss: 0.192967\n",
            "[122]\tvalid_0's binary_logloss: 0.191742\tvalid_0's binary_logloss: 0.191742\n",
            "[123]\tvalid_0's binary_logloss: 0.194398\tvalid_0's binary_logloss: 0.194398\n",
            "[124]\tvalid_0's binary_logloss: 0.196132\tvalid_0's binary_logloss: 0.196132\n",
            "[125]\tvalid_0's binary_logloss: 0.200755\tvalid_0's binary_logloss: 0.200755\n",
            "[126]\tvalid_0's binary_logloss: 0.203556\tvalid_0's binary_logloss: 0.203556\n",
            "[127]\tvalid_0's binary_logloss: 0.20282\tvalid_0's binary_logloss: 0.20282\n",
            "[128]\tvalid_0's binary_logloss: 0.207215\tvalid_0's binary_logloss: 0.207215\n",
            "[129]\tvalid_0's binary_logloss: 0.20521\tvalid_0's binary_logloss: 0.20521\n",
            "[130]\tvalid_0's binary_logloss: 0.207622\tvalid_0's binary_logloss: 0.207622\n",
            "[131]\tvalid_0's binary_logloss: 0.209459\tvalid_0's binary_logloss: 0.209459\n",
            "[132]\tvalid_0's binary_logloss: 0.211173\tvalid_0's binary_logloss: 0.211173\n",
            "[133]\tvalid_0's binary_logloss: 0.212202\tvalid_0's binary_logloss: 0.212202\n",
            "[134]\tvalid_0's binary_logloss: 0.210216\tvalid_0's binary_logloss: 0.210216\n",
            "[135]\tvalid_0's binary_logloss: 0.213647\tvalid_0's binary_logloss: 0.213647\n",
            "[136]\tvalid_0's binary_logloss: 0.215806\tvalid_0's binary_logloss: 0.215806\n",
            "[137]\tvalid_0's binary_logloss: 0.217945\tvalid_0's binary_logloss: 0.217945\n",
            "[138]\tvalid_0's binary_logloss: 0.216269\tvalid_0's binary_logloss: 0.216269\n",
            "[139]\tvalid_0's binary_logloss: 0.217184\tvalid_0's binary_logloss: 0.217184\n",
            "[140]\tvalid_0's binary_logloss: 0.220469\tvalid_0's binary_logloss: 0.220469\n",
            "[141]\tvalid_0's binary_logloss: 0.225041\tvalid_0's binary_logloss: 0.225041\n",
            "[142]\tvalid_0's binary_logloss: 0.227988\tvalid_0's binary_logloss: 0.227988\n",
            "Early stopping, best iteration is:\n",
            "[42]\tvalid_0's binary_logloss: 0.134484\tvalid_0's binary_logloss: 0.134484\n"
          ]
        }
      ]
    },
    {
      "cell_type": "code",
      "source": [
        "from sklearn.metrics import confusion_matrix, accuracy_score, precision_score, recall_score\n",
        "from sklearn.metrics import f1_score, roc_auc_score\n",
        "\n",
        "def get_clf_eval(y_test, pred = None, pred_proba = None):\n",
        "  confusion = confusion_matrix(y_test, pred)\n",
        "  accuracy = accuracy_score(y_test, pred)\n",
        "  precision = precision_score(y_test, pred)\n",
        "  recall = recall_score(y_test, pred)\n",
        "  f1 = f1_score(y_test, pred)\n",
        "  roc_auc = roc_auc_score(y_test, pred_proba)\n",
        "  print('오차 행렬')\n",
        "  print(confusion)\n",
        "  # ROC-AUC print 추가\n",
        "  print('정확도: {0:.4f}, 정밀도: {1:.4f}, 재현율: {2:.4f},\\\n",
        "  F1: {3:.4f}, AUC:{4:.4f}'.format(accuracy, precision, recall, f1, roc_auc))\n",
        "\n",
        "get_clf_eval(y_test, preds, pred_proba)"
      ],
      "metadata": {
        "colab": {
          "base_uri": "https://localhost:8080/"
        },
        "id": "otXa7-i-wPZZ",
        "outputId": "a01fe3b1-1135-40f6-8190-bf281d86c7a9"
      },
      "execution_count": null,
      "outputs": [
        {
          "output_type": "stream",
          "name": "stdout",
          "text": [
            "오차 행렬\n",
            "[[37  4]\n",
            " [ 1 72]]\n",
            "정확도: 0.9561, 정밀도: 0.9474, 재현율: 0.9863,  F1: 0.9664, AUC:0.9886\n"
          ]
        }
      ]
    },
    {
      "cell_type": "code",
      "source": [
        "from lightgbm import plot_importance\n",
        "import matplotlib.pyplot as plt\n",
        "%matplotlib inline\n",
        "\n",
        "fig, ax = plt.subplots(figsize = (10,12))\n",
        "plot_importance(lgbm_wrapper, ax = ax)"
      ],
      "metadata": {
        "colab": {
          "base_uri": "https://localhost:8080/",
          "height": 748
        },
        "id": "09gUL0ZHxBRq",
        "outputId": "b6e21d66-cd91-4d8c-e52e-bb0040f048be"
      },
      "execution_count": null,
      "outputs": [
        {
          "output_type": "execute_result",
          "data": {
            "text/plain": [
              "<matplotlib.axes._subplots.AxesSubplot at 0x7f7417f6b710>"
            ]
          },
          "metadata": {},
          "execution_count": 3
        },
        {
          "output_type": "display_data",
          "data": {
            "text/plain": [
              "<Figure size 720x864 with 1 Axes>"
            ],
            "image/png": "[encoded data removed]"
          },
          "metadata": {
            "needs_background": "light"
          }
        }
      ]
    },
    {
      "cell_type": "markdown",
      "source": [
        "# 분류실습 - 산탄데르 고객 만족도 예측"
      ],
      "metadata": {
        "id": "YUacw0tM6H1N"
      }
    },
    {
      "cell_type": "markdown",
      "source": [
        "## 데이터 전처리 "
      ],
      "metadata": {
        "id": "G9kAo0uU6Mfj"
      }
    },
    {
      "cell_type": "code",
      "source": [
        "import numpy as np\n",
        "import pandas as pd\n",
        "import matplotlib.pyplot as plt\n",
        "import matplotlib\n",
        "\n",
        "cust_df = pd.read_csv(\"/content/drive/MyDrive/datasets/santander-customer-satisfaction/train.csv\", encoding = 'latin-1')\n",
        "print(\"dataset shape :\", cust_df.shape)\n",
        "cust_df.head()"
      ],
      "metadata": {
        "colab": {
          "base_uri": "https://localhost:8080/",
          "height": 318
        },
        "id": "_5FQY9d-6PrM",
        "outputId": "6cb1989b-9418-4506-cc19-5fc2db44b621"
      },
      "execution_count": null,
      "outputs": [
        {
          "output_type": "stream",
          "name": "stdout",
          "text": [
            "dataset shape : (76020, 371)\n"
          ]
        },
        {
          "output_type": "execute_result",
          "data": {
            "text/plain": [
              "   ID  var3  var15  imp_ent_var16_ult1  imp_op_var39_comer_ult1  \\\n",
              "0   1     2     23                 0.0                      0.0   \n",
              "1   3     2     34                 0.0                      0.0   \n",
              "2   4     2     23                 0.0                      0.0   \n",
              "3   8     2     37                 0.0                    195.0   \n",
              "4  10     2     39                 0.0                      0.0   \n",
              "\n",
              "   imp_op_var39_comer_ult3  imp_op_var40_comer_ult1  imp_op_var40_comer_ult3  \\\n",
              "0                      0.0                      0.0                      0.0   \n",
              "1                      0.0                      0.0                      0.0   \n",
              "2                      0.0                      0.0                      0.0   \n",
              "3                    195.0                      0.0                      0.0   \n",
              "4                      0.0                      0.0                      0.0   \n",
              "\n",
              "   imp_op_var40_efect_ult1  imp_op_var40_efect_ult3  ...  \\\n",
              "0                      0.0                      0.0  ...   \n",
              "1                      0.0                      0.0  ...   \n",
              "2                      0.0                      0.0  ...   \n",
              "3                      0.0                      0.0  ...   \n",
              "4                      0.0                      0.0  ...   \n",
              "\n",
              "   saldo_medio_var33_hace2  saldo_medio_var33_hace3  saldo_medio_var33_ult1  \\\n",
              "0                      0.0                      0.0                     0.0   \n",
              "1                      0.0                      0.0                     0.0   \n",
              "2                      0.0                      0.0                     0.0   \n",
              "3                      0.0                      0.0                     0.0   \n",
              "4                      0.0                      0.0                     0.0   \n",
              "\n",
              "   saldo_medio_var33_ult3  saldo_medio_var44_hace2  saldo_medio_var44_hace3  \\\n",
              "0                     0.0                      0.0                      0.0   \n",
              "1                     0.0                      0.0                      0.0   \n",
              "2                     0.0                      0.0                      0.0   \n",
              "3                     0.0                      0.0                      0.0   \n",
              "4                     0.0                      0.0                      0.0   \n",
              "\n",
              "   saldo_medio_var44_ult1  saldo_medio_var44_ult3          var38  TARGET  \n",
              "0                     0.0                     0.0   39205.170000       0  \n",
              "1                     0.0                     0.0   49278.030000       0  \n",
              "2                     0.0                     0.0   67333.770000       0  \n",
              "3                     0.0                     0.0   64007.970000       0  \n",
              "4                     0.0                     0.0  117310.979016       0  \n",
              "\n",
              "[5 rows x 371 columns]"
            ],
            "text/html": [
              "\n",
              "  <div id=\"df-d6a5074d-2a99-42af-a558-5776aa6c8b63\">\n",
              "    <div class=\"colab-df-container\">\n",
              "      <div>\n",
              "<style scoped>\n",
              "    .dataframe tbody tr th:only-of-type {\n",
              "        vertical-align: middle;\n",
              "    }\n",
              "\n",
              "    .dataframe tbody tr th {\n",
              "        vertical-align: top;\n",
              "    }\n",
              "\n",
              "    .dataframe thead th {\n",
              "        text-align: right;\n",
              "    }\n",
              "</style>\n",
              "<table border=\"1\" class=\"dataframe\">\n",
              "  <thead>\n",
              "    <tr style=\"text-align: right;\">\n",
              "      <th></th>\n",
              "      <th>ID</th>\n",
              "      <th>var3</th>\n",
              "      <th>var15</th>\n",
              "      <th>imp_ent_var16_ult1</th>\n",
              "      <th>imp_op_var39_comer_ult1</th>\n",
              "      <th>imp_op_var39_comer_ult3</th>\n",
              "      <th>imp_op_var40_comer_ult1</th>\n",
              "      <th>imp_op_var40_comer_ult3</th>\n",
              "      <th>imp_op_var40_efect_ult1</th>\n",
              "      <th>imp_op_var40_efect_ult3</th>\n",
              "      <th>...</th>\n",
              "      <th>saldo_medio_var33_hace2</th>\n",
              "      <th>saldo_medio_var33_hace3</th>\n",
              "      <th>saldo_medio_var33_ult1</th>\n",
              "      <th>saldo_medio_var33_ult3</th>\n",
              "      <th>saldo_medio_var44_hace2</th>\n",
              "      <th>saldo_medio_var44_hace3</th>\n",
              "      <th>saldo_medio_var44_ult1</th>\n",
              "      <th>saldo_medio_var44_ult3</th>\n",
              "      <th>var38</th>\n",
              "      <th>TARGET</th>\n",
              "    </tr>\n",
              "  </thead>\n",
              "  <tbody>\n",
              "    <tr>\n",
              "      <th>0</th>\n",
              "      <td>1</td>\n",
              "      <td>2</td>\n",
              "      <td>23</td>\n",
              "      <td>0.0</td>\n",
              "      <td>0.0</td>\n",
              "      <td>0.0</td>\n",
              "      <td>0.0</td>\n",
              "      <td>0.0</td>\n",
              "      <td>0.0</td>\n",
              "      <td>0.0</td>\n",
              "      <td>...</td>\n",
              "      <td>0.0</td>\n",
              "      <td>0.0</td>\n",
              "      <td>0.0</td>\n",
              "      <td>0.0</td>\n",
              "      <td>0.0</td>\n",
              "      <td>0.0</td>\n",
              "      <td>0.0</td>\n",
              "      <td>0.0</td>\n",
              "      <td>39205.170000</td>\n",
              "      <td>0</td>\n",
              "    </tr>\n",
              "    <tr>\n",
              "      <th>1</th>\n",
              "      <td>3</td>\n",
              "      <td>2</td>\n",
              "      <td>34</td>\n",
              "      <td>0.0</td>\n",
              "      <td>0.0</td>\n",
              "      <td>0.0</td>\n",
              "      <td>0.0</td>\n",
              "      <td>0.0</td>\n",
              "      <td>0.0</td>\n",
              "      <td>0.0</td>\n",
              "      <td>...</td>\n",
              "      <td>0.0</td>\n",
              "      <td>0.0</td>\n",
              "      <td>0.0</td>\n",
              "      <td>0.0</td>\n",
              "      <td>0.0</td>\n",
              "      <td>0.0</td>\n",
              "      <td>0.0</td>\n",
              "      <td>0.0</td>\n",
              "      <td>49278.030000</td>\n",
              "      <td>0</td>\n",
              "    </tr>\n",
              "    <tr>\n",
              "      <th>2</th>\n",
              "      <td>4</td>\n",
              "      <td>2</td>\n",
              "      <td>23</td>\n",
              "      <td>0.0</td>\n",
              "      <td>0.0</td>\n",
              "      <td>0.0</td>\n",
              "      <td>0.0</td>\n",
              "      <td>0.0</td>\n",
              "      <td>0.0</td>\n",
              "      <td>0.0</td>\n",
              "      <td>...</td>\n",
              "      <td>0.0</td>\n",
              "      <td>0.0</td>\n",
              "      <td>0.0</td>\n",
              "      <td>0.0</td>\n",
              "      <td>0.0</td>\n",
              "      <td>0.0</td>\n",
              "      <td>0.0</td>\n",
              "      <td>0.0</td>\n",
              "      <td>67333.770000</td>\n",
              "      <td>0</td>\n",
              "    </tr>\n",
              "    <tr>\n",
              "      <th>3</th>\n",
              "      <td>8</td>\n",
              "      <td>2</td>\n",
              "      <td>37</td>\n",
              "      <td>0.0</td>\n",
              "      <td>195.0</td>\n",
              "      <td>195.0</td>\n",
              "      <td>0.0</td>\n",
              "      <td>0.0</td>\n",
              "      <td>0.0</td>\n",
              "      <td>0.0</td>\n",
              "      <td>...</td>\n",
              "      <td>0.0</td>\n",
              "      <td>0.0</td>\n",
              "      <td>0.0</td>\n",
              "      <td>0.0</td>\n",
              "      <td>0.0</td>\n",
              "      <td>0.0</td>\n",
              "      <td>0.0</td>\n",
              "      <td>0.0</td>\n",
              "      <td>64007.970000</td>\n",
              "      <td>0</td>\n",
              "    </tr>\n",
              "    <tr>\n",
              "      <th>4</th>\n",
              "      <td>10</td>\n",
              "      <td>2</td>\n",
              "      <td>39</td>\n",
              "      <td>0.0</td>\n",
              "      <td>0.0</td>\n",
              "      <td>0.0</td>\n",
              "      <td>0.0</td>\n",
              "      <td>0.0</td>\n",
              "      <td>0.0</td>\n",
              "      <td>0.0</td>\n",
              "      <td>...</td>\n",
              "      <td>0.0</td>\n",
              "      <td>0.0</td>\n",
              "      <td>0.0</td>\n",
              "      <td>0.0</td>\n",
              "      <td>0.0</td>\n",
              "      <td>0.0</td>\n",
              "      <td>0.0</td>\n",
              "      <td>0.0</td>\n",
              "      <td>117310.979016</td>\n",
              "      <td>0</td>\n",
              "    </tr>\n",
              "  </tbody>\n",
              "</table>\n",
              "<p>5 rows × 371 columns</p>\n",
              "</div>\n",
              "      <button class=\"colab-df-convert\" onclick=\"convertToInteractive('df-d6a5074d-2a99-42af-a558-5776aa6c8b63')\"\n",
              "              title=\"Convert this dataframe to an interactive table.\"\n",
              "              style=\"display:none;\">\n",
              "        \n",
              "  <svg xmlns=\"http://www.w3.org/2000/svg\" height=\"24px\"viewBox=\"0 0 24 24\"\n",
              "       width=\"24px\">\n",
              "    <path d=\"M0 0h24v24H0V0z\" fill=\"none\"/>\n",
              "    <path d=\"M18.56 5.44l.94 2.06.94-2.06 2.06-.94-2.06-.94-.94-2.06-.94 2.06-2.06.94zm-11 1L8.5 8.5l.94-2.06 2.06-.94-2.06-.94L8.5 2.5l-.94 2.06-2.06.94zm10 10l.94 2.06.94-2.06 2.06-.94-2.06-.94-.94-2.06-.94 2.06-2.06.94z\"/><path d=\"M17.41 7.96l-1.37-1.37c-.4-.4-.92-.59-1.43-.59-.52 0-1.04.2-1.43.59L10.3 9.45l-7.72 7.72c-.78.78-.78 2.05 0 2.83L4 21.41c.39.39.9.59 1.41.59.51 0 1.02-.2 1.41-.59l7.78-7.78 2.81-2.81c.8-.78.8-2.07 0-2.86zM5.41 20L4 18.59l7.72-7.72 1.47 1.35L5.41 20z\"/>\n",
              "  </svg>\n",
              "      </button>\n",
              "      \n",
              "  <style>\n",
              "    .colab-df-container {\n",
              "      display:flex;\n",
              "      flex-wrap:wrap;\n",
              "      gap: 12px;\n",
              "    }\n",
              "\n",
              "    .colab-df-convert {\n",
              "      background-color: #E8F0FE;\n",
              "      border: none;\n",
              "      border-radius: 50%;\n",
              "      cursor: pointer;\n",
              "      display: none;\n",
              "      fill: #1967D2;\n",
              "      height: 32px;\n",
              "      padding: 0 0 0 0;\n",
              "      width: 32px;\n",
              "    }\n",
              "\n",
              "    .colab-df-convert:hover {\n",
              "      background-color: #E2EBFA;\n",
              "      box-shadow: 0px 1px 2px rgba(60, 64, 67, 0.3), 0px 1px 3px 1px rgba(60, 64, 67, 0.15);\n",
              "      fill: #174EA6;\n",
              "    }\n",
              "\n",
              "    [theme=dark] .colab-df-convert {\n",
              "      background-color: #3B4455;\n",
              "      fill: #D2E3FC;\n",
              "    }\n",
              "\n",
              "    [theme=dark] .colab-df-convert:hover {\n",
              "      background-color: #434B5C;\n",
              "      box-shadow: 0px 1px 3px 1px rgba(0, 0, 0, 0.15);\n",
              "      filter: drop-shadow(0px 1px 2px rgba(0, 0, 0, 0.3));\n",
              "      fill: #FFFFFF;\n",
              "    }\n",
              "  </style>\n",
              "\n",
              "      <script>\n",
              "        const buttonEl =\n",
              "          document.querySelector('#df-d6a5074d-2a99-42af-a558-5776aa6c8b63 button.colab-df-convert');\n",
              "        buttonEl.style.display =\n",
              "          google.colab.kernel.accessAllowed ? 'block' : 'none';\n",
              "\n",
              "        async function convertToInteractive(key) {\n",
              "          const element = document.querySelector('#df-d6a5074d-2a99-42af-a558-5776aa6c8b63');\n",
              "          const dataTable =\n",
              "            await google.colab.kernel.invokeFunction('convertToInteractive',\n",
              "                                                     [key], {});\n",
              "          if (!dataTable) return;\n",
              "\n",
              "          const docLinkHtml = 'Like what you see? Visit the ' +\n",
              "            '<a target=\"_blank\" href=https://colab.research.google.com/notebooks/data_table.ipynb>data table notebook</a>'\n",
              "            + ' to learn more about interactive tables.';\n",
              "          element.innerHTML = '';\n",
              "          dataTable['output_type'] = 'display_data';\n",
              "          await google.colab.output.renderOutput(dataTable, element);\n",
              "          const docLink = document.createElement('div');\n",
              "          docLink.innerHTML = docLinkHtml;\n",
              "          element.appendChild(docLink);\n",
              "        }\n",
              "      </script>\n",
              "    </div>\n",
              "  </div>\n",
              "  "
            ]
          },
          "metadata": {},
          "execution_count": 11
        }
      ]
    },
    {
      "cell_type": "code",
      "source": [
        "cust_df.info()"
      ],
      "metadata": {
        "colab": {
          "base_uri": "https://localhost:8080/"
        },
        "id": "Mu8CwCnn60ih",
        "outputId": "14f0d556-5dfc-47ce-a772-9a1f8fdd7f43"
      },
      "execution_count": null,
      "outputs": [
        {
          "output_type": "stream",
          "name": "stdout",
          "text": [
            "<class 'pandas.core.frame.DataFrame'>\n",
            "RangeIndex: 76020 entries, 0 to 76019\n",
            "Columns: 371 entries, ID to TARGET\n",
            "dtypes: float64(111), int64(260)\n",
            "memory usage: 215.2 MB\n"
          ]
        }
      ]
    },
    {
      "cell_type": "code",
      "source": [
        "print(cust_df['TARGET'].value_counts())\n",
        "unsatisfied_cnt = cust_df[cust_df['TARGET']==1].TARGET.count()\n",
        "total_cnt = cust_df.TARGET.count()\n",
        "print(\"unsatifisfied의 비율 : {0:4f}\".format((unsatisfied_cnt/total_cnt)))"
      ],
      "metadata": {
        "colab": {
          "base_uri": "https://localhost:8080/"
        },
        "id": "PaJkfilY64AK",
        "outputId": "5a00d874-e740-4ef4-8e61-8a7f483aa3a0"
      },
      "execution_count": null,
      "outputs": [
        {
          "output_type": "stream",
          "name": "stdout",
          "text": [
            "0    73012\n",
            "1     3008\n",
            "Name: TARGET, dtype: int64\n",
            "unsatifisfied의 비율 : 0.039569\n"
          ]
        }
      ]
    },
    {
      "cell_type": "markdown",
      "source": [
        "불만족과 만족의 비율이 불균형적! 불만족의 비율 : 약 4%"
      ],
      "metadata": {
        "id": "S3HsCl-p7TGc"
      }
    },
    {
      "cell_type": "code",
      "source": [
        "cust_df.describe()"
      ],
      "metadata": {
        "colab": {
          "base_uri": "https://localhost:8080/",
          "height": 394
        },
        "id": "XiD7YwFQ7anC",
        "outputId": "08c36c9f-aecc-454c-9d89-6b0761c4d0e0"
      },
      "execution_count": null,
      "outputs": [
        {
          "output_type": "execute_result",
          "data": {
            "text/plain": [
              "                  ID           var3         var15  imp_ent_var16_ult1  \\\n",
              "count   76020.000000   76020.000000  76020.000000        76020.000000   \n",
              "mean    75964.050723   -1523.199277     33.212865           86.208265   \n",
              "std     43781.947379   39033.462364     12.956486         1614.757313   \n",
              "min         1.000000 -999999.000000      5.000000            0.000000   \n",
              "25%     38104.750000       2.000000     23.000000            0.000000   \n",
              "50%     76043.000000       2.000000     28.000000            0.000000   \n",
              "75%    113748.750000       2.000000     40.000000            0.000000   \n",
              "max    151838.000000     238.000000    105.000000       210000.000000   \n",
              "\n",
              "       imp_op_var39_comer_ult1  imp_op_var39_comer_ult3  \\\n",
              "count             76020.000000             76020.000000   \n",
              "mean                 72.363067               119.529632   \n",
              "std                 339.315831               546.266294   \n",
              "min                   0.000000                 0.000000   \n",
              "25%                   0.000000                 0.000000   \n",
              "50%                   0.000000                 0.000000   \n",
              "75%                   0.000000                 0.000000   \n",
              "max               12888.030000             21024.810000   \n",
              "\n",
              "       imp_op_var40_comer_ult1  imp_op_var40_comer_ult3  \\\n",
              "count             76020.000000             76020.000000   \n",
              "mean                  3.559130                 6.472698   \n",
              "std                  93.155749               153.737066   \n",
              "min                   0.000000                 0.000000   \n",
              "25%                   0.000000                 0.000000   \n",
              "50%                   0.000000                 0.000000   \n",
              "75%                   0.000000                 0.000000   \n",
              "max                8237.820000             11073.570000   \n",
              "\n",
              "       imp_op_var40_efect_ult1  imp_op_var40_efect_ult3  ...  \\\n",
              "count             76020.000000             76020.000000  ...   \n",
              "mean                  0.412946                 0.567352  ...   \n",
              "std                  30.604864                36.513513  ...   \n",
              "min                   0.000000                 0.000000  ...   \n",
              "25%                   0.000000                 0.000000  ...   \n",
              "50%                   0.000000                 0.000000  ...   \n",
              "75%                   0.000000                 0.000000  ...   \n",
              "max                6600.000000              6600.000000  ...   \n",
              "\n",
              "       saldo_medio_var33_hace2  saldo_medio_var33_hace3  \\\n",
              "count             76020.000000             76020.000000   \n",
              "mean                  7.935824                 1.365146   \n",
              "std                 455.887218               113.959637   \n",
              "min                   0.000000                 0.000000   \n",
              "25%                   0.000000                 0.000000   \n",
              "50%                   0.000000                 0.000000   \n",
              "75%                   0.000000                 0.000000   \n",
              "max               50003.880000             20385.720000   \n",
              "\n",
              "       saldo_medio_var33_ult1  saldo_medio_var33_ult3  \\\n",
              "count            76020.000000            76020.000000   \n",
              "mean                12.215580                8.784074   \n",
              "std                783.207399              538.439211   \n",
              "min                  0.000000                0.000000   \n",
              "25%                  0.000000                0.000000   \n",
              "50%                  0.000000                0.000000   \n",
              "75%                  0.000000                0.000000   \n",
              "max             138831.630000            91778.730000   \n",
              "\n",
              "       saldo_medio_var44_hace2  saldo_medio_var44_hace3  \\\n",
              "count             76020.000000             76020.000000   \n",
              "mean                 31.505324                 1.858575   \n",
              "std                2013.125393               147.786584   \n",
              "min                   0.000000                 0.000000   \n",
              "25%                   0.000000                 0.000000   \n",
              "50%                   0.000000                 0.000000   \n",
              "75%                   0.000000                 0.000000   \n",
              "max              438329.220000             24650.010000   \n",
              "\n",
              "       saldo_medio_var44_ult1  saldo_medio_var44_ult3         var38  \\\n",
              "count            76020.000000            76020.000000  7.602000e+04   \n",
              "mean                76.026165               56.614351  1.172358e+05   \n",
              "std               4040.337842             2852.579397  1.826646e+05   \n",
              "min                  0.000000                0.000000  5.163750e+03   \n",
              "25%                  0.000000                0.000000  6.787061e+04   \n",
              "50%                  0.000000                0.000000  1.064092e+05   \n",
              "75%                  0.000000                0.000000  1.187563e+05   \n",
              "max             681462.900000           397884.300000  2.203474e+07   \n",
              "\n",
              "             TARGET  \n",
              "count  76020.000000  \n",
              "mean       0.039569  \n",
              "std        0.194945  \n",
              "min        0.000000  \n",
              "25%        0.000000  \n",
              "50%        0.000000  \n",
              "75%        0.000000  \n",
              "max        1.000000  \n",
              "\n",
              "[8 rows x 371 columns]"
            ],
            "text/html": [
              "\n",
              "  <div id=\"df-aa2f54b2-baab-4efe-a4d4-c4ce6b77565f\">\n",
              "    <div class=\"colab-df-container\">\n",
              "      <div>\n",
              "<style scoped>\n",
              "    .dataframe tbody tr th:only-of-type {\n",
              "        vertical-align: middle;\n",
              "    }\n",
              "\n",
              "    .dataframe tbody tr th {\n",
              "        vertical-align: top;\n",
              "    }\n",
              "\n",
              "    .dataframe thead th {\n",
              "        text-align: right;\n",
              "    }\n",
              "</style>\n",
              "<table border=\"1\" class=\"dataframe\">\n",
              "  <thead>\n",
              "    <tr style=\"text-align: right;\">\n",
              "      <th></th>\n",
              "      <th>ID</th>\n",
              "      <th>var3</th>\n",
              "      <th>var15</th>\n",
              "      <th>imp_ent_var16_ult1</th>\n",
              "      <th>imp_op_var39_comer_ult1</th>\n",
              "      <th>imp_op_var39_comer_ult3</th>\n",
              "      <th>imp_op_var40_comer_ult1</th>\n",
              "      <th>imp_op_var40_comer_ult3</th>\n",
              "      <th>imp_op_var40_efect_ult1</th>\n",
              "      <th>imp_op_var40_efect_ult3</th>\n",
              "      <th>...</th>\n",
              "      <th>saldo_medio_var33_hace2</th>\n",
              "      <th>saldo_medio_var33_hace3</th>\n",
              "      <th>saldo_medio_var33_ult1</th>\n",
              "      <th>saldo_medio_var33_ult3</th>\n",
              "      <th>saldo_medio_var44_hace2</th>\n",
              "      <th>saldo_medio_var44_hace3</th>\n",
              "      <th>saldo_medio_var44_ult1</th>\n",
              "      <th>saldo_medio_var44_ult3</th>\n",
              "      <th>var38</th>\n",
              "      <th>TARGET</th>\n",
              "    </tr>\n",
              "  </thead>\n",
              "  <tbody>\n",
              "    <tr>\n",
              "      <th>count</th>\n",
              "      <td>76020.000000</td>\n",
              "      <td>76020.000000</td>\n",
              "      <td>76020.000000</td>\n",
              "      <td>76020.000000</td>\n",
              "      <td>76020.000000</td>\n",
              "      <td>76020.000000</td>\n",
              "      <td>76020.000000</td>\n",
              "      <td>76020.000000</td>\n",
              "      <td>76020.000000</td>\n",
              "      <td>76020.000000</td>\n",
              "      <td>...</td>\n",
              "      <td>76020.000000</td>\n",
              "      <td>76020.000000</td>\n",
              "      <td>76020.000000</td>\n",
              "      <td>76020.000000</td>\n",
              "      <td>76020.000000</td>\n",
              "      <td>76020.000000</td>\n",
              "      <td>76020.000000</td>\n",
              "      <td>76020.000000</td>\n",
              "      <td>7.602000e+04</td>\n",
              "      <td>76020.000000</td>\n",
              "    </tr>\n",
              "    <tr>\n",
              "      <th>mean</th>\n",
              "      <td>75964.050723</td>\n",
              "      <td>-1523.199277</td>\n",
              "      <td>33.212865</td>\n",
              "      <td>86.208265</td>\n",
              "      <td>72.363067</td>\n",
              "      <td>119.529632</td>\n",
              "      <td>3.559130</td>\n",
              "      <td>6.472698</td>\n",
              "      <td>0.412946</td>\n",
              "      <td>0.567352</td>\n",
              "      <td>...</td>\n",
              "      <td>7.935824</td>\n",
              "      <td>1.365146</td>\n",
              "      <td>12.215580</td>\n",
              "      <td>8.784074</td>\n",
              "      <td>31.505324</td>\n",
              "      <td>1.858575</td>\n",
              "      <td>76.026165</td>\n",
              "      <td>56.614351</td>\n",
              "      <td>1.172358e+05</td>\n",
              "      <td>0.039569</td>\n",
              "    </tr>\n",
              "    <tr>\n",
              "      <th>std</th>\n",
              "      <td>43781.947379</td>\n",
              "      <td>39033.462364</td>\n",
              "      <td>12.956486</td>\n",
              "      <td>1614.757313</td>\n",
              "      <td>339.315831</td>\n",
              "      <td>546.266294</td>\n",
              "      <td>93.155749</td>\n",
              "      <td>153.737066</td>\n",
              "      <td>30.604864</td>\n",
              "      <td>36.513513</td>\n",
              "      <td>...</td>\n",
              "      <td>455.887218</td>\n",
              "      <td>113.959637</td>\n",
              "      <td>783.207399</td>\n",
              "      <td>538.439211</td>\n",
              "      <td>2013.125393</td>\n",
              "      <td>147.786584</td>\n",
              "      <td>4040.337842</td>\n",
              "      <td>2852.579397</td>\n",
              "      <td>1.826646e+05</td>\n",
              "      <td>0.194945</td>\n",
              "    </tr>\n",
              "    <tr>\n",
              "      <th>min</th>\n",
              "      <td>1.000000</td>\n",
              "      <td>-999999.000000</td>\n",
              "      <td>5.000000</td>\n",
              "      <td>0.000000</td>\n",
              "      <td>0.000000</td>\n",
              "      <td>0.000000</td>\n",
              "      <td>0.000000</td>\n",
              "      <td>0.000000</td>\n",
              "      <td>0.000000</td>\n",
              "      <td>0.000000</td>\n",
              "      <td>...</td>\n",
              "      <td>0.000000</td>\n",
              "      <td>0.000000</td>\n",
              "      <td>0.000000</td>\n",
              "      <td>0.000000</td>\n",
              "      <td>0.000000</td>\n",
              "      <td>0.000000</td>\n",
              "      <td>0.000000</td>\n",
              "      <td>0.000000</td>\n",
              "      <td>5.163750e+03</td>\n",
              "      <td>0.000000</td>\n",
              "    </tr>\n",
              "    <tr>\n",
              "      <th>25%</th>\n",
              "      <td>38104.750000</td>\n",
              "      <td>2.000000</td>\n",
              "      <td>23.000000</td>\n",
              "      <td>0.000000</td>\n",
              "      <td>0.000000</td>\n",
              "      <td>0.000000</td>\n",
              "      <td>0.000000</td>\n",
              "      <td>0.000000</td>\n",
              "      <td>0.000000</td>\n",
              "      <td>0.000000</td>\n",
              "      <td>...</td>\n",
              "      <td>0.000000</td>\n",
              "      <td>0.000000</td>\n",
              "      <td>0.000000</td>\n",
              "      <td>0.000000</td>\n",
              "      <td>0.000000</td>\n",
              "      <td>0.000000</td>\n",
              "      <td>0.000000</td>\n",
              "      <td>0.000000</td>\n",
              "      <td>6.787061e+04</td>\n",
              "      <td>0.000000</td>\n",
              "    </tr>\n",
              "    <tr>\n",
              "      <th>50%</th>\n",
              "      <td>76043.000000</td>\n",
              "      <td>2.000000</td>\n",
              "      <td>28.000000</td>\n",
              "      <td>0.000000</td>\n",
              "      <td>0.000000</td>\n",
              "      <td>0.000000</td>\n",
              "      <td>0.000000</td>\n",
              "      <td>0.000000</td>\n",
              "      <td>0.000000</td>\n",
              "      <td>0.000000</td>\n",
              "      <td>...</td>\n",
              "      <td>0.000000</td>\n",
              "      <td>0.000000</td>\n",
              "      <td>0.000000</td>\n",
              "      <td>0.000000</td>\n",
              "      <td>0.000000</td>\n",
              "      <td>0.000000</td>\n",
              "      <td>0.000000</td>\n",
              "      <td>0.000000</td>\n",
              "      <td>1.064092e+05</td>\n",
              "      <td>0.000000</td>\n",
              "    </tr>\n",
              "    <tr>\n",
              "      <th>75%</th>\n",
              "      <td>113748.750000</td>\n",
              "      <td>2.000000</td>\n",
              "      <td>40.000000</td>\n",
              "      <td>0.000000</td>\n",
              "      <td>0.000000</td>\n",
              "      <td>0.000000</td>\n",
              "      <td>0.000000</td>\n",
              "      <td>0.000000</td>\n",
              "      <td>0.000000</td>\n",
              "      <td>0.000000</td>\n",
              "      <td>...</td>\n",
              "      <td>0.000000</td>\n",
              "      <td>0.000000</td>\n",
              "      <td>0.000000</td>\n",
              "      <td>0.000000</td>\n",
              "      <td>0.000000</td>\n",
              "      <td>0.000000</td>\n",
              "      <td>0.000000</td>\n",
              "      <td>0.000000</td>\n",
              "      <td>1.187563e+05</td>\n",
              "      <td>0.000000</td>\n",
              "    </tr>\n",
              "    <tr>\n",
              "      <th>max</th>\n",
              "      <td>151838.000000</td>\n",
              "      <td>238.000000</td>\n",
              "      <td>105.000000</td>\n",
              "      <td>210000.000000</td>\n",
              "      <td>12888.030000</td>\n",
              "      <td>21024.810000</td>\n",
              "      <td>8237.820000</td>\n",
              "      <td>11073.570000</td>\n",
              "      <td>6600.000000</td>\n",
              "      <td>6600.000000</td>\n",
              "      <td>...</td>\n",
              "      <td>50003.880000</td>\n",
              "      <td>20385.720000</td>\n",
              "      <td>138831.630000</td>\n",
              "      <td>91778.730000</td>\n",
              "      <td>438329.220000</td>\n",
              "      <td>24650.010000</td>\n",
              "      <td>681462.900000</td>\n",
              "      <td>397884.300000</td>\n",
              "      <td>2.203474e+07</td>\n",
              "      <td>1.000000</td>\n",
              "    </tr>\n",
              "  </tbody>\n",
              "</table>\n",
              "<p>8 rows × 371 columns</p>\n",
              "</div>\n",
              "      <button class=\"colab-df-convert\" onclick=\"convertToInteractive('df-aa2f54b2-baab-4efe-a4d4-c4ce6b77565f')\"\n",
              "              title=\"Convert this dataframe to an interactive table.\"\n",
              "              style=\"display:none;\">\n",
              "        \n",
              "  <svg xmlns=\"http://www.w3.org/2000/svg\" height=\"24px\"viewBox=\"0 0 24 24\"\n",
              "       width=\"24px\">\n",
              "    <path d=\"M0 0h24v24H0V0z\" fill=\"none\"/>\n",
              "    <path d=\"M18.56 5.44l.94 2.06.94-2.06 2.06-.94-2.06-.94-.94-2.06-.94 2.06-2.06.94zm-11 1L8.5 8.5l.94-2.06 2.06-.94-2.06-.94L8.5 2.5l-.94 2.06-2.06.94zm10 10l.94 2.06.94-2.06 2.06-.94-2.06-.94-.94-2.06-.94 2.06-2.06.94z\"/><path d=\"M17.41 7.96l-1.37-1.37c-.4-.4-.92-.59-1.43-.59-.52 0-1.04.2-1.43.59L10.3 9.45l-7.72 7.72c-.78.78-.78 2.05 0 2.83L4 21.41c.39.39.9.59 1.41.59.51 0 1.02-.2 1.41-.59l7.78-7.78 2.81-2.81c.8-.78.8-2.07 0-2.86zM5.41 20L4 18.59l7.72-7.72 1.47 1.35L5.41 20z\"/>\n",
              "  </svg>\n",
              "      </button>\n",
              "      \n",
              "  <style>\n",
              "    .colab-df-container {\n",
              "      display:flex;\n",
              "      flex-wrap:wrap;\n",
              "      gap: 12px;\n",
              "    }\n",
              "\n",
              "    .colab-df-convert {\n",
              "      background-color: #E8F0FE;\n",
              "      border: none;\n",
              "      border-radius: 50%;\n",
              "      cursor: pointer;\n",
              "      display: none;\n",
              "      fill: #1967D2;\n",
              "      height: 32px;\n",
              "      padding: 0 0 0 0;\n",
              "      width: 32px;\n",
              "    }\n",
              "\n",
              "    .colab-df-convert:hover {\n",
              "      background-color: #E2EBFA;\n",
              "      box-shadow: 0px 1px 2px rgba(60, 64, 67, 0.3), 0px 1px 3px 1px rgba(60, 64, 67, 0.15);\n",
              "      fill: #174EA6;\n",
              "    }\n",
              "\n",
              "    [theme=dark] .colab-df-convert {\n",
              "      background-color: #3B4455;\n",
              "      fill: #D2E3FC;\n",
              "    }\n",
              "\n",
              "    [theme=dark] .colab-df-convert:hover {\n",
              "      background-color: #434B5C;\n",
              "      box-shadow: 0px 1px 3px 1px rgba(0, 0, 0, 0.15);\n",
              "      filter: drop-shadow(0px 1px 2px rgba(0, 0, 0, 0.3));\n",
              "      fill: #FFFFFF;\n",
              "    }\n",
              "  </style>\n",
              "\n",
              "      <script>\n",
              "        const buttonEl =\n",
              "          document.querySelector('#df-aa2f54b2-baab-4efe-a4d4-c4ce6b77565f button.colab-df-convert');\n",
              "        buttonEl.style.display =\n",
              "          google.colab.kernel.accessAllowed ? 'block' : 'none';\n",
              "\n",
              "        async function convertToInteractive(key) {\n",
              "          const element = document.querySelector('#df-aa2f54b2-baab-4efe-a4d4-c4ce6b77565f');\n",
              "          const dataTable =\n",
              "            await google.colab.kernel.invokeFunction('convertToInteractive',\n",
              "                                                     [key], {});\n",
              "          if (!dataTable) return;\n",
              "\n",
              "          const docLinkHtml = 'Like what you see? Visit the ' +\n",
              "            '<a target=\"_blank\" href=https://colab.research.google.com/notebooks/data_table.ipynb>data table notebook</a>'\n",
              "            + ' to learn more about interactive tables.';\n",
              "          element.innerHTML = '';\n",
              "          dataTable['output_type'] = 'display_data';\n",
              "          await google.colab.output.renderOutput(dataTable, element);\n",
              "          const docLink = document.createElement('div');\n",
              "          docLink.innerHTML = docLinkHtml;\n",
              "          element.appendChild(docLink);\n",
              "        }\n",
              "      </script>\n",
              "    </div>\n",
              "  </div>\n",
              "  "
            ]
          },
          "metadata": {},
          "execution_count": 7
        }
      ]
    },
    {
      "cell_type": "markdown",
      "source": [
        "var3의 min이 -999999인게 이상함 => NaN이나 특정 예외 값을 -999999로 변환한 것으로 보임 "
      ],
      "metadata": {
        "id": "vqJo01hX7eo1"
      }
    },
    {
      "cell_type": "code",
      "source": [
        "cust_df['var3'].value_counts()[:10]"
      ],
      "metadata": {
        "colab": {
          "base_uri": "https://localhost:8080/"
        },
        "id": "96N42EZs7cNC",
        "outputId": "7b3843dd-f25d-42bd-fd41-0728284e26b1"
      },
      "execution_count": null,
      "outputs": [
        {
          "output_type": "execute_result",
          "data": {
            "text/plain": [
              " 2         74165\n",
              " 8           138\n",
              "-999999      116\n",
              " 9           110\n",
              " 3           108\n",
              " 1           105\n",
              " 13           98\n",
              " 7            97\n",
              " 4            86\n",
              " 12           85\n",
              "Name: var3, dtype: int64"
            ]
          },
          "metadata": {},
          "execution_count": 8
        }
      ]
    },
    {
      "cell_type": "code",
      "source": [
        "cust_df['var3'].replace(-999999,2, inplace=True) # -999999를 가장 많은 2로 변환\n",
        "cust_df.drop('ID', axis = 1, inplace = True) # ID는 의미없으므로 제거\n",
        "\n",
        "X_features = cust_df.iloc[:,:-1]\n",
        "y_labels = cust_df.iloc[:,-1]\n",
        "print('피처 데이터 shape : {0}'.format(X_features.shape))"
      ],
      "metadata": {
        "colab": {
          "base_uri": "https://localhost:8080/"
        },
        "id": "42nm4mry77qR",
        "outputId": "b6370a8b-b802-492f-f194-5c4ec475a2b9"
      },
      "execution_count": null,
      "outputs": [
        {
          "output_type": "stream",
          "name": "stdout",
          "text": [
            "피처 데이터 shape : (76020, 369)\n"
          ]
        }
      ]
    },
    {
      "cell_type": "code",
      "source": [
        "from sklearn.model_selection import train_test_split\n",
        "X_train, X_test, y_train, y_test = train_test_split(X_features, y_labels, test_size = 0.2, random_state = 0)\n",
        "\n",
        "train_cnt = y_train.count()\n",
        "test_cnt = y_test.count()\n",
        "\n",
        "print(\"학습 세트 shape : {0}, 테스트 세트 shape : {1}\".format(X_train.shape, X_test.shape))\n",
        "\n",
        "print(\"학습 세트 레이블 값 분포 비율\")\n",
        "print(y_train.value_counts()/train_cnt)\n",
        "print(\"테스트 세트 레이블 값 분포 비율\")\n",
        "print(y_test.value_counts()/test_cnt)"
      ],
      "metadata": {
        "colab": {
          "base_uri": "https://localhost:8080/"
        },
        "id": "ZpfnSl6g8oHn",
        "outputId": "aa6a88eb-f5bd-49cf-bdd3-d85005ac64c9"
      },
      "execution_count": null,
      "outputs": [
        {
          "output_type": "stream",
          "name": "stdout",
          "text": [
            "학습 세트 shape : (60816, 369), 테스트 세트 shape : (15204, 369)\n",
            "학습 세트 레이블 값 분포 비율\n",
            "0    0.960964\n",
            "1    0.039036\n",
            "Name: TARGET, dtype: float64\n",
            "테스트 세트 레이블 값 분포 비율\n",
            "0    0.9583\n",
            "1    0.0417\n",
            "Name: TARGET, dtype: float64\n"
          ]
        }
      ]
    },
    {
      "cell_type": "markdown",
      "source": [
        "훈련, 테스트 데이터 레이블 분포 비율이 전체 데이터 분포 비율과 비슷하게 4% 정도임 "
      ],
      "metadata": {
        "id": "MpZ1jBLI9X0t"
      }
    },
    {
      "cell_type": "markdown",
      "source": [
        "## XGBoost 모델 학습과 하이퍼 파라미터 튜닝"
      ],
      "metadata": {
        "id": "R6-tag5-9i7c"
      }
    },
    {
      "cell_type": "code",
      "source": [],
      "metadata": {
        "id": "xR4mLa_T8rdF"
      },
      "execution_count": null,
      "outputs": []
    }
  ],
  "metadata": {
    "colab": {
      "provenance": [],
      "mount_file_id": "1OTizhXN3hbSSb_wmKDjlbEvK2KpQMfOO",
      "authorship_tag": "ABX9TyOw/tv/yfgfm9WK+zWLNUgb",
      "include_colab_link": true
    },
    "kernelspec": {
      "display_name": "Python 3",
      "name": "python3"
    },
    "language_info": {
      "name": "python"
    }
  },
  "nbformat": 4,
  "nbformat_minor": 0
}